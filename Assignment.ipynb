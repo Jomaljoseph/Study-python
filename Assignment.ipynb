{
 "cells": [
  {
   "cell_type": "markdown",
   "id": "2b87a7bf",
   "metadata": {},
   "source": [
    "1. Write a function called fizz buzz that takes a number.     \n",
    "  a. If the number is divisible by 3, it should return “Fizz”.    \n",
    "  b. If it is divisible by 5, it should return “Buzz”.     \n",
    "  c. If it is divisible by both 3 and 5, it should return “FizzBuzz”.     \n",
    "  d. Otherwise, it should return the same number.     "
   ]
  },
  {
   "cell_type": "code",
   "execution_count": null,
   "id": "cef2f694",
   "metadata": {},
   "outputs": [],
   "source": [
    "num=int(input('enter a number: '))\n",
    "def fizz_buzz(a):\n",
    "    if a%3==0 and a%5==0:\n",
    "        print('FizzBuzz')\n",
    "    elif a%3==0:\n",
    "        print('Fizz')\n",
    "    elif a%5==0:\n",
    "        print('Buzz')\n",
    "    else:\n",
    "        print(a)\n",
    "        \n",
    "fizz_buzz(num)"
   ]
  },
  {
   "cell_type": "markdown",
   "id": "e39a1433",
   "metadata": {},
   "source": [
    "2. Write a function for checking the speed of drivers. This function should have one      \n",
    "parameter: speed.     \n",
    "  a. If speed is less than 70, it should print “Ok”.       \n",
    "  b. Otherwise, for every 5km above the speed limit (70), it should give the driver one   \n",
    "     demerit point and print the total number of demerit points. For example, if the\n",
    "     speed is 80, it should print: “Points: 2”.      \n",
    "  c. If the driver gets more than 12 points, the function should print: “License\n",
    "     suspended”"
   ]
  },
  {
   "cell_type": "code",
   "execution_count": null,
   "id": "ba5b2d28",
   "metadata": {},
   "outputs": [],
   "source": [
    "speed=int(input('enter speed: '))\n",
    "def speeding(b):\n",
    "    if speed<=70:\n",
    "        print('OK')\n",
    "    for i in range(75,130):\n",
    "        if speed==i:\n",
    "            b1=(i-70)/5\n",
    "            print('points:',int(b1))\n",
    "    if speed>=130:\n",
    "        print('License suspended')\n",
    "          \n",
    "speeding(speed)"
   ]
  },
  {
   "cell_type": "markdown",
   "id": "f0381914",
   "metadata": {},
   "source": [
    "3. Write a function called show Numbers that takes a parameter called limit. It should print     \n",
    "all the numbers between 0 and limit with a label to identify the even and odd numbers. For         \n",
    "example, if the limit is 3, it should print:      \n",
    "   a. 0 EVEN                   \n",
    "   b. 1 ODD                    \n",
    "   c. 2 EVEN                   \n",
    "   d. 3 ODD                "
   ]
  },
  {
   "cell_type": "code",
   "execution_count": null,
   "id": "807e4f6f",
   "metadata": {},
   "outputs": [],
   "source": [
    "limit=int(input('enter a number: '))\n",
    "def show_Numbers(c):\n",
    "    for i in range(0,limit+1):\n",
    "        if i%2==0:\n",
    "            print(i,'EVEN')\n",
    "        elif i%2!=0:\n",
    "            print(i,'ODD')\n",
    "            \n",
    "show_Numbers(limit)"
   ]
  },
  {
   "cell_type": "markdown",
   "id": "769c4f41",
   "metadata": {},
   "source": [
    "4. Write a function that returns the sum of multiples of 3 and 5 between 0\n",
    "and limit (parameter).                   \n",
    "For example, if limit is 20, it should return the sum of 3, 5, 6, 9, 10,\n",
    "12, 15, 18, 20."
   ]
  },
  {
   "cell_type": "code",
   "execution_count": null,
   "id": "c2ff6734",
   "metadata": {},
   "outputs": [],
   "source": [
    "limit1=6\n",
    "def sum_mult(d):\n",
    "    d1=0\n",
    "    for i in range(0,limit1+1):\n",
    "        if i%3==0 or i%5==0:\n",
    "            d1+=i\n",
    "    return d1\n",
    "\n",
    "sum_mult(limit1)"
   ]
  },
  {
   "cell_type": "markdown",
   "id": "0a686d5a",
   "metadata": {},
   "source": [
    "5. write a python program for creating a quiz game in python"
   ]
  },
  {
   "cell_type": "code",
   "execution_count": null,
   "id": "e1e61d2f",
   "metadata": {},
   "outputs": [],
   "source": [
    "dict1={'1. find the sum of 2 and 5':'7',\n",
    "          '2. multiply 10 and 20':'200',\n",
    "          '3. divide 15 and 5':'3'}\n",
    "def quiz(e):\n",
    "    point=0\n",
    "    for i,j in dict1.items():\n",
    "        print(i)\n",
    "        ans1=input('answer: ')\n",
    "        if ans1==j:\n",
    "            point+=1\n",
    "        else:\n",
    "            point-=0.5\n",
    "    print('your point is: ',point)\n",
    "     \n",
    "quiz(dict1)"
   ]
  },
  {
   "cell_type": "markdown",
   "id": "a0b62485",
   "metadata": {},
   "source": [
    "# Assignment - 06"
   ]
  },
  {
   "cell_type": "markdown",
   "id": "0fdacf19",
   "metadata": {},
   "source": [
    "1. Cows and Bulls game                             \n",
    "The Problem                                 \n",
    "Create a Cows and Bulls game.                                       \n",
    "Hints                                                    \n",
    "The Cows and Bulls is a number guessing game. In this game, the user guesses a number.\n",
    "Usually, the number will be a 4 digit number. However, here we will try with 2 digits number\n",
    "first.\n",
    "So, if the user guesses the number correctly, he/she will win. If they didn’t guess the exact\n",
    "number, then you will calculate the bulls and cows.\n",
    "Let’s say the number is: 8529\n",
    "And your guess is: 3428\n",
    "If you guess any position digit currently, you will get a bull. For your guess, you didn’t match\n",
    "the first, second or the last digit. However, you guess the 3rd digit correctly. Hence your bulls\n",
    "will be 1.\n",
    "On the other hand, if one or more digits of the secret number exist in your guess, you will get\n",
    "a cow.\n",
    "In summary, if you matched the digit with the position, you will get a bull. On the other hand,\n",
    "if you have the digit in a different place, it will cows.\n",
    "In the above guess, you have 8 in the 4th position. The 8 exists in the secret number in a\n",
    "different location, that's why you will get 1 cow.\n",
    "Hence your score will be: Bulls: 1 Cows: 1\n",
    "Another example- Secret number: 4271 player's try: 1234 Answer: 1 bull and 2 cows. (The\n",
    "bull is \"2\", the cows are \"4\" and \"1\".)\n",
    "\n",
    "(you cant add 0 or cant repeat any numbers in the secret number or guessing number) "
   ]
  },
  {
   "cell_type": "code",
   "execution_count": 8,
   "id": "e3a7b3dc",
   "metadata": {},
   "outputs": [
    {
     "name": "stdout",
     "output_type": "stream",
     "text": [
      "enter the secret number: 6584\n",
      "enter your guessing: 1897\n",
      "0  bull and  1  cow.\n"
     ]
    }
   ],
   "source": [
    "secret_number=input('enter the secret number: ')\n",
    "def cow_bull(f):\n",
    "    bull=0\n",
    "    cow=0\n",
    "    flag=0\n",
    "    player=input('enter your guessing: ')\n",
    "    for j in range(0,4):\n",
    "        if player[j]==f[j]:\n",
    "            bull+=1\n",
    "    for k in f:\n",
    "        if k in player:\n",
    "            flag=1\n",
    "        else:\n",
    "            flag=0\n",
    "        if flag==1:\n",
    "            cow+=1\n",
    "    cow=cow-bull\n",
    "    print(bull,' bull and ',cow,' cow.')\n",
    "\n",
    "cow_bull(secret_number)"
   ]
  },
  {
   "cell_type": "code",
   "execution_count": null,
   "id": "ba5c2a28",
   "metadata": {},
   "outputs": [],
   "source": []
  }
 ],
 "metadata": {
  "kernelspec": {
   "display_name": "Python 3 (ipykernel)",
   "language": "python",
   "name": "python3"
  },
  "language_info": {
   "codemirror_mode": {
    "name": "ipython",
    "version": 3
   },
   "file_extension": ".py",
   "mimetype": "text/x-python",
   "name": "python",
   "nbconvert_exporter": "python",
   "pygments_lexer": "ipython3",
   "version": "3.11.5"
  }
 },
 "nbformat": 4,
 "nbformat_minor": 5
}
