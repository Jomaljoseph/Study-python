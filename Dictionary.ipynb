{
 "cells": [
  {
   "cell_type": "code",
   "execution_count": 1,
   "id": "00f302ed",
   "metadata": {},
   "outputs": [],
   "source": [
    "dict1={'name':'ram',\n",
    "      'age':30,\n",
    "      'contact_no':123456\n",
    "      }"
   ]
  },
  {
   "cell_type": "code",
   "execution_count": 2,
   "id": "d647e43a",
   "metadata": {},
   "outputs": [
    {
     "data": {
      "text/plain": [
       "{'name': 'ram', 'age': 30, 'contact_no': 123456}"
      ]
     },
     "execution_count": 2,
     "metadata": {},
     "output_type": "execute_result"
    }
   ],
   "source": [
    "dict1"
   ]
  },
  {
   "cell_type": "code",
   "execution_count": 3,
   "id": "9122c1f8",
   "metadata": {},
   "outputs": [
    {
     "data": {
      "text/plain": [
       "dict"
      ]
     },
     "execution_count": 3,
     "metadata": {},
     "output_type": "execute_result"
    }
   ],
   "source": [
    "type(dict1)   # to get the type of a dictionary"
   ]
  },
  {
   "cell_type": "code",
   "execution_count": 4,
   "id": "e641eb03",
   "metadata": {},
   "outputs": [
    {
     "data": {
      "text/plain": [
       "3"
      ]
     },
     "execution_count": 4,
     "metadata": {},
     "output_type": "execute_result"
    }
   ],
   "source": [
    "len(dict1)  # to get the length"
   ]
  },
  {
   "cell_type": "code",
   "execution_count": 5,
   "id": "cb7bc6cc",
   "metadata": {},
   "outputs": [
    {
     "data": {
      "text/plain": [
       "dict_keys(['name', 'age', 'contact_no'])"
      ]
     },
     "execution_count": 5,
     "metadata": {},
     "output_type": "execute_result"
    }
   ],
   "source": [
    "dict1.keys()  # to print keys"
   ]
  },
  {
   "cell_type": "code",
   "execution_count": 6,
   "id": "8dca8e98",
   "metadata": {},
   "outputs": [
    {
     "data": {
      "text/plain": [
       "dict_values(['ram', 30, 123456])"
      ]
     },
     "execution_count": 6,
     "metadata": {},
     "output_type": "execute_result"
    }
   ],
   "source": [
    "dict1.values()  # to print values"
   ]
  },
  {
   "cell_type": "code",
   "execution_count": 7,
   "id": "7d141803",
   "metadata": {},
   "outputs": [
    {
     "data": {
      "text/plain": [
       "dict_items([('name', 'ram'), ('age', 30), ('contact_no', 123456)])"
      ]
     },
     "execution_count": 7,
     "metadata": {},
     "output_type": "execute_result"
    }
   ],
   "source": [
    "dict1.items()  # to print key value pair"
   ]
  },
  {
   "cell_type": "code",
   "execution_count": 8,
   "id": "e3a67ac8",
   "metadata": {},
   "outputs": [
    {
     "data": {
      "text/plain": [
       "'ram'"
      ]
     },
     "execution_count": 8,
     "metadata": {},
     "output_type": "execute_result"
    }
   ],
   "source": [
    "dict1['name']  # to fetch a value"
   ]
  },
  {
   "cell_type": "code",
   "execution_count": 9,
   "id": "2f275d08",
   "metadata": {},
   "outputs": [
    {
     "data": {
      "text/plain": [
       "30"
      ]
     },
     "execution_count": 9,
     "metadata": {},
     "output_type": "execute_result"
    }
   ],
   "source": [
    "dict1['age']"
   ]
  },
  {
   "cell_type": "code",
   "execution_count": 10,
   "id": "c18a9ee2",
   "metadata": {},
   "outputs": [
    {
     "data": {
      "text/plain": [
       "'ram'"
      ]
     },
     "execution_count": 10,
     "metadata": {},
     "output_type": "execute_result"
    }
   ],
   "source": [
    "dict1.get('name')  # same as above"
   ]
  },
  {
   "cell_type": "code",
   "execution_count": 11,
   "id": "57dedcd8",
   "metadata": {},
   "outputs": [],
   "source": [
    "dict1['year']=2018   # to add new value\n",
    "dict1['email']='abc@gmail.com'"
   ]
  },
  {
   "cell_type": "code",
   "execution_count": 12,
   "id": "73888b48",
   "metadata": {},
   "outputs": [
    {
     "data": {
      "text/plain": [
       "{'name': 'ram',\n",
       " 'age': 30,\n",
       " 'contact_no': 123456,\n",
       " 'year': 2018,\n",
       " 'email': 'abc@gmail.com'}"
      ]
     },
     "execution_count": 12,
     "metadata": {},
     "output_type": "execute_result"
    }
   ],
   "source": [
    "dict1"
   ]
  },
  {
   "cell_type": "code",
   "execution_count": 13,
   "id": "61d3c010",
   "metadata": {},
   "outputs": [],
   "source": [
    "dict1.update({'year':2020})  # to edit a value or add new value"
   ]
  },
  {
   "cell_type": "code",
   "execution_count": 14,
   "id": "884d0aac",
   "metadata": {},
   "outputs": [
    {
     "data": {
      "text/plain": [
       "{'name': 'ram',\n",
       " 'age': 30,\n",
       " 'contact_no': 123456,\n",
       " 'year': 2020,\n",
       " 'email': 'abc@gmail.com'}"
      ]
     },
     "execution_count": 14,
     "metadata": {},
     "output_type": "execute_result"
    }
   ],
   "source": [
    "dict1"
   ]
  },
  {
   "cell_type": "markdown",
   "id": "d12231b0",
   "metadata": {},
   "source": [
    "or"
   ]
  },
  {
   "cell_type": "code",
   "execution_count": 15,
   "id": "7d1b7705",
   "metadata": {},
   "outputs": [],
   "source": [
    "dict1['year']=2023\n",
    "dict1['age']=33"
   ]
  },
  {
   "cell_type": "code",
   "execution_count": 16,
   "id": "6c4b0112",
   "metadata": {},
   "outputs": [
    {
     "data": {
      "text/plain": [
       "{'name': 'ram',\n",
       " 'age': 33,\n",
       " 'contact_no': 123456,\n",
       " 'year': 2023,\n",
       " 'email': 'abc@gmail.com'}"
      ]
     },
     "execution_count": 16,
     "metadata": {},
     "output_type": "execute_result"
    }
   ],
   "source": [
    "dict1"
   ]
  },
  {
   "cell_type": "markdown",
   "id": "8266aadb",
   "metadata": {},
   "source": [
    "to fetch values one by one"
   ]
  },
  {
   "cell_type": "code",
   "execution_count": 17,
   "id": "f84bb792",
   "metadata": {},
   "outputs": [
    {
     "name": "stdout",
     "output_type": "stream",
     "text": [
      "name\n",
      "age\n",
      "contact_no\n",
      "year\n",
      "email\n"
     ]
    }
   ],
   "source": [
    "for i in dict1:   # only print keys\n",
    "    print(i)"
   ]
  },
  {
   "cell_type": "markdown",
   "id": "c7a83095",
   "metadata": {},
   "source": [
    "or"
   ]
  },
  {
   "cell_type": "code",
   "execution_count": 18,
   "id": "69f21c81",
   "metadata": {},
   "outputs": [
    {
     "name": "stdout",
     "output_type": "stream",
     "text": [
      "name\n",
      "age\n",
      "contact_no\n",
      "year\n",
      "email\n"
     ]
    }
   ],
   "source": [
    "for i in dict1.keys():\n",
    "    print(i)"
   ]
  },
  {
   "cell_type": "code",
   "execution_count": 19,
   "id": "fa36d6ee",
   "metadata": {},
   "outputs": [],
   "source": [
    "sample={'class':{'student':{'name':'mike',\n",
    "                          'marks':{'physics':70,\n",
    "                                  'history':80}}}}"
   ]
  },
  {
   "cell_type": "code",
   "execution_count": 20,
   "id": "4b4e7667",
   "metadata": {},
   "outputs": [
    {
     "data": {
      "text/plain": [
       "80"
      ]
     },
     "execution_count": 20,
     "metadata": {},
     "output_type": "execute_result"
    }
   ],
   "source": [
    "sample['class']['student']['marks']['history']"
   ]
  },
  {
   "cell_type": "markdown",
   "id": "54cce2bd",
   "metadata": {},
   "source": [
    "for loop in nested dictionery"
   ]
  },
  {
   "cell_type": "code",
   "execution_count": 21,
   "id": "7f7f0670",
   "metadata": {},
   "outputs": [
    {
     "name": "stdout",
     "output_type": "stream",
     "text": [
      "name ram\n",
      "height 170\n",
      "weight 60\n",
      "eye_sight 6/6\n",
      "name raju\n",
      "height 164\n",
      "weight 52\n",
      "eye_sight 6/6\n"
     ]
    }
   ],
   "source": [
    "details={'cadet1':{'name':'ram',\n",
    "                  'height':170,\n",
    "                  'weight':60,\n",
    "                  'eye_sight':'6/6'},\n",
    "        'cadet2':{'name':'raju',\n",
    "                  'height':164,\n",
    "                  'weight':52,\n",
    "                  'eye_sight':'6/6'}}\n",
    "\n",
    "for i,j in details.items():\n",
    "    #print(i,j)\n",
    "    for k,l in j.items():\n",
    "        print(k,l)"
   ]
  },
  {
   "cell_type": "markdown",
   "id": "c4915872",
   "metadata": {},
   "source": [
    "Sarah is working on a program that calculates the total cost of a customer's order based on the items they have selected. She needs to offer discounts to customers who have ordered a certain number of items, and she wants to use a conditional statement to determine the discount amount. She has already used an \"if\" statement to check if the customer has ordered more than a certain number of items, but now she wants to add more conditions and use the \"elif\" statement to offer different discounts based on the number of items ordered."
   ]
  },
  {
   "cell_type": "code",
   "execution_count": 1,
   "id": "e7d8ba0a",
   "metadata": {},
   "outputs": [
    {
     "name": "stdout",
     "output_type": "stream",
     "text": [
      "enter cadet name: ram\n",
      "ram  is eligible\n",
      "do you want to continue: yes\n",
      "enter cadet name: raju\n",
      "raju is not eligible\n",
      "do you want to continue: no\n",
      "program finished\n"
     ]
    }
   ],
   "source": [
    "details={'cadet1':{'name':'ram',\n",
    "                'height':170,\n",
    "                'weight':60},\n",
    "        'cadet2':{'name':'raju',\n",
    "                'height':164,\n",
    "                'weight':52}}\n",
    "\n",
    "while True:\n",
    "    cname=str(input('enter cadet name: '))\n",
    "    for i,j in details.items():\n",
    "        if j['name']==cname:\n",
    "            if j['height']>=165 and j['weight']>=55:\n",
    "                print(cname,' is eligible')\n",
    "            else:\n",
    "                print(cname,'is not eligible')\n",
    "                break\n",
    "    #else:\n",
    "        #print('invalid input')\n",
    "    if (input('do you want to continue: ')=='yes'):\n",
    "        continue\n",
    "    else:\n",
    "        print('program finished')\n",
    "        break"
   ]
  },
  {
   "cell_type": "code",
   "execution_count": null,
   "id": "c39dc1c7",
   "metadata": {},
   "outputs": [],
   "source": []
  },
  {
   "cell_type": "code",
   "execution_count": null,
   "id": "26131215",
   "metadata": {},
   "outputs": [],
   "source": []
  }
 ],
 "metadata": {
  "kernelspec": {
   "display_name": "Python 3 (ipykernel)",
   "language": "python",
   "name": "python3"
  },
  "language_info": {
   "codemirror_mode": {
    "name": "ipython",
    "version": 3
   },
   "file_extension": ".py",
   "mimetype": "text/x-python",
   "name": "python",
   "nbconvert_exporter": "python",
   "pygments_lexer": "ipython3",
   "version": "3.11.5"
  }
 },
 "nbformat": 4,
 "nbformat_minor": 5
}
