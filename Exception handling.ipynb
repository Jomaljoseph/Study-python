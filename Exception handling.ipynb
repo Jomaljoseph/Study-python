{
 "cells": [
  {
   "cell_type": "markdown",
   "id": "d9e5da75",
   "metadata": {},
   "source": [
    "# Exception Handling\n",
    "### simple division program"
   ]
  },
  {
   "cell_type": "code",
   "execution_count": 1,
   "id": "e7740fc2",
   "metadata": {},
   "outputs": [
    {
     "name": "stdout",
     "output_type": "stream",
     "text": [
      "5\n",
      "2\n",
      "2.5\n"
     ]
    }
   ],
   "source": [
    "a=int(input())\n",
    "b=int(input())\n",
    "c=a/b\n",
    "print(c)  # if we divide it with 0 or a string it will show error to avoid that,"
   ]
  },
  {
   "cell_type": "code",
   "execution_count": 2,
   "id": "16013878",
   "metadata": {},
   "outputs": [
    {
     "name": "stdout",
     "output_type": "stream",
     "text": [
      "\n",
      "invalid input\n"
     ]
    }
   ],
   "source": [
    "try:\n",
    "    a=int(input())\n",
    "    b=int(input())\n",
    "    c=a/b\n",
    "    print(c)\n",
    "except:\n",
    "    print('invalid input') "
   ]
  },
  {
   "cell_type": "code",
   "execution_count": 3,
   "id": "f33644da",
   "metadata": {},
   "outputs": [
    {
     "name": "stdout",
     "output_type": "stream",
     "text": [
      "5\n",
      "0\n",
      "enter a valid input\n",
      "program ended\n"
     ]
    }
   ],
   "source": [
    "try:\n",
    "    a=int(input())\n",
    "    b=int(input())\n",
    "    c=a/b\n",
    "except:\n",
    "    print('enter a valid input')\n",
    "else:\n",
    "    print(c)\n",
    "finally:\n",
    "    print('program ended')   # finaly will work each time program exicuted"
   ]
  },
  {
   "cell_type": "code",
   "execution_count": 4,
   "id": "e5b47fe0",
   "metadata": {},
   "outputs": [
    {
     "name": "stdout",
     "output_type": "stream",
     "text": [
      "5\n",
      "0\n",
      "enter a valid input\n",
      "5\n",
      "2\n",
      "2.5\n",
      "program ended\n"
     ]
    }
   ],
   "source": [
    "while True:\n",
    "    try:\n",
    "        a=int(input())\n",
    "        b=int(input())\n",
    "        c=a/b\n",
    "    except:\n",
    "        print('enter a valid input')\n",
    "    else:\n",
    "        print(c)\n",
    "        print('program ended')\n",
    "        break"
   ]
  },
  {
   "cell_type": "code",
   "execution_count": 5,
   "id": "7595afc0",
   "metadata": {},
   "outputs": [
    {
     "name": "stdout",
     "output_type": "stream",
     "text": [
      "5\n",
      "0\n",
      "divition by zero : enter a valid input\n",
      "5\n",
      "n\n",
      "divition by literal : enter a valid input\n",
      "5\n",
      "2\n",
      "2.5\n"
     ]
    }
   ],
   "source": [
    "while True:\n",
    "    try:\n",
    "        a=int(input())\n",
    "        b=int(input())\n",
    "        c=a/b\n",
    "    except ZeroDivisionError:\n",
    "        print('divition by zero : enter a valid input')\n",
    "    except ValueError:\n",
    "        print('divition by literal : enter a valid input')\n",
    "    else:\n",
    "        print(c)\n",
    "        break"
   ]
  },
  {
   "cell_type": "code",
   "execution_count": null,
   "id": "4b156c25",
   "metadata": {},
   "outputs": [],
   "source": []
  }
 ],
 "metadata": {
  "kernelspec": {
   "display_name": "Python 3 (ipykernel)",
   "language": "python",
   "name": "python3"
  },
  "language_info": {
   "codemirror_mode": {
    "name": "ipython",
    "version": 3
   },
   "file_extension": ".py",
   "mimetype": "text/x-python",
   "name": "python",
   "nbconvert_exporter": "python",
   "pygments_lexer": "ipython3",
   "version": "3.11.5"
  }
 },
 "nbformat": 4,
 "nbformat_minor": 5
}
