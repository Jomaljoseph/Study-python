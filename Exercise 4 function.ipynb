{
 "cells": [
  {
   "cell_type": "markdown",
   "id": "86c59ae3",
   "metadata": {},
   "source": [
    "1. Write a Python function to sum all the numbers in a list.   \n",
    "Sample List : (8, 2, 3, 0, 7)   \n",
    "Expected Output : 20"
   ]
  },
  {
   "cell_type": "code",
   "execution_count": null,
   "id": "f219e44a",
   "metadata": {},
   "outputs": [],
   "source": [
    "list1=[8,2,3,0,7]\n",
    "def sum_list(lt1):\n",
    "    l=0\n",
    "    for i in lt1:  # list1 is global so here we can also give list1\n",
    "        l=l+i\n",
    "    print(l)\n",
    "sum_list(list1)"
   ]
  },
  {
   "cell_type": "markdown",
   "id": "b06ec117",
   "metadata": {},
   "source": [
    "2. Write a Python function to multiply all the numbers in a list.  \n",
    "Sample List : (8, 2, 3, -1, 7)  \n",
    "Expected Output : -336"
   ]
  },
  {
   "cell_type": "code",
   "execution_count": null,
   "id": "dcdbdb97",
   "metadata": {},
   "outputs": [],
   "source": [
    "list2=[8,2,3,-1,7]\n",
    "def mult_list(lt2):\n",
    "    l1=1\n",
    "    for i in lt2:\n",
    "        l1=l1*i\n",
    "    print(l1)\n",
    "mult_list(list2)"
   ]
  },
  {
   "cell_type": "code",
   "execution_count": null,
   "id": "509e111a",
   "metadata": {},
   "outputs": [],
   "source": [
    "sum_list(list2)  # function in question 1."
   ]
  },
  {
   "cell_type": "markdown",
   "id": "60d4fadb",
   "metadata": {},
   "source": [
    "3. Write a Python function to calculate the factorial of a number (a non-negative\n",
    "integer). The function accepts the number as an argument."
   ]
  },
  {
   "cell_type": "code",
   "execution_count": null,
   "id": "8301b325",
   "metadata": {},
   "outputs": [],
   "source": [
    "num=int(input('enter a number: '))\n",
    "def factorial(n1):\n",
    "    fact=1\n",
    "    for i in range(1,n1+1):\n",
    "        fact*=i\n",
    "    print(fact)\n",
    "    \n",
    "factorial(num)"
   ]
  },
  {
   "cell_type": "markdown",
   "id": "6bb4dc3c",
   "metadata": {},
   "source": [
    "4. Write a Python function to check whether a number falls within a given range."
   ]
  },
  {
   "cell_type": "code",
   "execution_count": null,
   "id": "b0183fb8",
   "metadata": {},
   "outputs": [],
   "source": [
    "def num_range():    # range is 10 to 20\n",
    "    flag=0\n",
    "    a=int(input('enter a number: '))\n",
    "    for i in range(10,21):\n",
    "        if a==i:\n",
    "            flag=1\n",
    "    if flag==1:\n",
    "          print('the given number is within the range')\n",
    "    else:\n",
    "          print('the number is not in the range')\n",
    "            \n",
    "num_range()"
   ]
  },
  {
   "cell_type": "markdown",
   "id": "13f848f8",
   "metadata": {},
   "source": [
    "5. Write a Python function that accepts a string and counts the number of upper and     \n",
    "lower case letters.    \n",
    "Sample String : 'The quick Brow Fox'     \n",
    "Expected Output :     \n",
    "No. of Upper case characters : 3     \n",
    "No. of Lower case Characters : 12    "
   ]
  },
  {
   "cell_type": "code",
   "execution_count": null,
   "id": "0000ec53",
   "metadata": {},
   "outputs": [],
   "source": [
    "str1=input('enter a string: ')    #  The quick Brow Fox\n",
    "def upper_lower(st1):\n",
    "    a1=0\n",
    "    a2=0\n",
    "    for i in st1:\n",
    "        a=i.isupper()\n",
    "        if a==True:\n",
    "            a1+=1\n",
    "        else:\n",
    "            a2+=1\n",
    "    print('No. of Upper case characters :',a1)\n",
    "    print('No. of Lower case Characters :',a2)\n",
    "       \n",
    "upper_lower(str1)"
   ]
  },
  {
   "cell_type": "markdown",
   "id": "10b4afc1",
   "metadata": {},
   "source": [
    "6. Write a Python function that takes a list and returns a new list with distinct elements      \n",
    "from the first list.    \n",
    "Sample List : [1,2,3,3,3,3,4,5]    \n",
    "Unique List : [1, 2, 3, 4, 5]      "
   ]
  },
  {
   "cell_type": "code",
   "execution_count": null,
   "id": "450ccb8f",
   "metadata": {},
   "outputs": [],
   "source": [
    "def distinct():\n",
    "    b=[1,2,3,3,3,3,4,5]\n",
    "    b1=set(b)\n",
    "    b=list(b1)\n",
    "    b.sort()\n",
    "    print(b)\n",
    "    \n",
    "distinct()\n",
    "    "
   ]
  },
  {
   "cell_type": "markdown",
   "id": "e9f49e38",
   "metadata": {},
   "source": [
    "7. Write a Python function that takes a number as a parameter and checks whether the     \n",
    "number is prime or not."
   ]
  },
  {
   "cell_type": "code",
   "execution_count": null,
   "id": "fae49560",
   "metadata": {},
   "outputs": [],
   "source": [
    "c=int(input('enter a number: '))\n",
    "def prime(c1):\n",
    "    flag=0\n",
    "    for i in range(2,c1):\n",
    "        if c%i==0:\n",
    "            flag=1\n",
    "            break\n",
    "        else:\n",
    "            flag=0\n",
    "            \n",
    "    if flag==1:\n",
    "        print('not a prime number')\n",
    "    else:\n",
    "        print('prime number')\n",
    "\n",
    "prime(c)    "
   ]
  },
  {
   "cell_type": "markdown",
   "id": "bc0f80ff",
   "metadata": {},
   "source": [
    "8. Write a Python function to check whether a number is \"Perfect\" or not."
   ]
  },
  {
   "cell_type": "code",
   "execution_count": 22,
   "id": "ceb55403",
   "metadata": {},
   "outputs": [
    {
     "name": "stdout",
     "output_type": "stream",
     "text": [
      "enter a number: 5246\n",
      "the given number is not perfect\n"
     ]
    }
   ],
   "source": [
    "d=int(input('enter a number: '))\n",
    "def perfect(d1):\n",
    "    d3=0\n",
    "    d2=[]\n",
    "    for i in range(1,d1):\n",
    "        if d1%i==0:\n",
    "            d2.append(i)\n",
    "    for j in d2:\n",
    "        d3+=j\n",
    "    if d3==d1:\n",
    "        print('the given number is perfect')\n",
    "    else:\n",
    "        print('the given number is not perfect')\n",
    "\n",
    "perfect(d)            \n"
   ]
  },
  {
   "cell_type": "markdown",
   "id": "1a28e2d9",
   "metadata": {},
   "source": [
    "9. Write a Python function that checks whether a passed string is a palindrome or not."
   ]
  },
  {
   "cell_type": "code",
   "execution_count": null,
   "id": "1a4b4165",
   "metadata": {},
   "outputs": [],
   "source": []
  }
 ],
 "metadata": {
  "kernelspec": {
   "display_name": "Python 3 (ipykernel)",
   "language": "python",
   "name": "python3"
  },
  "language_info": {
   "codemirror_mode": {
    "name": "ipython",
    "version": 3
   },
   "file_extension": ".py",
   "mimetype": "text/x-python",
   "name": "python",
   "nbconvert_exporter": "python",
   "pygments_lexer": "ipython3",
   "version": "3.10.9"
  }
 },
 "nbformat": 4,
 "nbformat_minor": 5
}
