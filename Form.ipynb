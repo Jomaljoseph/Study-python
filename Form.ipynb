{
 "cells": [
  {
   "cell_type": "code",
   "execution_count": 1,
   "id": "96d580f1",
   "metadata": {
    "scrolled": true
   },
   "outputs": [
    {
     "name": "stdout",
     "output_type": "stream",
     "text": [
      "a and b is in the list\n"
     ]
    }
   ],
   "source": [
    "a='abcd'\n",
    "if 'a' in a and 'b' in a:\n",
    "    print('a and b is in the list')\n",
    "else:\n",
    "    print('either a or b is not in the list')"
   ]
  },
  {
   "cell_type": "code",
   "execution_count": 15,
   "id": "faf09abd",
   "metadata": {},
   "outputs": [
    {
     "name": "stdout",
     "output_type": "stream",
     "text": [
      "3 7\n",
      "4 6\n"
     ]
    }
   ],
   "source": [
    "b=[1,2,3,4,6,7]\n",
    "for i in range(0,len(b)):\n",
    "    for j in range(i+1,len(b)):\n",
    "        if b[i]+b[j]==10:\n",
    "            print(b[i],b[j])"
   ]
  },
  {
   "cell_type": "code",
   "execution_count": 16,
   "id": "d55c680c",
   "metadata": {},
   "outputs": [
    {
     "name": "stdout",
     "output_type": "stream",
     "text": [
      "3 7\n",
      "4 6\n",
      "4 7\n",
      "6 7\n"
     ]
    }
   ],
   "source": [
    "b=[1,2,3,4,6,7]\n",
    "for i in range(0,len(b)):\n",
    "    for j in range(i+1,len(b)):\n",
    "        if b[i]+b[j]>=10:\n",
    "            print(b[i],b[j])"
   ]
  },
  {
   "cell_type": "markdown",
   "id": "fd59c76a",
   "metadata": {},
   "source": [
    "Assume you are an Army recurting officer and you want to find the candidates who's height is less than 168 cm. You have a long list of candidates heights you want to eliminate all candidates who's height is less than 168. You know that checking every candidate height in the list would take too long, so you decide to write a function to automate the process.\n",
    "How can you write a program in python to identify eligible candidates."
   ]
  },
  {
   "cell_type": "code",
   "execution_count": 9,
   "id": "565d30e0",
   "metadata": {},
   "outputs": [
    {
     "name": "stdout",
     "output_type": "stream",
     "text": [
      "eligible_height:  [172, 180, 168, 170]\n"
     ]
    }
   ],
   "source": [
    "height=[172,180,166,168,170]\n",
    "eligible=[]\n",
    "for i in height:\n",
    "    if i>=168:\n",
    "        eligible.append(i)\n",
    "print('eligible_height: ',eligible)"
   ]
  },
  {
   "cell_type": "markdown",
   "id": "cca2f09a",
   "metadata": {},
   "source": [
    "### form 2"
   ]
  },
  {
   "cell_type": "markdown",
   "id": "5345ef74",
   "metadata": {},
   "source": [
    "Sarah is working on a program that calculates the total cost of a customer's order based on the items they have selected. She needs to offer discounts to customers who have ordered a certain number of items, and she wants to use a conditional statement to determine the discount amount. She has already used an \"if\" statement to check if the customer has ordered more than a certain number of items, but now she wants to add more conditions and use the \"elif\" statement to offer different discounts based on the number of items ordered. "
   ]
  },
  {
   "cell_type": "code",
   "execution_count": null,
   "id": "d3fac341",
   "metadata": {},
   "outputs": [
    {
     "name": "stdout",
     "output_type": "stream",
     "text": [
      "please enter your item:chilly\n",
      "no of item you want:2\n"
     ]
    }
   ],
   "source": [
    "flipkart={'chilly':100,\n",
    "         'juice': 50}\n",
    "while True:\n",
    "    item=input(\"please enter your item:\")\n",
    "    if item in flipkart:\n",
    "        item_no=int(input(\"no of item you want:\"))\n",
    "        price=flipkart[item]\n",
    "        if item_no==1:\n",
    "            print(price)\n",
    "        elif item_no==3:\n",
    "            discount_amount=price*(5/100)\n",
    "            actual_price=price-discount_amount\n",
    "            print(actual_price)\n",
    "                \n",
    "    else:\n",
    "        print(\"item not found\")\n",
    "    if (input(\"do you want to continue:\")=='yes'):\n",
    "            continue\n",
    "    else:\n",
    "            break"
   ]
  },
  {
   "cell_type": "code",
   "execution_count": null,
   "id": "763294aa",
   "metadata": {},
   "outputs": [],
   "source": []
  }
 ],
 "metadata": {
  "kernelspec": {
   "display_name": "Python 3 (ipykernel)",
   "language": "python",
   "name": "python3"
  },
  "language_info": {
   "codemirror_mode": {
    "name": "ipython",
    "version": 3
   },
   "file_extension": ".py",
   "mimetype": "text/x-python",
   "name": "python",
   "nbconvert_exporter": "python",
   "pygments_lexer": "ipython3",
   "version": "3.10.9"
  }
 },
 "nbformat": 4,
 "nbformat_minor": 5
}
