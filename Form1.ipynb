{
 "cells": [
  {
   "cell_type": "markdown",
   "id": "873f327b",
   "metadata": {},
   "source": [
    "Sarah is working on a program that calculates the total cost of a customer's order based on the items they have selected. She needs to offer discounts to customers who have ordered a certain number of items, and she wants to use a conditional statement to determine the discount amount. She has already used an \"if\" statement to check if the customer has ordered more than a certain number of items, but now she wants to add more conditions and use the \"elif\" statement to offer different discounts based on the number of items ordered. "
   ]
  },
  {
   "cell_type": "code",
   "execution_count": 1,
   "id": "e9b2d530",
   "metadata": {},
   "outputs": [
    {
     "name": "stdout",
     "output_type": "stream",
     "text": [
      "enter item name: ram\n",
      "item not available\n",
      "do you want to continue: no\n",
      "Thank you\n"
     ]
    }
   ],
   "source": [
    "fruits={'apple':50,\n",
    "       'mango':60,\n",
    "       'orange':40}\n",
    "while True:\n",
    "    item=input('enter item name: ')\n",
    "    if item in fruits:\n",
    "        price=fruits[item]\n",
    "        num_item=int(input('number of items you want: '))\n",
    "        if num_item<=2:\n",
    "            print(price*num_item)\n",
    "        elif num_item<=5 and num_item>2:\n",
    "            amount=(price*num_item)*5/100\n",
    "            print((price*num_item)-amount)\n",
    "        elif num_item>5:\n",
    "            amount=(price*num_item)*10/100\n",
    "            print((price*num_item)-amount)        \n",
    "        else:\n",
    "            print('invalid item no.')\n",
    "    else:\n",
    "        print('item not available')\n",
    "    if input('do you want to continue: ')=='yes':\n",
    "        continue\n",
    "    else:\n",
    "        print('Thank you')\n",
    "        break"
   ]
  },
  {
   "cell_type": "markdown",
   "id": "27aac41c",
   "metadata": {},
   "source": [
    "Ali is working on a project that requires him to check the age of the user before allowing them to access certain features. He wants to ensure that users who are under 18 years old cannot access certain parts of the website. To do this, he uses a conditional statement with the \"not\" operator to check whether the user's age is less than 18. If the user's age is less than 18, the program displays a message stating that the user is not allowed to access the feature. "
   ]
  },
  {
   "cell_type": "code",
   "execution_count": 2,
   "id": "adcadf6b",
   "metadata": {},
   "outputs": [
    {
     "name": "stdout",
     "output_type": "stream",
     "text": [
      "enter your age: 12\n",
      "you are not allowed to access the feature.\n"
     ]
    }
   ],
   "source": [
    "age=int(input('enter your age: '))\n",
    "if not bool(age>=18):\n",
    "    print('you are not allowed to access the feature.')\n",
    "else:\n",
    "    print('you can proceed')"
   ]
  },
  {
   "cell_type": "markdown",
   "id": "217ef758",
   "metadata": {},
   "source": [
    "Assume you are a seniour NCC cadet and you want to find the candidates who are eligible to join NCC. You have a long list of candidates and you want to filter all candidates based on their height weight and eye sight. You know that checking every candidate's details in the list would take too long, so you decide to write a function to automate the process. How can you write a program in python to identify eligible candidates."
   ]
  },
  {
   "cell_type": "code",
   "execution_count": 1,
   "id": "d12945ae",
   "metadata": {},
   "outputs": [
    {
     "name": "stdout",
     "output_type": "stream",
     "text": [
      "enter cadet name: raju\n",
      "raju is not eligible\n",
      "do you want to continue: yes\n",
      "enter cadet name: ram\n",
      "ram  is eligible\n",
      "do you want to continue: n\n",
      "program finished\n"
     ]
    }
   ],
   "source": [
    "details={'cadet1':{'name':'ram',\n",
    "                'height':170,\n",
    "                'weight':60},\n",
    "        'cadet2':{'name':'raju',\n",
    "                'height':164,\n",
    "                'weight':52}}\n",
    "\n",
    "while True:\n",
    "    cname=str(input('enter cadet name: '))\n",
    "    for i,j in details.items():\n",
    "        if j['name']==cname:\n",
    "            if j['height']>=165 and j['weight']>=55:\n",
    "                print(cname,' is eligible')\n",
    "            else:\n",
    "                print(cname,'is not eligible')\n",
    "                break\n",
    "    if (input('do you want to continue: ')=='yes'):\n",
    "        continue\n",
    "    else:\n",
    "        print('program finished')\n",
    "        break"
   ]
  }
 ],
 "metadata": {
  "kernelspec": {
   "display_name": "Python 3 (ipykernel)",
   "language": "python",
   "name": "python3"
  },
  "language_info": {
   "codemirror_mode": {
    "name": "ipython",
    "version": 3
   },
   "file_extension": ".py",
   "mimetype": "text/x-python",
   "name": "python",
   "nbconvert_exporter": "python",
   "pygments_lexer": "ipython3",
   "version": "3.11.5"
  }
 },
 "nbformat": 4,
 "nbformat_minor": 5
}
