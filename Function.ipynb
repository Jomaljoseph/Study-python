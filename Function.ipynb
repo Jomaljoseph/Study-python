{
 "cells": [
  {
   "cell_type": "code",
   "execution_count": null,
   "id": "47d18edc",
   "metadata": {},
   "outputs": [],
   "source": [
    "def anagram():\n",
    "    str1='listen'\n",
    "    ip=input('enter a number: ')\n",
    "    n=sorted(str1)\n",
    "    v=sorted(ip)\n",
    "    if v==n:\n",
    "        print('anagram')\n",
    "    else:\n",
    "        print('not')\n",
    "anagram()"
   ]
  },
  {
   "cell_type": "markdown",
   "id": "d1a75f9d",
   "metadata": {},
   "source": [
    "# arbitary arguments\n",
    "### *args\n",
    "If you do not know how many arguments that will be passed into your function,\n",
    "add a '*' before the parameter name in the function definition."
   ]
  },
  {
   "cell_type": "code",
   "execution_count": null,
   "id": "104a4b06",
   "metadata": {},
   "outputs": [],
   "source": [
    "def arbitary_arguments(*person):\n",
    "    print('the person is '+person[2]) # indexing\n",
    "arbitary_arguments('ram','ravi','raju','remya')"
   ]
  },
  {
   "cell_type": "markdown",
   "id": "41eca220",
   "metadata": {},
   "source": [
    "keyword argument"
   ]
  },
  {
   "cell_type": "code",
   "execution_count": null,
   "id": "9f76c4f2",
   "metadata": {},
   "outputs": [],
   "source": [
    "def keyword_argument(person3,person2,person1):\n",
    "    print('the person is '+person3)\n",
    "keyword_argument(person1='ram',person2='ravi',person3='raju')\n",
    "      # here we dont have to maintain the order"
   ]
  },
  {
   "cell_type": "markdown",
   "id": "c33ec354",
   "metadata": {},
   "source": [
    "### **keyword args\n",
    "If you do not know how many keyword arguments that will be passed into your function, add\n",
    "two asterisk '**' before the parameter name in the function definition"
   ]
  },
  {
   "cell_type": "code",
   "execution_count": null,
   "id": "bcd8e338",
   "metadata": {},
   "outputs": [],
   "source": [
    "def multi_keyword_arguments(**person):\n",
    "    print('the person is '+person['person3'])\n",
    "\n",
    "multi_keyword_arguments(person1='ram',person2='ravi',person3='raju')"
   ]
  },
  {
   "cell_type": "markdown",
   "id": "5ba22f17",
   "metadata": {},
   "source": [
    "### Default Parameter Value"
   ]
  },
  {
   "cell_type": "markdown",
   "id": "8f563027",
   "metadata": {},
   "source": [
    "The following example shows how to use a default parameter value. If we call the function\n",
    "without argument, it uses the default value:"
   ]
  },
  {
   "cell_type": "code",
   "execution_count": null,
   "id": "206f1ce4",
   "metadata": {},
   "outputs": [],
   "source": [
    "def my_function(country='Norway'):\n",
    "    print('I am from '+country)\n",
    "my_function()\n",
    "my_function(\"Sweden\")\n",
    "my_function(\"India\")\n",
    "my_function()\n",
    "my_function(\"Brazil\")"
   ]
  },
  {
   "cell_type": "markdown",
   "id": "324dc42a",
   "metadata": {},
   "source": [
    "# return keyword"
   ]
  },
  {
   "cell_type": "code",
   "execution_count": null,
   "id": "d4984293",
   "metadata": {},
   "outputs": [],
   "source": [
    "def sum_2(a,b):\n",
    "    return a+b\n",
    "\n",
    "print(sum_2(2,3))\n",
    "sum_2(5,3)"
   ]
  },
  {
   "cell_type": "code",
   "execution_count": null,
   "id": "e797fdf4",
   "metadata": {},
   "outputs": [],
   "source": [
    "def sum_2(a,b):\n",
    "    return a+b\n",
    "\n",
    "r=sum_2(5,3)\n",
    "print(r)"
   ]
  },
  {
   "cell_type": "markdown",
   "id": "b9810e31",
   "metadata": {},
   "source": [
    "if we use print: we can't store it in a variable and it can use further (return is reusable)"
   ]
  },
  {
   "cell_type": "markdown",
   "id": "f5bd0595",
   "metadata": {},
   "source": [
    "x"
   ]
  },
  {
   "cell_type": "code",
   "execution_count": null,
   "id": "3dad2404",
   "metadata": {},
   "outputs": [],
   "source": [
    "def sum_2(a,b):\n",
    "    print(a+b)\n",
    "\n",
    "r=sum_2(5,3) # the 8 printed is function call\n",
    "print(r)     # r is not printed"
   ]
  },
  {
   "cell_type": "markdown",
   "id": "5842ae83",
   "metadata": {},
   "source": [
    "x"
   ]
  },
  {
   "cell_type": "code",
   "execution_count": null,
   "id": "0a4a4d79",
   "metadata": {},
   "outputs": [],
   "source": [
    "def sum_2(a,b):\n",
    "    return a+b\n",
    "    return a*b    # only one out put will display\n",
    "\n",
    "sum_2(5,3)"
   ]
  },
  {
   "cell_type": "code",
   "execution_count": null,
   "id": "cd706e8e",
   "metadata": {
    "scrolled": true
   },
   "outputs": [],
   "source": [
    "def sum_2(a,b):\n",
    "    print(a+b)\n",
    "    return a*b\n",
    "\n",
    "sum_2(5,3)"
   ]
  },
  {
   "cell_type": "code",
   "execution_count": null,
   "id": "3f2a2fe4",
   "metadata": {},
   "outputs": [],
   "source": [
    "def sum_2(a,b):\n",
    "    return a*b    # function will stop exicution after return\n",
    "    print(a+b)\n",
    "\n",
    "sum_2(5,3)"
   ]
  },
  {
   "cell_type": "code",
   "execution_count": null,
   "id": "e513e6e3",
   "metadata": {},
   "outputs": [],
   "source": [
    "def sum_2(a,b):\n",
    "    print(a+b)\n",
    "    print(a*b)\n",
    "\n",
    "sum_2(5,3)"
   ]
  },
  {
   "cell_type": "markdown",
   "id": "4bc9f028",
   "metadata": {},
   "source": [
    "# global and local variable"
   ]
  },
  {
   "cell_type": "markdown",
   "id": "be1afafd",
   "metadata": {},
   "source": [
    "global variable can be used in and out side the function"
   ]
  },
  {
   "cell_type": "code",
   "execution_count": null,
   "id": "c65768e3",
   "metadata": {},
   "outputs": [],
   "source": [
    "x=5  # here x is global variable declared out side the function\n",
    "def global_variable():\n",
    "    print(x)\n",
    "global_variable()"
   ]
  },
  {
   "cell_type": "code",
   "execution_count": null,
   "id": "f85eaecc",
   "metadata": {},
   "outputs": [],
   "source": [
    "x=5\n",
    "def global_variable():\n",
    "    print(x)\n",
    "global_variable()\n",
    "print(x)"
   ]
  },
  {
   "cell_type": "markdown",
   "id": "ebf2bb75",
   "metadata": {},
   "source": [
    "local variable can only be used inside a function"
   ]
  },
  {
   "cell_type": "code",
   "execution_count": null,
   "id": "9978ef69",
   "metadata": {},
   "outputs": [],
   "source": [
    "x=5\n",
    "def global_variable():\n",
    "    x=4               # this x is local variable\n",
    "    print(x)          # this x printed 4\n",
    "global_variable()\n",
    "print(x)              # this x printed 5"
   ]
  },
  {
   "cell_type": "markdown",
   "id": "48dfbdc7",
   "metadata": {},
   "source": [
    "to declare global veriable in side a function use 'global' keyword"
   ]
  },
  {
   "cell_type": "code",
   "execution_count": null,
   "id": "f06f19d0",
   "metadata": {},
   "outputs": [],
   "source": [
    "def global_variable():\n",
    "    global x\n",
    "    x=4\n",
    "    #print(x)\n",
    "global_variable()\n",
    "print(x)"
   ]
  },
  {
   "cell_type": "markdown",
   "id": "6ac33445",
   "metadata": {},
   "source": [
    "# recursion"
   ]
  },
  {
   "cell_type": "markdown",
   "id": "8d81301c",
   "metadata": {},
   "source": [
    "### recursive function"
   ]
  },
  {
   "cell_type": "code",
   "execution_count": null,
   "id": "9a09c1f4",
   "metadata": {},
   "outputs": [],
   "source": [
    "def max_two(a,b):\n",
    "    return max(a,b)\n",
    "def max_three(a,b,c):\n",
    "    return max(a,max_two(b,c))\n",
    "\n",
    "#max_two(5,6) # no need\n",
    "max_three(7,8,5)"
   ]
  },
  {
   "cell_type": "markdown",
   "id": "d829004d",
   "metadata": {},
   "source": [
    "### permutation"
   ]
  },
  {
   "cell_type": "code",
   "execution_count": null,
   "id": "b0641931",
   "metadata": {},
   "outputs": [],
   "source": [
    "def factorial(k):\n",
    "    fact=1\n",
    "    for i in range(1,k+1):\n",
    "        fact*=i\n",
    "    return fact\n",
    "\n",
    "n=5\n",
    "r=3\n",
    "factorial(5)\n",
    "nCr=factorial(n)/(factorial(r)*factorial(n-r))\n",
    "print(nCr)"
   ]
  },
  {
   "cell_type": "markdown",
   "id": "06cc3aa3",
   "metadata": {},
   "source": [
    "### quadratic equations"
   ]
  },
  {
   "cell_type": "markdown",
   "id": "561f65dd",
   "metadata": {},
   "source": [
    "ax**2+bx+c                                           \n",
    "we want to find the descriminant of the eqn as D                                                \n",
    "if D>0 --> roots are 1. (-b+(sqrt(b**2 - 4*a*c)))/2*a or 2.(-b-(sqrt(b**2                                          \n",
    "if D==0--> root is -b/(2*a)                                        \n",
    "if D<0---> no root                                                       "
   ]
  },
  {
   "cell_type": "code",
   "execution_count": null,
   "id": "0535a242",
   "metadata": {},
   "outputs": [],
   "source": [
    "from math import sqrt\n",
    "\n",
    "def descriminant(a,b,c):\n",
    "    return (b**2)-(4*a*c)    # finding b**2 - 4ac\n",
    "def quadratic(a,b,c):\n",
    "    d=descriminant(a,b,c)  # assigning b**2 - 4ac to d by clling the function 'descriminant' \n",
    "    if d>0:\n",
    "        root1=((-b)+(sqrt(d)))/(2*a)  # here d = b**2 - 4ac\n",
    "        root2=((-b)-(sqrt(d)))/(2*a)\n",
    "        print('roots are: ',root1,'and',root2)\n",
    "    elif d==0:\n",
    "        root=-b/2*a\n",
    "        print('root is: ',root)\n",
    "    else:\n",
    "        print('no root')\n",
    "\n",
    "a=int(input('enter coefficient of x**2 : '))\n",
    "b=int(input('enter coefficient of x : '))\n",
    "c=int(input('enter coefficient of c : '))\n",
    "quadratic(a,b,c)"
   ]
  },
  {
   "cell_type": "markdown",
   "id": "ebe7822a",
   "metadata": {},
   "source": [
    "# recursion exercise"
   ]
  },
  {
   "cell_type": "markdown",
   "id": "3a2cdcd0",
   "metadata": {},
   "source": [
    "1. Write a recursive function that accepts an integer argument and returns the factorial."
   ]
  },
  {
   "cell_type": "code",
   "execution_count": 4,
   "id": "11909987",
   "metadata": {},
   "outputs": [
    {
     "data": {
      "text/plain": [
       "120"
      ]
     },
     "execution_count": 4,
     "metadata": {},
     "output_type": "execute_result"
    }
   ],
   "source": [
    "def fact(n):\n",
    "    if n==1:\n",
    "        return n\n",
    "    else:\n",
    "        return n*fact(n-1)\n",
    "fact(5)"
   ]
  },
  {
   "cell_type": "markdown",
   "id": "2b2d9391",
   "metadata": {},
   "source": [
    "or "
   ]
  },
  {
   "cell_type": "markdown",
   "id": "53d09c7d",
   "metadata": {},
   "source": [
    "x   (using 2 function)"
   ]
  },
  {
   "cell_type": "code",
   "execution_count": null,
   "id": "00308469",
   "metadata": {},
   "outputs": [],
   "source": [
    "def factorial1():\n",
    "    fact1=1\n",
    "    for i in range(1,3):\n",
    "        fact1*=i\n",
    "    return fact1\n",
    "def factorial2(k):\n",
    "    fact2=1\n",
    "    for i in range(3,k+1):\n",
    "        fact2*=i\n",
    "    return fact2*factorial1()\n",
    "    \n",
    "factorial2(int(input('enter a number: ')))"
   ]
  },
  {
   "cell_type": "markdown",
   "id": "13efa1d8",
   "metadata": {},
   "source": [
    "2. Write a recursive function that accepts two numbers as its argument and returns its\n",
    "power."
   ]
  },
  {
   "cell_type": "code",
   "execution_count": null,
   "id": "9c9eccb5",
   "metadata": {},
   "outputs": [],
   "source": [
    "def power(base,exp):\n",
    "    if exp==0:\n",
    "        return 1\n",
    "    if exp==1:\n",
    "        return base\n",
    "    else:\n",
    "        return base*power(base,exp-1)\n",
    "power(2,3)"
   ]
  },
  {
   "cell_type": "markdown",
   "id": "e4f55923",
   "metadata": {},
   "source": [
    "3. Write a recursive function that accepts a number as its argument and returns the\n",
    "sum of digits."
   ]
  },
  {
   "cell_type": "code",
   "execution_count": 7,
   "id": "0cf8c4a8",
   "metadata": {},
   "outputs": [
    {
     "data": {
      "text/plain": [
       "6"
      ]
     },
     "execution_count": 7,
     "metadata": {},
     "output_type": "execute_result"
    }
   ],
   "source": [
    "def sum_digit(n):\n",
    "    if n<10:\n",
    "        return n\n",
    "    else:\n",
    "        return n%10+sum_digit(n//10)\n",
    "sum_digit(123)"
   ]
  },
  {
   "cell_type": "code",
   "execution_count": 5,
   "id": "57066046",
   "metadata": {},
   "outputs": [
    {
     "data": {
      "text/plain": [
       "3"
      ]
     },
     "execution_count": 5,
     "metadata": {},
     "output_type": "execute_result"
    }
   ],
   "source": [
    "123%10"
   ]
  },
  {
   "cell_type": "code",
   "execution_count": 17,
   "id": "70e4ca23",
   "metadata": {},
   "outputs": [
    {
     "data": {
      "text/plain": [
       "2"
      ]
     },
     "execution_count": 17,
     "metadata": {},
     "output_type": "execute_result"
    }
   ],
   "source": [
    "12%10"
   ]
  },
  {
   "cell_type": "code",
   "execution_count": 6,
   "id": "d43c9056",
   "metadata": {},
   "outputs": [
    {
     "data": {
      "text/plain": [
       "12"
      ]
     },
     "execution_count": 6,
     "metadata": {},
     "output_type": "execute_result"
    }
   ],
   "source": [
    "123//10"
   ]
  },
  {
   "cell_type": "code",
   "execution_count": null,
   "id": "552ff182",
   "metadata": {},
   "outputs": [],
   "source": [
    "12//10"
   ]
  },
  {
   "cell_type": "code",
   "execution_count": 16,
   "id": "ea08ba3a",
   "metadata": {},
   "outputs": [
    {
     "data": {
      "text/plain": [
       "8"
      ]
     },
     "execution_count": 16,
     "metadata": {},
     "output_type": "execute_result"
    }
   ],
   "source": [
    "8%16"
   ]
  },
  {
   "cell_type": "markdown",
   "id": "3fd5fd7e",
   "metadata": {},
   "source": [
    "4. Write a program that reads two integers from keyboard and calculate the greatest\n",
    "common divisor (gcd) using recursive function."
   ]
  },
  {
   "cell_type": "code",
   "execution_count": 28,
   "id": "482a4702",
   "metadata": {},
   "outputs": [
    {
     "name": "stdout",
     "output_type": "stream",
     "text": [
      "15 and 9 gcd is 3\n"
     ]
    }
   ],
   "source": [
    "def gcd(x, y):\n",
    "    if (x % y == 0):\n",
    "        return y\n",
    "    else:\n",
    "        return gcd(y, x % y)\n",
    "num1 = 15\n",
    "num2 = 9\n",
    "print(num1,\"and\",num2,\"gcd is\", gcd(num1,num2))"
   ]
  },
  {
   "cell_type": "code",
   "execution_count": 22,
   "id": "66c1d265",
   "metadata": {
    "scrolled": true
   },
   "outputs": [
    {
     "data": {
      "text/plain": [
       "6"
      ]
     },
     "execution_count": 22,
     "metadata": {},
     "output_type": "execute_result"
    }
   ],
   "source": [
    "15%9"
   ]
  },
  {
   "cell_type": "code",
   "execution_count": 23,
   "id": "052d974a",
   "metadata": {},
   "outputs": [
    {
     "data": {
      "text/plain": [
       "3"
      ]
     },
     "execution_count": 23,
     "metadata": {},
     "output_type": "execute_result"
    }
   ],
   "source": [
    "9%6"
   ]
  },
  {
   "cell_type": "markdown",
   "id": "abbaadba",
   "metadata": {},
   "source": [
    "5. Write a recursive function that accepts an integer argument in n. This function\n",
    "returns the nth Fibonacci number. Call the function to print Fibonacci sequences."
   ]
  },
  {
   "cell_type": "code",
   "execution_count": 40,
   "id": "c197a021",
   "metadata": {},
   "outputs": [
    {
     "name": "stdout",
     "output_type": "stream",
     "text": [
      "0 1 1 2 3 5 8 13 21 34 55 "
     ]
    }
   ],
   "source": [
    "def fib(n):\n",
    "    if (n <= 0):\n",
    "        return 0\n",
    "    elif (n == 1):\n",
    "        return 1\n",
    "    else:\n",
    "        return fib(n - 1) + fib(n - 2)\n",
    "    \n",
    "\n",
    "for x in range(11):\n",
    "    print(fib(x),end=\" \")\n",
    "#fib(10)"
   ]
  },
  {
   "cell_type": "markdown",
   "id": "dc51f465",
   "metadata": {},
   "source": []
  }
 ],
 "metadata": {
  "kernelspec": {
   "display_name": "Python 3 (ipykernel)",
   "language": "python",
   "name": "python3"
  },
  "language_info": {
   "codemirror_mode": {
    "name": "ipython",
    "version": 3
   },
   "file_extension": ".py",
   "mimetype": "text/x-python",
   "name": "python",
   "nbconvert_exporter": "python",
   "pygments_lexer": "ipython3",
   "version": "3.11.5"
  }
 },
 "nbformat": 4,
 "nbformat_minor": 5
}
