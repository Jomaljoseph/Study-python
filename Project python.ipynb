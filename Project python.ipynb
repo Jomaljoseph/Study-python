{
 "cells": [
  {
   "cell_type": "code",
   "execution_count": 24,
   "id": "6a2ad92b",
   "metadata": {
    "scrolled": true
   },
   "outputs": [],
   "source": [
    "class bees:\n",
    "    gst=10/100\n",
    "    def __init__(self):\n",
    "        self.price_table={'honey':250,\n",
    "                       'processed honey':300,\n",
    "                       'forest honey':450,\n",
    "                       'dates':120,\n",
    "                       'cherry':150}\n",
    "        self.stock={'honey':10,\n",
    "                   'processed honey':10,\n",
    "                   'forest honey':10,\n",
    "                   'dates':10,\n",
    "                   'cherry':10}\n",
    "        self.total_collection=0\n",
    "        #self.final_price=0\n",
    "        \n",
    "    def display_price_table(self):\n",
    "        print(self.price_table)\n",
    "        \n",
    "    def invoice(self):\n",
    "        #global final_price\n",
    "        final_price=0\n",
    "        discount_price=0\n",
    "        print('select customer type')\n",
    "        print('1.premium \\n 2.regular \\n 3.normal')\n",
    "        customer=int(input())\n",
    "        if customer==1:\n",
    "            discount=5/100\n",
    "        elif customer==2:\n",
    "            discount=3/100\n",
    "        elif customer==3:\n",
    "            discount=0\n",
    "        else:\n",
    "            print('invalid input')\n",
    "        while True:  \n",
    "            item=input('enter item name (type no to exit): ')\n",
    "            if item.lower()=='no':\n",
    "                break\n",
    "            if item.lower() in self.price_table.keys():\n",
    "                qty=int(input('enter quantity: '))\n",
    "                total_price=self.price_table[item.lower()]*qty\n",
    "                if item.lower()=='dates' or item.lower()=='cherry':\n",
    "                    tax=total_price*bees.gst\n",
    "                    total_price+=tax\n",
    "                if self.stock[item]>=qty:\n",
    "                    self.stock[item]-=qty\n",
    "                    print('total is: ',total_price)\n",
    "                    final_price+=total_price\n",
    "                    discount_price=final_price*discount\n",
    "                    final_price-=discount_price\n",
    "                else:\n",
    "                    print('do not have enough stock for: ',item)\n",
    "        self.total_collection+=final_price\n",
    "        print('final price is: ',final_price)\n",
    "        \n",
    "    def display_stock(self):\n",
    "        print(self.stock)\n",
    "        \n",
    "    def add_new_item(self):\n",
    "        new_item=input('enter new item name: ')\n",
    "        new_price=input('enter price: ')\n",
    "        self.price_table.update({new_item:new_price})\n",
    "        self.stock.update({new_item:0})\n",
    "    \n",
    "    def add_stock(self):\n",
    "        item=input('enter the item you want to add: ')\n",
    "        quantity=int(input('enter quantity: '))\n",
    "        self.stock[item]=self.stock[item]+quantity\n",
    "        \n",
    "    def collection(self):\n",
    "        print('total collection is: ',self.total_collection)\n",
    "\n",
    "#final_price=0\n",
    "b=bees()"
   ]
  },
  {
   "cell_type": "code",
   "execution_count": null,
   "id": "6349c136",
   "metadata": {},
   "outputs": [
    {
     "name": "stdout",
     "output_type": "stream",
     "text": [
      "please select an option below\n",
      "1.Display price table\n",
      "2.Billing\n",
      "3.Display stock\n",
      "4.Add new item\n",
      "5.Add stock\n",
      "6.Total collection\n",
      "2\n",
      "select customer type\n",
      "1.premium \n",
      " 2.regular \n",
      " 3.normal\n",
      "3\n",
      "enter item name (type no to exit): honey\n",
      "enter quantity: 2\n",
      "total is:  500\n",
      "enter item name (type no to exit): cherry\n",
      "enter quantity: 2\n",
      "total is:  330.0\n",
      "enter item name (type no to exit): no\n",
      "final price is:  0.0\n"
     ]
    }
   ],
   "source": [
    "while True:\n",
    "    print(\"please select an option below\")\n",
    "    print(\"1.Display price table\\n2.Billing\\n3.Display stock\\n4.Add new item\\n5.Add stock\\n6.Total collection\")\n",
    "    choice=int(input())\n",
    "    if choice==1:\n",
    "        b.display_price_table()\n",
    "    if choice==2:\n",
    "        b.invoice()\n",
    "    if choice==3:\n",
    "        b.display_stock()\n",
    "    if choice==4:\n",
    "        b.add_new_item()\n",
    "    if choice==5:\n",
    "        b.add_stock()\n",
    "    if choice==6:\n",
    "        b.collection()\n",
    "    if input(\"do you want to continue: \")=='yes':\n",
    "        continue\n",
    "    else:\n",
    "        break"
   ]
  },
  {
   "cell_type": "code",
   "execution_count": null,
   "id": "c6a5942c",
   "metadata": {
    "scrolled": false
   },
   "outputs": [],
   "source": [
    "b.display_price_table()\n",
    "b.display_stock()\n",
    "b.invoice()\n",
    "#b.add_new_item()\n",
    "#b.add_stock()\n",
    "b.display_stock()\n",
    "b.collection()"
   ]
  },
  {
   "cell_type": "code",
   "execution_count": null,
   "id": "2f3f1903",
   "metadata": {},
   "outputs": [],
   "source": [
    "stock={'honey':10,\n",
    "      'processed_honey':10,\n",
    "      'forest_honey':10,\n",
    "      'dates':10,\n",
    "      'cherry':10}\n",
    "if stock['honey']>=2:\n",
    "    stock['honey']-=2"
   ]
  },
  {
   "cell_type": "code",
   "execution_count": 30,
   "id": "5897aefd",
   "metadata": {
    "scrolled": true
   },
   "outputs": [
    {
     "data": {
      "text/plain": [
       "8"
      ]
     },
     "execution_count": 30,
     "metadata": {},
     "output_type": "execute_result"
    }
   ],
   "source": [
    "stock['honey']"
   ]
  }
 ],
 "metadata": {
  "kernelspec": {
   "display_name": "Python 3 (ipykernel)",
   "language": "python",
   "name": "python3"
  },
  "language_info": {
   "codemirror_mode": {
    "name": "ipython",
    "version": 3
   },
   "file_extension": ".py",
   "mimetype": "text/x-python",
   "name": "python",
   "nbconvert_exporter": "python",
   "pygments_lexer": "ipython3",
   "version": "3.11.5"
  }
 },
 "nbformat": 4,
 "nbformat_minor": 5
}
