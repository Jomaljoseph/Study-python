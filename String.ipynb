{
 "cells": [
  {
   "cell_type": "markdown",
   "id": "717636d3",
   "metadata": {},
   "source": [
    "### 18/08/23 ACLP2 PR"
   ]
  },
  {
   "cell_type": "code",
   "execution_count": 3,
   "id": "4811be19",
   "metadata": {
    "scrolled": true
   },
   "outputs": [
    {
     "data": {
      "text/plain": [
       "11"
      ]
     },
     "execution_count": 3,
     "metadata": {},
     "output_type": "execute_result"
    }
   ],
   "source": [
    "8+3"
   ]
  },
  {
   "cell_type": "markdown",
   "id": "e37b8bc7",
   "metadata": {},
   "source": [
    "### HEADING"
   ]
  },
  {
   "cell_type": "markdown",
   "id": "8fc27d9e",
   "metadata": {},
   "source": [
    "### <center> HEADING"
   ]
  },
  {
   "cell_type": "markdown",
   "id": "6561a73a",
   "metadata": {},
   "source": [
    "### 02/09/23 ACLP4 AJ"
   ]
  },
  {
   "cell_type": "code",
   "execution_count": 2,
   "id": "8081a9da",
   "metadata": {},
   "outputs": [
    {
     "name": "stdout",
     "output_type": "stream",
     "text": [
      "hello_hai\n"
     ]
    }
   ],
   "source": [
    "string1='hello_hai'\n",
    "print(string1)"
   ]
  },
  {
   "cell_type": "code",
   "execution_count": 3,
   "id": "8286b522",
   "metadata": {
    "scrolled": true
   },
   "outputs": [
    {
     "name": "stdout",
     "output_type": "stream",
     "text": [
      "h\n"
     ]
    }
   ],
   "source": [
    "print(string1[0])"
   ]
  },
  {
   "cell_type": "code",
   "execution_count": 4,
   "id": "511521b3",
   "metadata": {},
   "outputs": [
    {
     "name": "stdout",
     "output_type": "stream",
     "text": [
      "_\n"
     ]
    }
   ],
   "source": [
    "print(string1[5])"
   ]
  },
  {
   "cell_type": "code",
   "execution_count": 9,
   "id": "90ea7e6e",
   "metadata": {},
   "outputs": [
    {
     "name": "stdout",
     "output_type": "stream",
     "text": [
      "hello\n"
     ]
    }
   ],
   "source": [
    "print(string1[0:5])"
   ]
  },
  {
   "cell_type": "code",
   "execution_count": 10,
   "id": "a6e9ba2e",
   "metadata": {},
   "outputs": [
    {
     "name": "stdout",
     "output_type": "stream",
     "text": [
      "hello_\n",
      "hai\n"
     ]
    }
   ],
   "source": [
    "print(string1[:6])\n",
    "print(string1[6:])"
   ]
  },
  {
   "cell_type": "code",
   "execution_count": 11,
   "id": "bb4c5731",
   "metadata": {},
   "outputs": [
    {
     "name": "stdout",
     "output_type": "stream",
     "text": [
      "9\n"
     ]
    }
   ],
   "source": [
    "print(len(string1))"
   ]
  },
  {
   "cell_type": "code",
   "execution_count": 12,
   "id": "74418edc",
   "metadata": {},
   "outputs": [
    {
     "name": "stdout",
     "output_type": "stream",
     "text": [
      "hai\n",
      "ha\n"
     ]
    }
   ],
   "source": [
    "print(string1[-3:])\n",
    "print(string1[-3:-1])"
   ]
  },
  {
   "cell_type": "code",
   "execution_count": 13,
   "id": "5f384ec9",
   "metadata": {},
   "outputs": [
    {
     "name": "stdout",
     "output_type": "stream",
     "text": [
      "HELLO_HAI\n"
     ]
    }
   ],
   "source": [
    "print(string1.upper())"
   ]
  },
  {
   "cell_type": "code",
   "execution_count": 14,
   "id": "71711b4a",
   "metadata": {},
   "outputs": [],
   "source": [
    "string1=string1.upper()\n"
   ]
  },
  {
   "cell_type": "code",
   "execution_count": 15,
   "id": "284df741",
   "metadata": {},
   "outputs": [
    {
     "name": "stdout",
     "output_type": "stream",
     "text": [
      "HELLO_HAI\n"
     ]
    }
   ],
   "source": [
    "print(string1)"
   ]
  },
  {
   "cell_type": "code",
   "execution_count": 16,
   "id": "6649a4fb",
   "metadata": {},
   "outputs": [
    {
     "name": "stdout",
     "output_type": "stream",
     "text": [
      "hello_hai\n"
     ]
    }
   ],
   "source": [
    "string1=string1.lower()\n",
    "print(string1)"
   ]
  },
  {
   "cell_type": "code",
   "execution_count": 17,
   "id": "3bd9c59e",
   "metadata": {},
   "outputs": [
    {
     "name": "stdout",
     "output_type": "stream",
     "text": [
      "jello_jai\n"
     ]
    }
   ],
   "source": [
    "print(string1.replace('h','j'))"
   ]
  },
  {
   "cell_type": "code",
   "execution_count": 22,
   "id": "3ecd92e0",
   "metadata": {},
   "outputs": [
    {
     "name": "stdout",
     "output_type": "stream",
     "text": [
      "hello_hai\n"
     ]
    }
   ],
   "source": [
    "print(string1)"
   ]
  },
  {
   "cell_type": "code",
   "execution_count": 23,
   "id": "ef2833be",
   "metadata": {},
   "outputs": [
    {
     "name": "stdout",
     "output_type": "stream",
     "text": [
      "kottayam pala kadand\n",
      "['kottayam', 'pala', 'kadand']\n"
     ]
    }
   ],
   "source": [
    "str1='kottayam pala kadand'\n",
    "print(str1)\n",
    "print(str1.split(' '))"
   ]
  },
  {
   "cell_type": "code",
   "execution_count": 24,
   "id": "7a8d09ee",
   "metadata": {},
   "outputs": [
    {
     "name": "stdout",
     "output_type": "stream",
     "text": [
      "hello_haikottayam pala kadand\n"
     ]
    }
   ],
   "source": [
    "print(string1+str1)"
   ]
  },
  {
   "cell_type": "code",
   "execution_count": 27,
   "id": "3fa2f97a",
   "metadata": {},
   "outputs": [
    {
     "name": "stdout",
     "output_type": "stream",
     "text": [
      "hello_hai kottayam pala kadand\n"
     ]
    }
   ],
   "source": [
    "print(string1+' '+str1)"
   ]
  },
  {
   "cell_type": "code",
   "execution_count": 34,
   "id": "e5ee125f",
   "metadata": {},
   "outputs": [
    {
     "name": "stdout",
     "output_type": "stream",
     "text": [
      "way to home: kottayam pala kadanad\n"
     ]
    }
   ],
   "source": [
    "string2='way to home'\n",
    "str2='kottayam pala kadanad'\n",
    "print(string2+ ': '+str2)"
   ]
  },
  {
   "cell_type": "markdown",
   "id": "705496cf",
   "metadata": {},
   "source": [
    "### 02/09/23 ACLP4 AJ"
   ]
  },
  {
   "cell_type": "code",
   "execution_count": 2,
   "id": "d8ad5313",
   "metadata": {},
   "outputs": [],
   "source": [
    "string1='I am learning python'"
   ]
  },
  {
   "cell_type": "markdown",
   "id": "19ae71a8",
   "metadata": {},
   "source": [
    "print the word python from given string"
   ]
  },
  {
   "cell_type": "code",
   "execution_count": 3,
   "id": "084d38cd",
   "metadata": {},
   "outputs": [
    {
     "name": "stdout",
     "output_type": "stream",
     "text": [
      "python\n"
     ]
    }
   ],
   "source": [
    "print(string1[-6:])"
   ]
  },
  {
   "cell_type": "markdown",
   "id": "b367ada8",
   "metadata": {},
   "source": [
    "replace 'l' to 'j'"
   ]
  },
  {
   "cell_type": "code",
   "execution_count": 4,
   "id": "c28999c7",
   "metadata": {},
   "outputs": [
    {
     "name": "stdout",
     "output_type": "stream",
     "text": [
      "I am jearning python\n"
     ]
    }
   ],
   "source": [
    "print(string1.replace('l','j'))   # only replace one charactor"
   ]
  },
  {
   "cell_type": "markdown",
   "id": "3c79a146",
   "metadata": {},
   "source": [
    "middle value of given string"
   ]
  },
  {
   "cell_type": "code",
   "execution_count": 8,
   "id": "f100255e",
   "metadata": {},
   "outputs": [
    {
     "name": "stdout",
     "output_type": "stream",
     "text": [
      "i\n"
     ]
    }
   ],
   "source": [
    "mid=len(string1)//2\n",
    "print(string1[mid])"
   ]
  },
  {
   "cell_type": "code",
   "execution_count": 9,
   "id": "74dd93aa",
   "metadata": {},
   "outputs": [
    {
     "name": "stdout",
     "output_type": "stream",
     "text": [
      "aukellylt\n"
     ]
    }
   ],
   "source": [
    "str1='ault'\n",
    "str2='kelly'\n",
    "print(str1[:2]+str2+str1[-2:])"
   ]
  },
  {
   "cell_type": "markdown",
   "id": "26baf872",
   "metadata": {},
   "source": [
    "or"
   ]
  },
  {
   "cell_type": "code",
   "execution_count": 10,
   "id": "879ebe91",
   "metadata": {},
   "outputs": [
    {
     "name": "stdout",
     "output_type": "stream",
     "text": [
      "aukellylt\n"
     ]
    }
   ],
   "source": [
    "mid=len(str1)//2\n",
    "print(str1[:mid]+str2+str1[mid:])"
   ]
  },
  {
   "cell_type": "markdown",
   "id": "57038761",
   "metadata": {},
   "source": [
    "print a new using first letters of st1 and st2 + middle letters of st1 and st2 + last letters of st1 and st2 "
   ]
  },
  {
   "cell_type": "code",
   "execution_count": 1,
   "id": "2ca3004d",
   "metadata": {},
   "outputs": [
    {
     "name": "stdout",
     "output_type": "stream",
     "text": [
      "AJrpan\n"
     ]
    }
   ],
   "source": [
    "st1='America'\n",
    "st2='Japan'\n",
    "mi1=len(st1)//2\n",
    "mi2=len(st2)//2\n",
    "print(st1[0]+st2[0]+st1[mi1]+st2[mi2]+st1[-1]+st2[-1])"
   ]
  },
  {
   "cell_type": "markdown",
   "id": "073d1dc3",
   "metadata": {},
   "source": [
    "# String new"
   ]
  },
  {
   "cell_type": "code",
   "execution_count": 2,
   "id": "cbf987a1",
   "metadata": {},
   "outputs": [
    {
     "name": "stdout",
     "output_type": "stream",
     "text": [
      "raju123\n"
     ]
    }
   ],
   "source": [
    "name='raju123'\n",
    "print(name)"
   ]
  },
  {
   "cell_type": "markdown",
   "id": "967efeb8",
   "metadata": {},
   "source": [
    "print 'r' from the above string"
   ]
  },
  {
   "cell_type": "code",
   "execution_count": 3,
   "id": "401d02d4",
   "metadata": {},
   "outputs": [
    {
     "name": "stdout",
     "output_type": "stream",
     "text": [
      "r\n"
     ]
    }
   ],
   "source": [
    "print(name[0])"
   ]
  },
  {
   "cell_type": "markdown",
   "id": "2f90301c",
   "metadata": {},
   "source": [
    "print 'j'"
   ]
  },
  {
   "cell_type": "code",
   "execution_count": 4,
   "id": "e1664444",
   "metadata": {},
   "outputs": [
    {
     "name": "stdout",
     "output_type": "stream",
     "text": [
      "j\n"
     ]
    }
   ],
   "source": [
    "print(name[2])"
   ]
  },
  {
   "cell_type": "markdown",
   "id": "eb9832c8",
   "metadata": {},
   "source": [
    "print '3'"
   ]
  },
  {
   "cell_type": "code",
   "execution_count": 5,
   "id": "f71d9be5",
   "metadata": {},
   "outputs": [
    {
     "name": "stdout",
     "output_type": "stream",
     "text": [
      "3\n"
     ]
    }
   ],
   "source": [
    "print(name[6])"
   ]
  },
  {
   "cell_type": "markdown",
   "id": "7944e373",
   "metadata": {},
   "source": [
    "print '2' using negative indexing"
   ]
  },
  {
   "cell_type": "code",
   "execution_count": 6,
   "id": "99e44656",
   "metadata": {},
   "outputs": [
    {
     "name": "stdout",
     "output_type": "stream",
     "text": [
      "2\n"
     ]
    }
   ],
   "source": [
    "print(name[-2])"
   ]
  },
  {
   "cell_type": "markdown",
   "id": "6d744e3b",
   "metadata": {},
   "source": [
    "print 'aju' from above string"
   ]
  },
  {
   "cell_type": "code",
   "execution_count": 7,
   "id": "93f0324b",
   "metadata": {},
   "outputs": [
    {
     "name": "stdout",
     "output_type": "stream",
     "text": [
      "aju\n"
     ]
    }
   ],
   "source": [
    "print(name[1:4])"
   ]
  },
  {
   "cell_type": "code",
   "execution_count": 8,
   "id": "ade8b69b",
   "metadata": {},
   "outputs": [
    {
     "name": "stdout",
     "output_type": "stream",
     "text": [
      "123\n"
     ]
    }
   ],
   "source": [
    "print(name[4:7])"
   ]
  },
  {
   "cell_type": "code",
   "execution_count": 9,
   "id": "bafab533",
   "metadata": {},
   "outputs": [
    {
     "name": "stdout",
     "output_type": "stream",
     "text": [
      "raju\n"
     ]
    }
   ],
   "source": [
    "print(name[:4])"
   ]
  },
  {
   "cell_type": "code",
   "execution_count": 11,
   "id": "b7f8f05f",
   "metadata": {},
   "outputs": [
    {
     "name": "stdout",
     "output_type": "stream",
     "text": [
      "123\n"
     ]
    }
   ],
   "source": [
    "print(name[-3:])"
   ]
  },
  {
   "cell_type": "markdown",
   "id": "83dbbdcb",
   "metadata": {},
   "source": [
    "find the length of the above string ('name')"
   ]
  },
  {
   "cell_type": "code",
   "execution_count": 12,
   "id": "6f329ca1",
   "metadata": {},
   "outputs": [
    {
     "name": "stdout",
     "output_type": "stream",
     "text": [
      "7\n"
     ]
    }
   ],
   "source": [
    "print(len(name))"
   ]
  },
  {
   "cell_type": "markdown",
   "id": "ba8b67ac",
   "metadata": {},
   "source": [
    "create a new string 'abc' named 'letters' and print it in upper case"
   ]
  },
  {
   "cell_type": "code",
   "execution_count": 13,
   "id": "7d304fc6",
   "metadata": {},
   "outputs": [
    {
     "name": "stdout",
     "output_type": "stream",
     "text": [
      "ABC\n"
     ]
    }
   ],
   "source": [
    "letters='abc'\n",
    "print(letters.upper())"
   ]
  },
  {
   "cell_type": "markdown",
   "id": "83bd7d4b",
   "metadata": {},
   "source": [
    "permenent convertion into upper case"
   ]
  },
  {
   "cell_type": "code",
   "execution_count": 14,
   "id": "b4f5c3b2",
   "metadata": {},
   "outputs": [
    {
     "data": {
      "text/plain": [
       "'ABC'"
      ]
     },
     "execution_count": 14,
     "metadata": {},
     "output_type": "execute_result"
    }
   ],
   "source": [
    "letters=letters.upper()\n",
    "letters"
   ]
  },
  {
   "cell_type": "code",
   "execution_count": 15,
   "id": "cccca4da",
   "metadata": {},
   "outputs": [
    {
     "name": "stdout",
     "output_type": "stream",
     "text": [
      "abc\n"
     ]
    }
   ],
   "source": [
    "letters=letters.lower()\n",
    "print(letters)"
   ]
  },
  {
   "cell_type": "markdown",
   "id": "0c17391e",
   "metadata": {},
   "source": [
    "create a string with space at the beginning (value=' remya') and print with out space (o/p- 'remya')"
   ]
  },
  {
   "cell_type": "code",
   "execution_count": 16,
   "id": "7b196948",
   "metadata": {},
   "outputs": [
    {
     "name": "stdout",
     "output_type": "stream",
     "text": [
      "remya\n",
      " remya\n"
     ]
    }
   ],
   "source": [
    "value1='remya'\n",
    "value2=' remya'\n",
    "print(value1)\n",
    "print(value2)"
   ]
  },
  {
   "cell_type": "code",
   "execution_count": 17,
   "id": "88890098",
   "metadata": {},
   "outputs": [
    {
     "name": "stdout",
     "output_type": "stream",
     "text": [
      "remya\n",
      "remya\n"
     ]
    }
   ],
   "source": [
    "print(value1)\n",
    "print(value2.strip())  #it will avoid space at the begnning"
   ]
  },
  {
   "cell_type": "markdown",
   "id": "7dc66539",
   "metadata": {},
   "source": [
    "replace 'r' of 'value1' to 'R'"
   ]
  },
  {
   "cell_type": "code",
   "execution_count": 18,
   "id": "7ef07f86",
   "metadata": {},
   "outputs": [
    {
     "data": {
      "text/plain": [
       "'remya'"
      ]
     },
     "execution_count": 18,
     "metadata": {},
     "output_type": "execute_result"
    }
   ],
   "source": [
    "value1"
   ]
  },
  {
   "cell_type": "code",
   "execution_count": 19,
   "id": "cc9cc9af",
   "metadata": {},
   "outputs": [
    {
     "name": "stdout",
     "output_type": "stream",
     "text": [
      "Remya\n"
     ]
    }
   ],
   "source": [
    "print(value1.replace('r','R'))  # replace a value"
   ]
  },
  {
   "cell_type": "code",
   "execution_count": 20,
   "id": "874ce81d",
   "metadata": {},
   "outputs": [
    {
     "name": "stdout",
     "output_type": "stream",
     "text": [
      "iemya i mohan\n"
     ]
    }
   ],
   "source": [
    "val1='remya r mohan'\n",
    "print(val1.replace('r','i'))  # it will replace all the 'r' in the string"
   ]
  },
  {
   "cell_type": "code",
   "execution_count": 21,
   "id": "af798f03",
   "metadata": {},
   "outputs": [
    {
     "data": {
      "text/plain": [
       "'remya r mohan'"
      ]
     },
     "execution_count": 21,
     "metadata": {},
     "output_type": "execute_result"
    }
   ],
   "source": [
    "val1"
   ]
  },
  {
   "cell_type": "markdown",
   "id": "4899827a",
   "metadata": {},
   "source": [
    "split the above string based on ' ' (space)"
   ]
  },
  {
   "cell_type": "code",
   "execution_count": 22,
   "id": "75d098e2",
   "metadata": {},
   "outputs": [
    {
     "name": "stdout",
     "output_type": "stream",
     "text": [
      "['remya', 'r', 'mohan']\n"
     ]
    }
   ],
   "source": [
    "print(val1.split(' '))"
   ]
  },
  {
   "cell_type": "markdown",
   "id": "3af90346",
   "metadata": {},
   "source": [
    "split based on ',' (comma)"
   ]
  },
  {
   "cell_type": "code",
   "execution_count": 23,
   "id": "1225d04d",
   "metadata": {},
   "outputs": [
    {
     "name": "stdout",
     "output_type": "stream",
     "text": [
      "['remya r', 'mohan']\n"
     ]
    }
   ],
   "source": [
    "val2='remya r,mohan'\n",
    "print(val2.split(','))"
   ]
  },
  {
   "cell_type": "markdown",
   "id": "ad013308",
   "metadata": {},
   "source": [
    "join two strings"
   ]
  },
  {
   "cell_type": "code",
   "execution_count": 24,
   "id": "0949ee94",
   "metadata": {},
   "outputs": [
    {
     "data": {
      "text/plain": [
       "'abc def'"
      ]
     },
     "execution_count": 24,
     "metadata": {},
     "output_type": "execute_result"
    }
   ],
   "source": [
    "a='abc'\n",
    "b='def'\n",
    "a+' '+b"
   ]
  },
  {
   "cell_type": "markdown",
   "id": "dc70bb17",
   "metadata": {},
   "source": [
    "format()"
   ]
  },
  {
   "cell_type": "code",
   "execution_count": 25,
   "id": "59215d47",
   "metadata": {},
   "outputs": [
    {
     "name": "stdout",
     "output_type": "stream",
     "text": [
      "my name is remya, my age ia28\n"
     ]
    }
   ],
   "source": [
    "name='remya'\n",
    "age=28\n",
    "text='my name is {}, my age ia{}'   # variables in format function will appear in {} this brackets\n",
    "print(text.format(name,age))\n"
   ]
  },
  {
   "cell_type": "code",
   "execution_count": 26,
   "id": "eed8f77b",
   "metadata": {},
   "outputs": [
    {
     "name": "stdout",
     "output_type": "stream",
     "text": [
      "my name is remya,my age is 28\n"
     ]
    }
   ],
   "source": [
    "text1='my name is {1},my age is {0}' # mentioning the index of variables in format functin\n",
    "print(text1.format(age,name))        # index of age is 0 and name is 1"
   ]
  },
  {
   "cell_type": "markdown",
   "id": "4c24a4ca",
   "metadata": {},
   "source": [
    "create a string (name) that stores a user input"
   ]
  },
  {
   "cell_type": "code",
   "execution_count": 27,
   "id": "0c45ca64",
   "metadata": {},
   "outputs": [
    {
     "name": "stdout",
     "output_type": "stream",
     "text": [
      "enter your name: jomal\n",
      "jomal\n"
     ]
    }
   ],
   "source": [
    "name=input('enter your name: ')\n",
    "print(name)"
   ]
  },
  {
   "cell_type": "code",
   "execution_count": 28,
   "id": "75b8ed31",
   "metadata": {},
   "outputs": [
    {
     "name": "stdout",
     "output_type": "stream",
     "text": [
      "enter a number: 5\n",
      "enter another number: 5\n",
      "10\n"
     ]
    }
   ],
   "source": [
    "a=int(input('enter a number: '))\n",
    "b=int(input('enter another number: '))\n",
    "print(a+b)"
   ]
  },
  {
   "cell_type": "markdown",
   "id": "f45ba3ed",
   "metadata": {},
   "source": [
    "format() function using user input"
   ]
  },
  {
   "cell_type": "code",
   "execution_count": 30,
   "id": "125d74f8",
   "metadata": {},
   "outputs": [
    {
     "name": "stdout",
     "output_type": "stream",
     "text": [
      "enter your name: jomal\n",
      "enter your age: 25\n",
      "your name is jomal, your age is 25\n"
     ]
    }
   ],
   "source": [
    "name=input('enter your name: ')\n",
    "age=input('enter your age: ')\n",
    "text2='your name is {}, your age is {}'\n",
    "print(text2.format(name,age))"
   ]
  },
  {
   "cell_type": "code",
   "execution_count": null,
   "id": "669be699",
   "metadata": {},
   "outputs": [],
   "source": []
  }
 ],
 "metadata": {
  "kernelspec": {
   "display_name": "Python 3 (ipykernel)",
   "language": "python",
   "name": "python3"
  },
  "language_info": {
   "codemirror_mode": {
    "name": "ipython",
    "version": 3
   },
   "file_extension": ".py",
   "mimetype": "text/x-python",
   "name": "python",
   "nbconvert_exporter": "python",
   "pygments_lexer": "ipython3",
   "version": "3.10.9"
  }
 },
 "nbformat": 4,
 "nbformat_minor": 5
}
