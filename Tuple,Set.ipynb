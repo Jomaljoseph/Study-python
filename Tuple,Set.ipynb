{
 "cells": [
  {
   "cell_type": "code",
   "execution_count": 2,
   "id": "2396ffc2",
   "metadata": {},
   "outputs": [
    {
     "data": {
      "text/plain": [
       "[1, 2, 3, 'jomal', 1]"
      ]
     },
     "execution_count": 2,
     "metadata": {},
     "output_type": "execute_result"
    }
   ],
   "source": [
    "pythom_list=[1,2,3,'jomal',1]\n",
    "pythom_list"
   ]
  },
  {
   "cell_type": "markdown",
   "id": "6292e8de",
   "metadata": {},
   "source": [
    "tuple"
   ]
  },
  {
   "cell_type": "code",
   "execution_count": 3,
   "id": "bc6fe9a8",
   "metadata": {},
   "outputs": [],
   "source": [
    "python_tuple=(1,2,3,5)"
   ]
  },
  {
   "cell_type": "code",
   "execution_count": 4,
   "id": "99209be9",
   "metadata": {},
   "outputs": [
    {
     "name": "stdout",
     "output_type": "stream",
     "text": [
      "<class 'tuple'>\n"
     ]
    }
   ],
   "source": [
    "print(type(python_tuple))"
   ]
  },
  {
   "cell_type": "code",
   "execution_count": 5,
   "id": "7fedcfc5",
   "metadata": {},
   "outputs": [
    {
     "name": "stdout",
     "output_type": "stream",
     "text": [
      "<class 'str'>\n"
     ]
    }
   ],
   "source": [
    "tuple1=('jomal')  # a value alone is not a tuple\n",
    "print(type(tuple1))"
   ]
  },
  {
   "cell_type": "code",
   "execution_count": 11,
   "id": "e6c6cd27",
   "metadata": {},
   "outputs": [
    {
     "name": "stdout",
     "output_type": "stream",
     "text": [
      "<class 'int'>\n"
     ]
    }
   ],
   "source": [
    "tuple2=(2)\n",
    "print(type(tuple2))"
   ]
  },
  {
   "cell_type": "code",
   "execution_count": 12,
   "id": "52689a18",
   "metadata": {},
   "outputs": [
    {
     "name": "stdout",
     "output_type": "stream",
     "text": [
      "<class 'tuple'>\n"
     ]
    }
   ],
   "source": [
    "tuple3=('jomal',1,2)\n",
    "print(type(tuple3))"
   ]
  },
  {
   "cell_type": "code",
   "execution_count": 13,
   "id": "54578a9a",
   "metadata": {},
   "outputs": [
    {
     "name": "stdout",
     "output_type": "stream",
     "text": [
      "<class 'tuple'>\n"
     ]
    }
   ],
   "source": [
    "tuple4=('jomal',)\n",
    "print(type(tuple4))"
   ]
  },
  {
   "cell_type": "code",
   "execution_count": 15,
   "id": "354f3475",
   "metadata": {},
   "outputs": [
    {
     "data": {
      "text/plain": [
       "(1, 2, 3, 1)"
      ]
     },
     "execution_count": 15,
     "metadata": {},
     "output_type": "execute_result"
    }
   ],
   "source": [
    "tuple5=(1,2,3,1)  # tuple allows duplicate values\n",
    "tuple5"
   ]
  },
  {
   "cell_type": "code",
   "execution_count": 17,
   "id": "59e6c508",
   "metadata": {},
   "outputs": [
    {
     "name": "stdout",
     "output_type": "stream",
     "text": [
      "1\n"
     ]
    }
   ],
   "source": [
    "print(tuple5[0])  # tuples are ordered, can use indexing to print a single value from a tuple"
   ]
  },
  {
   "cell_type": "code",
   "execution_count": 18,
   "id": "228f1c19",
   "metadata": {},
   "outputs": [
    {
     "name": "stdout",
     "output_type": "stream",
     "text": [
      "(1, 2, 3)\n"
     ]
    }
   ],
   "source": [
    "print(tuple5[:3])"
   ]
  },
  {
   "cell_type": "code",
   "execution_count": 19,
   "id": "7f0f64f1",
   "metadata": {},
   "outputs": [
    {
     "name": "stdout",
     "output_type": "stream",
     "text": [
      "(1, 3, 2, 1)\n"
     ]
    }
   ],
   "source": [
    "print(tuple5[::-1])  # print tuple5 in reverse order\n",
    "      # start:end:step  (we need vales from begnning to end so both collens are blank)"
   ]
  },
  {
   "cell_type": "code",
   "execution_count": 20,
   "id": "d9ee0c59",
   "metadata": {},
   "outputs": [
    {
     "ename": "TypeError",
     "evalue": "'tuple' object does not support item assignment",
     "output_type": "error",
     "traceback": [
      "\u001b[1;31m---------------------------------------------------------------------------\u001b[0m",
      "\u001b[1;31mTypeError\u001b[0m                                 Traceback (most recent call last)",
      "Cell \u001b[1;32mIn[20], line 1\u001b[0m\n\u001b[1;32m----> 1\u001b[0m tuple5[\u001b[38;5;241m1\u001b[39m]\u001b[38;5;241m=\u001b[39m\u001b[38;5;241m4\u001b[39m\n",
      "\u001b[1;31mTypeError\u001b[0m: 'tuple' object does not support item assignment"
     ]
    }
   ],
   "source": [
    "tuple5[1]=4  # tuples are unchangable"
   ]
  },
  {
   "cell_type": "code",
   "execution_count": 21,
   "id": "32071d78",
   "metadata": {},
   "outputs": [],
   "source": [
    "t1=(1,2,3)\n",
    "t2=(4,5,6)\n",
    "t3=t1+t2"
   ]
  },
  {
   "cell_type": "code",
   "execution_count": 23,
   "id": "11a5d462",
   "metadata": {},
   "outputs": [
    {
     "data": {
      "text/plain": [
       "(1, 2, 3, 4, 5, 6)"
      ]
     },
     "execution_count": 23,
     "metadata": {},
     "output_type": "execute_result"
    }
   ],
   "source": [
    "t3    # can add tuples tougather"
   ]
  },
  {
   "cell_type": "markdown",
   "id": "ab5e609a",
   "metadata": {},
   "source": [
    "how can we change a value in a tuple"
   ]
  },
  {
   "cell_type": "code",
   "execution_count": 24,
   "id": "11cbaa6a",
   "metadata": {},
   "outputs": [
    {
     "data": {
      "text/plain": [
       "[1, 2, 3]"
      ]
     },
     "execution_count": 24,
     "metadata": {},
     "output_type": "execute_result"
    }
   ],
   "source": [
    "l1=list(t1)  # converting t1 to list\n",
    "l1"
   ]
  },
  {
   "cell_type": "code",
   "execution_count": 25,
   "id": "43631cab",
   "metadata": {},
   "outputs": [
    {
     "data": {
      "text/plain": [
       "[1, 2, 4]"
      ]
     },
     "execution_count": 25,
     "metadata": {},
     "output_type": "execute_result"
    }
   ],
   "source": [
    "l1[-1]=4  # changing 3 to 4\n",
    "l1"
   ]
  },
  {
   "cell_type": "code",
   "execution_count": 27,
   "id": "46a77d52",
   "metadata": {},
   "outputs": [
    {
     "data": {
      "text/plain": [
       "(1, 2, 4)"
      ]
     },
     "execution_count": 27,
     "metadata": {},
     "output_type": "execute_result"
    }
   ],
   "source": [
    "t1=tuple(l1) # converting list back to tuple with changed value\n",
    "t1"
   ]
  },
  {
   "cell_type": "code",
   "execution_count": 28,
   "id": "82d5862f",
   "metadata": {},
   "outputs": [
    {
     "data": {
      "text/plain": [
       "{1, 2, 3, 'jomal'}"
      ]
     },
     "execution_count": 28,
     "metadata": {},
     "output_type": "execute_result"
    }
   ],
   "source": [
    "python_set={1,2,3,'jomal'}\n",
    "python_set"
   ]
  },
  {
   "cell_type": "code",
   "execution_count": 31,
   "id": "ac9fed09",
   "metadata": {},
   "outputs": [
    {
     "data": {
      "text/plain": [
       "{1, 2, 3, 'jomal'}"
      ]
     },
     "execution_count": 31,
     "metadata": {},
     "output_type": "execute_result"
    }
   ],
   "source": [
    "python_set  #sets are unordered, it's value order may change any time"
   ]
  },
  {
   "cell_type": "code",
   "execution_count": 33,
   "id": "9fa31d5c",
   "metadata": {},
   "outputs": [
    {
     "ename": "TypeError",
     "evalue": "'set' object is not subscriptable",
     "output_type": "error",
     "traceback": [
      "\u001b[1;31m---------------------------------------------------------------------------\u001b[0m",
      "\u001b[1;31mTypeError\u001b[0m                                 Traceback (most recent call last)",
      "Cell \u001b[1;32mIn[33], line 1\u001b[0m\n\u001b[1;32m----> 1\u001b[0m \u001b[43mpython_set\u001b[49m\u001b[43m[\u001b[49m\u001b[38;5;241;43m0\u001b[39;49m\u001b[43m]\u001b[49m\n",
      "\u001b[1;31mTypeError\u001b[0m: 'set' object is not subscriptable"
     ]
    }
   ],
   "source": [
    "python_set[0]  # so indexing is not possible"
   ]
  },
  {
   "cell_type": "code",
   "execution_count": 34,
   "id": "4daf38f5",
   "metadata": {},
   "outputs": [
    {
     "data": {
      "text/plain": [
       "{1, 2, 3}"
      ]
     },
     "execution_count": 34,
     "metadata": {},
     "output_type": "execute_result"
    }
   ],
   "source": [
    "set1={1,2,3,1} # duplicates are not allowed\n",
    "set1           # will not display duplicated values"
   ]
  },
  {
   "cell_type": "code",
   "execution_count": 35,
   "id": "824b98c7",
   "metadata": {},
   "outputs": [
    {
     "data": {
      "text/plain": [
       "{1, 2, 3}"
      ]
     },
     "execution_count": 35,
     "metadata": {},
     "output_type": "execute_result"
    }
   ],
   "source": [
    "set2={1,2,3,True}  # True is counted as 'one' in python\n",
    "set2               # so True is not printed"
   ]
  },
  {
   "cell_type": "code",
   "execution_count": 36,
   "id": "32e42974",
   "metadata": {},
   "outputs": [
    {
     "data": {
      "text/plain": [
       "{True, 2, 3}"
      ]
     },
     "execution_count": 36,
     "metadata": {},
     "output_type": "execute_result"
    }
   ],
   "source": [
    "set3={2,3,True,1}  # hear first 'one'(true) is exicuted and second 'one'skipped\n",
    "set3"
   ]
  },
  {
   "cell_type": "code",
   "execution_count": 37,
   "id": "fb93832f",
   "metadata": {},
   "outputs": [
    {
     "data": {
      "text/plain": [
       "3"
      ]
     },
     "execution_count": 37,
     "metadata": {},
     "output_type": "execute_result"
    }
   ],
   "source": [
    "len(set3)"
   ]
  },
  {
   "cell_type": "code",
   "execution_count": 49,
   "id": "51b9e0c2",
   "metadata": {},
   "outputs": [],
   "source": [
    "set4={1,3,5,'apple'}"
   ]
  },
  {
   "cell_type": "code",
   "execution_count": 50,
   "id": "ab73f1d0",
   "metadata": {},
   "outputs": [
    {
     "ename": "TypeError",
     "evalue": "'set' object does not support item assignment",
     "output_type": "error",
     "traceback": [
      "\u001b[1;31m---------------------------------------------------------------------------\u001b[0m",
      "\u001b[1;31mTypeError\u001b[0m                                 Traceback (most recent call last)",
      "Cell \u001b[1;32mIn[50], line 1\u001b[0m\n\u001b[1;32m----> 1\u001b[0m set4[\u001b[38;5;241m0\u001b[39m]\u001b[38;5;241m=\u001b[39m\u001b[38;5;241m2\u001b[39m\n",
      "\u001b[1;31mTypeError\u001b[0m: 'set' object does not support item assignment"
     ]
    }
   ],
   "source": [
    "set4[0]=2  # sets are unchangeable"
   ]
  },
  {
   "cell_type": "code",
   "execution_count": 51,
   "id": "bbcf7407",
   "metadata": {},
   "outputs": [
    {
     "data": {
      "text/plain": [
       "{1, 3, 5, 'apple', 'orange'}"
      ]
     },
     "execution_count": 51,
     "metadata": {},
     "output_type": "execute_result"
    }
   ],
   "source": [
    "set4.add('orange')\n",
    "set4"
   ]
  },
  {
   "cell_type": "code",
   "execution_count": 52,
   "id": "6105bfa2",
   "metadata": {},
   "outputs": [
    {
     "data": {
      "text/plain": [
       "{1, 3, 5, 'orange'}"
      ]
     },
     "execution_count": 52,
     "metadata": {},
     "output_type": "execute_result"
    }
   ],
   "source": [
    "set4.remove('apple')\n",
    "set4"
   ]
  },
  {
   "cell_type": "code",
   "execution_count": 53,
   "id": "1a5b66f9",
   "metadata": {},
   "outputs": [
    {
     "data": {
      "text/plain": [
       "{1, 3, 5}"
      ]
     },
     "execution_count": 53,
     "metadata": {},
     "output_type": "execute_result"
    }
   ],
   "source": [
    "set4.discard('orange')\n",
    "set4"
   ]
  },
  {
   "cell_type": "code",
   "execution_count": 54,
   "id": "eefb8ebd",
   "metadata": {},
   "outputs": [
    {
     "ename": "KeyError",
     "evalue": "'apple'",
     "output_type": "error",
     "traceback": [
      "\u001b[1;31m---------------------------------------------------------------------------\u001b[0m",
      "\u001b[1;31mKeyError\u001b[0m                                  Traceback (most recent call last)",
      "Cell \u001b[1;32mIn[54], line 1\u001b[0m\n\u001b[1;32m----> 1\u001b[0m \u001b[43mset4\u001b[49m\u001b[38;5;241;43m.\u001b[39;49m\u001b[43mremove\u001b[49m\u001b[43m(\u001b[49m\u001b[38;5;124;43m'\u001b[39;49m\u001b[38;5;124;43mapple\u001b[39;49m\u001b[38;5;124;43m'\u001b[39;49m\u001b[43m)\u001b[49m  \u001b[38;5;66;03m# \u001b[39;00m\n\u001b[0;32m      2\u001b[0m set4\n",
      "\u001b[1;31mKeyError\u001b[0m: 'apple'"
     ]
    }
   ],
   "source": [
    "set4.remove('apple')  # remove will show error if we try to remove a value that is not in the set\n",
    "set4"
   ]
  },
  {
   "cell_type": "code",
   "execution_count": 55,
   "id": "a63b7b1c",
   "metadata": {},
   "outputs": [
    {
     "data": {
      "text/plain": [
       "{1, 3, 5}"
      ]
     },
     "execution_count": 55,
     "metadata": {},
     "output_type": "execute_result"
    }
   ],
   "source": [
    "set4.discard('orange')  # discard will not show error in case value is not in the set\n",
    "set4"
   ]
  },
  {
   "cell_type": "code",
   "execution_count": 56,
   "id": "b5781c75",
   "metadata": {},
   "outputs": [
    {
     "data": {
      "text/plain": [
       "{1, 3, 5}"
      ]
     },
     "execution_count": 56,
     "metadata": {},
     "output_type": "execute_result"
    }
   ],
   "source": [
    "set4.discard(8)\n",
    "set4"
   ]
  },
  {
   "cell_type": "code",
   "execution_count": 80,
   "id": "f55beb9e",
   "metadata": {},
   "outputs": [],
   "source": [
    "s1={1,2,3,4}\n",
    "s2={4,5,6}"
   ]
  },
  {
   "cell_type": "code",
   "execution_count": 81,
   "id": "dafb9bcf",
   "metadata": {},
   "outputs": [
    {
     "ename": "TypeError",
     "evalue": "unsupported operand type(s) for +: 'set' and 'set'",
     "output_type": "error",
     "traceback": [
      "\u001b[1;31m---------------------------------------------------------------------------\u001b[0m",
      "\u001b[1;31mTypeError\u001b[0m                                 Traceback (most recent call last)",
      "Cell \u001b[1;32mIn[81], line 1\u001b[0m\n\u001b[1;32m----> 1\u001b[0m \u001b[43ms1\u001b[49m\u001b[38;5;241;43m+\u001b[39;49m\u001b[43ms2\u001b[49m\n",
      "\u001b[1;31mTypeError\u001b[0m: unsupported operand type(s) for +: 'set' and 'set'"
     ]
    }
   ],
   "source": [
    "s1+s2  # cant add using '+'"
   ]
  },
  {
   "cell_type": "code",
   "execution_count": 90,
   "id": "9d0732fb",
   "metadata": {},
   "outputs": [
    {
     "data": {
      "text/plain": [
       "{1, 2, 3, 4, 5, 6}"
      ]
     },
     "execution_count": 90,
     "metadata": {},
     "output_type": "execute_result"
    }
   ],
   "source": [
    "s1.update(s2)  # storing s2 to s1\n",
    "s1"
   ]
  },
  {
   "cell_type": "code",
   "execution_count": 91,
   "id": "1bc395a5",
   "metadata": {},
   "outputs": [
    {
     "data": {
      "text/plain": [
       "{1, 2, 3, 4, 5, 6}"
      ]
     },
     "execution_count": 91,
     "metadata": {},
     "output_type": "execute_result"
    }
   ],
   "source": [
    "s1.union(s2)"
   ]
  },
  {
   "cell_type": "code",
   "execution_count": 88,
   "id": "c60298c3",
   "metadata": {
    "scrolled": true
   },
   "outputs": [
    {
     "data": {
      "text/plain": [
       "{1, 2, 3, 4, 5, 6}"
      ]
     },
     "execution_count": 88,
     "metadata": {},
     "output_type": "execute_result"
    }
   ],
   "source": [
    "s1"
   ]
  },
  {
   "cell_type": "code",
   "execution_count": 89,
   "id": "8b87f463",
   "metadata": {},
   "outputs": [
    {
     "data": {
      "text/plain": [
       "{4, 5, 6}"
      ]
     },
     "execution_count": 89,
     "metadata": {},
     "output_type": "execute_result"
    }
   ],
   "source": [
    "s2"
   ]
  },
  {
   "cell_type": "code",
   "execution_count": 84,
   "id": "5549dcb0",
   "metadata": {},
   "outputs": [
    {
     "data": {
      "text/plain": [
       "{4, 5, 6}"
      ]
     },
     "execution_count": 84,
     "metadata": {},
     "output_type": "execute_result"
    }
   ],
   "source": [
    "s1.intersection(s2)  # display duplicated values"
   ]
  },
  {
   "cell_type": "code",
   "execution_count": 92,
   "id": "2212a09c",
   "metadata": {},
   "outputs": [],
   "source": [
    "s1.clear()  # clear the set s1"
   ]
  },
  {
   "cell_type": "code",
   "execution_count": 93,
   "id": "e9a85079",
   "metadata": {},
   "outputs": [
    {
     "data": {
      "text/plain": [
       "set()"
      ]
     },
     "execution_count": 93,
     "metadata": {},
     "output_type": "execute_result"
    }
   ],
   "source": [
    "s1"
   ]
  },
  {
   "cell_type": "code",
   "execution_count": 94,
   "id": "613b0798",
   "metadata": {},
   "outputs": [],
   "source": [
    "del s1  # deleting s1"
   ]
  },
  {
   "cell_type": "code",
   "execution_count": 95,
   "id": "d2317632",
   "metadata": {},
   "outputs": [
    {
     "ename": "NameError",
     "evalue": "name 's1' is not defined",
     "output_type": "error",
     "traceback": [
      "\u001b[1;31m---------------------------------------------------------------------------\u001b[0m",
      "\u001b[1;31mNameError\u001b[0m                                 Traceback (most recent call last)",
      "Cell \u001b[1;32mIn[95], line 1\u001b[0m\n\u001b[1;32m----> 1\u001b[0m \u001b[43ms1\u001b[49m\n",
      "\u001b[1;31mNameError\u001b[0m: name 's1' is not defined"
     ]
    }
   ],
   "source": [
    "s1"
   ]
  },
  {
   "cell_type": "code",
   "execution_count": null,
   "id": "d71eec5b",
   "metadata": {},
   "outputs": [],
   "source": []
  }
 ],
 "metadata": {
  "kernelspec": {
   "display_name": "Python 3 (ipykernel)",
   "language": "python",
   "name": "python3"
  },
  "language_info": {
   "codemirror_mode": {
    "name": "ipython",
    "version": 3
   },
   "file_extension": ".py",
   "mimetype": "text/x-python",
   "name": "python",
   "nbconvert_exporter": "python",
   "pygments_lexer": "ipython3",
   "version": "3.10.9"
  }
 },
 "nbformat": 4,
 "nbformat_minor": 5
}
