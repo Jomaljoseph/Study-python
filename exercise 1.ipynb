{
 "cells": [
  {
   "cell_type": "code",
   "execution_count": null,
   "id": "9e26f38d",
   "metadata": {},
   "outputs": [],
   "source": [
    "x=5\n",
    "print(type(x))"
   ]
  },
  {
   "cell_type": "code",
   "execution_count": null,
   "id": "ca12e3d5",
   "metadata": {},
   "outputs": [],
   "source": [
    "y='john'\n",
    "print(type(y))"
   ]
  },
  {
   "cell_type": "code",
   "execution_count": null,
   "id": "98907d72",
   "metadata": {},
   "outputs": [],
   "source": [
    "x=True\n",
    "print(type(x))"
   ]
  },
  {
   "cell_type": "code",
   "execution_count": null,
   "id": "953a8478",
   "metadata": {},
   "outputs": [],
   "source": [
    "x=1j\n",
    "print(type(x))"
   ]
  },
  {
   "cell_type": "code",
   "execution_count": null,
   "id": "22f8fbe6",
   "metadata": {},
   "outputs": [],
   "source": [
    "x=3.8\n",
    "print(type(x))"
   ]
  },
  {
   "cell_type": "code",
   "execution_count": null,
   "id": "31cf3e6f",
   "metadata": {},
   "outputs": [],
   "source": [
    "x=5\n",
    "x=float(x)\n",
    "print(x)"
   ]
  },
  {
   "cell_type": "code",
   "execution_count": null,
   "id": "f9623998",
   "metadata": {},
   "outputs": [],
   "source": [
    "x=2.5\n",
    "print(int(x))"
   ]
  },
  {
   "cell_type": "code",
   "execution_count": null,
   "id": "fa7ac172",
   "metadata": {},
   "outputs": [],
   "source": [
    "x=1\n",
    "print(complex(x))"
   ]
  },
  {
   "cell_type": "code",
   "execution_count": null,
   "id": "c7c75c8b",
   "metadata": {},
   "outputs": [],
   "source": [
    "name='hello world'\n",
    "print(name[6])"
   ]
  },
  {
   "cell_type": "code",
   "execution_count": null,
   "id": "595fcd75",
   "metadata": {},
   "outputs": [],
   "source": [
    "print(name[:5])"
   ]
  },
  {
   "cell_type": "code",
   "execution_count": null,
   "id": "f098463f",
   "metadata": {},
   "outputs": [],
   "source": [
    "print(name[-5:])"
   ]
  },
  {
   "cell_type": "code",
   "execution_count": null,
   "id": "899e836b",
   "metadata": {},
   "outputs": [],
   "source": [
    "a=int(input('enter first number: '))\n",
    "b=int(input('enter second number: '))\n",
    "print(a+b)\n",
    "print(a-b)\n",
    "print(a*b)\n",
    "print(a/b)"
   ]
  },
  {
   "cell_type": "code",
   "execution_count": null,
   "id": "e517f521",
   "metadata": {},
   "outputs": [],
   "source": [
    "c='james'\n",
    "mid=int(len(c)/2)\n",
    "d=c[0]+c[mid]+c[-1]\n",
    "print(d)"
   ]
  },
  {
   "cell_type": "code",
   "execution_count": null,
   "id": "5d074096",
   "metadata": {},
   "outputs": [],
   "source": [
    "e='abcde'\n",
    "mid=int(len(e)/2)\n",
    "f=e[mid-1]+e[mid]+e[mid+1]\n",
    "print(f)"
   ]
  },
  {
   "cell_type": "code",
   "execution_count": null,
   "id": "38044eda",
   "metadata": {},
   "outputs": [],
   "source": [
    "s1='ault'\n",
    "s2='kelly'\n",
    "mid=len(s1)//2\n",
    "print(s1[:mid]+s2+s1[mid:])"
   ]
  },
  {
   "cell_type": "code",
   "execution_count": null,
   "id": "c21123b3",
   "metadata": {},
   "outputs": [],
   "source": [
    "s1='america'\n",
    "s2='japan'\n",
    "mid1=len(s1)//2\n",
    "mid2=len(s2)//2\n",
    "print(s1[0]+s2[0]+s1[mid1]+s2[mid2]+s1[-1]+s2[-1])"
   ]
  },
  {
   "cell_type": "markdown",
   "id": "27dbc468",
   "metadata": {},
   "source": [
    "# string"
   ]
  },
  {
   "cell_type": "code",
   "execution_count": null,
   "id": "5e90cf52",
   "metadata": {},
   "outputs": [],
   "source": [
    "j=0\n",
    "inp='google.com'\n",
    "for i in inp:\n",
    "    j=inp.count(i)\n",
    "    print(i,':',j)"
   ]
  },
  {
   "cell_type": "code",
   "execution_count": null,
   "id": "a30564af",
   "metadata": {},
   "outputs": [],
   "source": [
    "str1=input('enter a string: ')\n",
    "if len(str1)==2:\n",
    "    print(str1+str1)\n",
    "elif len(str1)<2:\n",
    "    print('empty')\n",
    "else:\n",
    "    print(str1[:2]+str1[-2:])"
   ]
  },
  {
   "cell_type": "code",
   "execution_count": null,
   "id": "3fcabc51",
   "metadata": {},
   "outputs": [],
   "source": [
    "j=0\n",
    "m=0\n",
    "str2='restart'\n",
    "j=str2.rfind('r')\n",
    "m=str2.replace(str2[j],'$')\n",
    "l='r'+m[1:]\n",
    "print(l)"
   ]
  },
  {
   "cell_type": "code",
   "execution_count": null,
   "id": "6e605052",
   "metadata": {},
   "outputs": [],
   "source": [
    "str2 = input('Enter a string value: ')\n",
    "m = str2[0]\n",
    "for i in range (1,len(str2)):\n",
    "    str2 = m+str2[1:].replace(m,'$')\n",
    "print(str2)"
   ]
  },
  {
   "cell_type": "code",
   "execution_count": null,
   "id": "3f3da69d",
   "metadata": {},
   "outputs": [],
   "source": [
    "for i in str2:\n",
    "    s=str2.index(i)\n",
    "    print(s)"
   ]
  },
  {
   "cell_type": "code",
   "execution_count": null,
   "id": "13e0e4bf",
   "metadata": {},
   "outputs": [],
   "source": [
    "a='abc'\n",
    "b='xyz'\n",
    "print(b[:2]+a[2:]+' '+a[:2]+b[2:])"
   ]
  },
  {
   "cell_type": "code",
   "execution_count": null,
   "id": "4e20f2c0",
   "metadata": {},
   "outputs": [],
   "source": [
    "str3=input('enter a string: ')\n",
    "if str3[-3:]=='ing':\n",
    "    print(str3+'ly')\n",
    "elif len(str3)<3:\n",
    "    print(str3)\n",
    "else:\n",
    "    print(str3+'ing')"
   ]
  },
  {
   "cell_type": "code",
   "execution_count": null,
   "id": "f5b537c3",
   "metadata": {},
   "outputs": [],
   "source": [
    "str4='The lyrics is not that poor!'\n",
    "s1=str4.find('not')\n",
    "s2=str4.find('poor')\n",
    "if s1!=0 and s2!=0:\n",
    "    s3=str4.replace('not that poor','good')\n",
    "print(s3)"
   ]
  },
  {
   "cell_type": "code",
   "execution_count": null,
   "id": "53e0d1dd",
   "metadata": {},
   "outputs": [],
   "source": [
    "s4='abcd'\n",
    "s5=s4[-1]+s4[1:-1]+s4[0]\n",
    "print(s5)"
   ]
  },
  {
   "cell_type": "code",
   "execution_count": null,
   "id": "7c5f085a",
   "metadata": {},
   "outputs": [],
   "source": [
    "a=0\n",
    "s=0\n",
    "str5='abcdefg'\n",
    "for i in str5:\n",
    "    s=str5.find(i)\n",
    "    if s%2==1:\n",
    "        str5.replace(str5[s],'')\n",
    "        print(str5[s])"
   ]
  },
  {
   "cell_type": "code",
   "execution_count": null,
   "id": "72847157",
   "metadata": {},
   "outputs": [],
   "source": [
    "a=input('enter a string: ')\n",
    "a1=a.upper()\n",
    "a2=a.lower()\n",
    "print(a1)\n",
    "print(a2)"
   ]
  },
  {
   "cell_type": "code",
   "execution_count": null,
   "id": "9ec9aa50",
   "metadata": {
    "scrolled": true
   },
   "outputs": [],
   "source": [
    "b='python'\n",
    "b1=b[-2:]+b[-2:]+b[-2:]+b[-2:]\n",
    "b1"
   ]
  },
  {
   "cell_type": "code",
   "execution_count": null,
   "id": "78f059d1",
   "metadata": {},
   "outputs": [],
   "source": [
    "b[-2:]*4"
   ]
  },
  {
   "cell_type": "code",
   "execution_count": null,
   "id": "c66858d4",
   "metadata": {},
   "outputs": [],
   "source": [
    "c='python'\n",
    "if len(c)<=3:\n",
    "    print(c)\n",
    "else:\n",
    "    c1=c[:3]\n",
    "    print(c1)    "
   ]
  },
  {
   "cell_type": "markdown",
   "id": "bf7a08cc",
   "metadata": {},
   "source": [
    "# Exercise -3 list"
   ]
  },
  {
   "cell_type": "markdown",
   "id": "bf5e8a25",
   "metadata": {},
   "source": [
    "1. Write a Python program to multiply all the items in a list."
   ]
  },
  {
   "cell_type": "code",
   "execution_count": null,
   "id": "f99bc0c7",
   "metadata": {},
   "outputs": [],
   "source": [
    "d1=1\n",
    "d=[12,13,14,15]\n",
    "for i in d:\n",
    "    d1=d1*i\n",
    "print(d1)"
   ]
  },
  {
   "cell_type": "markdown",
   "id": "de313a98",
   "metadata": {},
   "source": [
    "x"
   ]
  },
  {
   "cell_type": "markdown",
   "id": "c84e861d",
   "metadata": {},
   "source": [
    "2. Write a Python program to get the largest number from a list."
   ]
  },
  {
   "cell_type": "code",
   "execution_count": null,
   "id": "b2354f69",
   "metadata": {},
   "outputs": [],
   "source": [
    "e=[1,2,4,3]\n",
    "for i in e:\n",
    "    for j in e:\n",
    "        if i>j:\n",
    "            e1=i\n",
    "            for m in e1:\n",
    "                for l in e1:\n",
    "                    if m>l:\n",
    "                        print(m)"
   ]
  },
  {
   "cell_type": "code",
   "execution_count": null,
   "id": "b2a71cd5",
   "metadata": {},
   "outputs": [],
   "source": [
    "e.sort()\n",
    "print(e[-1])"
   ]
  },
  {
   "cell_type": "markdown",
   "id": "86d7eb0d",
   "metadata": {},
   "source": [
    "3. Write a Python program to get the smallest number from a list."
   ]
  },
  {
   "cell_type": "code",
   "execution_count": null,
   "id": "1e53b7e0",
   "metadata": {},
   "outputs": [],
   "source": [
    "e.sort()\n",
    "print(e[0])"
   ]
  },
  {
   "cell_type": "markdown",
   "id": "62e7da27",
   "metadata": {},
   "source": [
    "4. Write a Python program to count the number of strings from a given list of\n",
    "strings. The string length is 2 or more and the first and last characters are the\n",
    "same.\n",
    "Sample List : ['abc', 'xyz', 'aba', '1221']\n",
    "Expected Result : 2"
   ]
  },
  {
   "cell_type": "code",
   "execution_count": null,
   "id": "e2fa81d7",
   "metadata": {},
   "outputs": [],
   "source": [
    "f3=0\n",
    "f=['abc', 'xyz', 'aba', '1221']\n",
    "for i in f:\n",
    "    f1=f.index(i)\n",
    "    f2=f[f1][0]\n",
    "    if f2==f[f1][-1]:\n",
    "        f3=f3+1\n",
    "print(f3)"
   ]
  },
  {
   "cell_type": "markdown",
   "id": "275b0cff",
   "metadata": {},
   "source": [
    "5. Write a Python program to remove duplicates from a list."
   ]
  },
  {
   "cell_type": "code",
   "execution_count": null,
   "id": "e240fdf1",
   "metadata": {
    "scrolled": true
   },
   "outputs": [],
   "source": [
    "g1=0\n",
    "g=['a','b','c','b']\n",
    "for i in g:\n",
    "    if i==g1:\n",
    "        g.remove(i)\n",
    "    g1=i\n",
    "print(g1)\n",
    "print(g)"
   ]
  },
  {
   "cell_type": "code",
   "execution_count": null,
   "id": "efa50b54",
   "metadata": {},
   "outputs": [],
   "source": [
    "g2=set(g)\n",
    "print(list(g2))"
   ]
  },
  {
   "cell_type": "markdown",
   "id": "0c0be5df",
   "metadata": {},
   "source": [
    "6. Write a Python program to check if a list is empty or not."
   ]
  },
  {
   "cell_type": "code",
   "execution_count": null,
   "id": "c5e91d2b",
   "metadata": {},
   "outputs": [],
   "source": [
    "h=['a','b']\n",
    "h1=len(h)\n",
    "if h1==0:\n",
    "    print('list is empty')\n",
    "else:\n",
    "    print('list contain values')"
   ]
  },
  {
   "cell_type": "markdown",
   "id": "8c82ee2a",
   "metadata": {},
   "source": [
    "7. Write a Python program to find the list of words that are longer than n from a\n",
    "given list of words."
   ]
  },
  {
   "cell_type": "code",
   "execution_count": null,
   "id": "7914d0e2",
   "metadata": {},
   "outputs": [],
   "source": [
    "n=3\n",
    "n1=['apple','orange','gua','mg']\n",
    "for i in n1:\n",
    "    if len(i)>n:\n",
    "        print((i))"
   ]
  },
  {
   "cell_type": "markdown",
   "id": "955cbb00",
   "metadata": {},
   "source": [
    "8. Write a Python program to print a specified list after removing the 0th, 4th and\n",
    "5th elements.\n",
    "Sample List : ['Red', 'Green', 'White', 'Black', 'Pink', 'Yellow']\n",
    "Expected Output : ['Green', 'White', 'Black']"
   ]
  },
  {
   "cell_type": "code",
   "execution_count": null,
   "id": "56eaac50",
   "metadata": {},
   "outputs": [],
   "source": [
    "h=['Red', 'Green', 'White', 'Black', 'Pink', 'Yellow']\n",
    "h.pop(5)  # if we remove 0th index first \n",
    "h.pop(4)\n",
    "h.pop(0)\n",
    "print(h)"
   ]
  },
  {
   "cell_type": "markdown",
   "id": "247afa0c",
   "metadata": {},
   "source": [
    "9. Write a Python program to check if each number is prime in a given list of\n",
    "numbers. Return True if all numbers are prime otherwise False."
   ]
  },
  {
   "cell_type": "code",
   "execution_count": null,
   "id": "1e7f739f",
   "metadata": {},
   "outputs": [],
   "source": [
    "j1=0\n",
    "j=[1,2,3,5,7,11,13]\n",
    "for h in j:\n",
    "    if h<=1:\n",
    "        j1=1\n",
    "        break\n",
    "    for i in range(2,h):\n",
    "        if h%i==0:\n",
    "            j1=1\n",
    "            break\n",
    "if j1==1:\n",
    "    print('False')\n",
    "else:\n",
    "    print('True')"
   ]
  },
  {
   "cell_type": "code",
   "execution_count": null,
   "id": "219f7fe0",
   "metadata": {},
   "outputs": [],
   "source": []
  },
  {
   "cell_type": "markdown",
   "id": "e5a9ca66",
   "metadata": {},
   "source": [
    "10. Write a Python program to convert a list of characters into a string."
   ]
  },
  {
   "cell_type": "code",
   "execution_count": null,
   "id": "07cad677",
   "metadata": {},
   "outputs": [],
   "source": [
    "k=['apple','orange','gua']\n",
    "k1=k[0]+k[1]+k[2]\n",
    "k1"
   ]
  },
  {
   "cell_type": "markdown",
   "id": "398461da",
   "metadata": {},
   "source": [
    "11. Write a Python program to find the second smallest number in a list"
   ]
  },
  {
   "cell_type": "code",
   "execution_count": null,
   "id": "4a7c161c",
   "metadata": {},
   "outputs": [],
   "source": [
    "l=[3,4,5,7]\n",
    "l.sort()\n",
    "print(l[1])"
   ]
  },
  {
   "cell_type": "markdown",
   "id": "e0a2e2e6",
   "metadata": {},
   "source": [
    "12. Write a Python program to find the second largest number in a list."
   ]
  },
  {
   "cell_type": "code",
   "execution_count": null,
   "id": "80a60ed6",
   "metadata": {},
   "outputs": [],
   "source": [
    "l.sort()\n",
    "print(l[-2])"
   ]
  },
  {
   "cell_type": "markdown",
   "id": "6b63c48e",
   "metadata": {},
   "source": [
    "13. Write a Python program to check whether a list contains a sub-list"
   ]
  },
  {
   "cell_type": "code",
   "execution_count": null,
   "id": "adfa8832",
   "metadata": {},
   "outputs": [],
   "source": [
    "flag=0\n",
    "m=[1,2,[1,2],3,4]\n",
    "for i in m:\n",
    "    if type(i)==list:\n",
    "        flag=1\n",
    "        break\n",
    "if flag==1:\n",
    "    print('sublist')\n",
    "else:\n",
    "    print('not sublist')"
   ]
  },
  {
   "cell_type": "markdown",
   "id": "43eee69e",
   "metadata": {},
   "source": [
    "14. Write a Python program to find common items in two lists"
   ]
  },
  {
   "cell_type": "code",
   "execution_count": null,
   "id": "90ef9257",
   "metadata": {},
   "outputs": [],
   "source": [
    "n=[3,4,5,7]\n",
    "n1=[3,8,5,9]\n",
    "n2=set(n).intersection(set(n1))\n",
    "print(list(n2))"
   ]
  },
  {
   "cell_type": "markdown",
   "id": "e731426f",
   "metadata": {},
   "source": [
    "make a 2 player game rock, paper, scissors ask for player using input, compare them print out a message of congratulation to the winner and ask if the players want to start a new game "
   ]
  },
  {
   "cell_type": "code",
   "execution_count": null,
   "id": "1d2ef322",
   "metadata": {},
   "outputs": [],
   "source": [
    "print('input only in lower case')\n",
    "while True:\n",
    "    player1=input('player 1: ')\n",
    "    player2=input('player 2: ')\n",
    "    if player1=='rock':\n",
    "        if player2=='scissors':\n",
    "            print('congratulation player 1')\n",
    "        elif player2=='paper':\n",
    "            print('congratulation player 2')\n",
    "    if player1=='paper':\n",
    "        if player2=='rock':\n",
    "            print('congratulation player 1')\n",
    "        elif player2=='scissors':\n",
    "            print('congratulation player 2')\n",
    "    if player1=='scissors':\n",
    "        if player2=='paper':\n",
    "            print('congratulation player 1')\n",
    "        elif player2=='rock':\n",
    "            print('congratulation player 2')\n",
    "    restart=input('would you like to continue(yes/no): ')\n",
    "    if restart=='yes':\n",
    "        continue\n",
    "    else:\n",
    "        print('game ended')\n",
    "        break"
   ]
  },
  {
   "cell_type": "markdown",
   "id": "373c7dc5",
   "metadata": {},
   "source": [
    "Q. arrange string charactors such that lower case letters come first"
   ]
  },
  {
   "cell_type": "code",
   "execution_count": 6,
   "id": "88ae1442",
   "metadata": {},
   "outputs": [
    {
     "name": "stdout",
     "output_type": "stream",
     "text": [
      "JOSEPHjomal\n"
     ]
    }
   ],
   "source": [
    "o='JjoOSmEaPlH'\n",
    "o1=''\n",
    "o2=''\n",
    "for i in o:\n",
    "    if i.isupper()==True:\n",
    "        o1=o1+i\n",
    "    else:\n",
    "        o2=o2+i\n",
    "print(o1+o2)"
   ]
  },
  {
   "cell_type": "code",
   "execution_count": null,
   "id": "8ecb9f20",
   "metadata": {},
   "outputs": [],
   "source": []
  }
 ],
 "metadata": {
  "kernelspec": {
   "display_name": "Python 3 (ipykernel)",
   "language": "python",
   "name": "python3"
  },
  "language_info": {
   "codemirror_mode": {
    "name": "ipython",
    "version": 3
   },
   "file_extension": ".py",
   "mimetype": "text/x-python",
   "name": "python",
   "nbconvert_exporter": "python",
   "pygments_lexer": "ipython3",
   "version": "3.10.9"
  }
 },
 "nbformat": 4,
 "nbformat_minor": 5
}
