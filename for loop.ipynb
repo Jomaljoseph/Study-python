{
 "cells": [
  {
   "cell_type": "markdown",
   "id": "5861399a",
   "metadata": {},
   "source": [
    "print numbers 0 to 10 using for loop"
   ]
  },
  {
   "cell_type": "code",
   "execution_count": 1,
   "id": "8a01aad9",
   "metadata": {
    "scrolled": true
   },
   "outputs": [
    {
     "name": "stdout",
     "output_type": "stream",
     "text": [
      "0\n",
      "1\n",
      "2\n",
      "3\n",
      "4\n",
      "5\n",
      "6\n",
      "7\n",
      "8\n",
      "9\n",
      "10\n"
     ]
    }
   ],
   "source": [
    "for i in range(11):\n",
    "    print(i)"
   ]
  },
  {
   "cell_type": "markdown",
   "id": "ddc9cf00",
   "metadata": {},
   "source": [
    "print even numbers upto 20"
   ]
  },
  {
   "cell_type": "code",
   "execution_count": 3,
   "id": "99caa82e",
   "metadata": {},
   "outputs": [
    {
     "name": "stdout",
     "output_type": "stream",
     "text": [
      "2\n",
      "4\n",
      "6\n",
      "8\n",
      "10\n",
      "12\n",
      "14\n",
      "16\n",
      "18\n",
      "20\n"
     ]
    }
   ],
   "source": [
    "for i in range(1,21):\n",
    "    if i%2==0:\n",
    "        print(i)"
   ]
  },
  {
   "cell_type": "markdown",
   "id": "db28525c",
   "metadata": {},
   "source": [
    "find the sum of natural numbers upto 20"
   ]
  },
  {
   "cell_type": "code",
   "execution_count": 7,
   "id": "22316886",
   "metadata": {},
   "outputs": [
    {
     "name": "stdout",
     "output_type": "stream",
     "text": [
      "210\n"
     ]
    }
   ],
   "source": [
    "sum=0\n",
    "for i in range(1,21):\n",
    "    sum=sum+i\n",
    "print(sum)"
   ]
  },
  {
   "cell_type": "markdown",
   "id": "8adcf09f",
   "metadata": {},
   "source": [
    "print all the items from the given list"
   ]
  },
  {
   "cell_type": "code",
   "execution_count": 8,
   "id": "7ff00b88",
   "metadata": {},
   "outputs": [
    {
     "name": "stdout",
     "output_type": "stream",
     "text": [
      "2\n",
      "8\n",
      "3\n",
      "5\n",
      "7\n"
     ]
    }
   ],
   "source": [
    "list1=[2,8,3,5,7]\n",
    "for i in list1:\n",
    "    print(i)"
   ]
  },
  {
   "cell_type": "markdown",
   "id": "e35e0702",
   "metadata": {},
   "source": [
    "print the letters from given string"
   ]
  },
  {
   "cell_type": "code",
   "execution_count": 9,
   "id": "ecebf564",
   "metadata": {},
   "outputs": [
    {
     "name": "stdout",
     "output_type": "stream",
     "text": [
      "a\n",
      "p\n",
      "p\n",
      "l\n",
      "e\n"
     ]
    }
   ],
   "source": [
    "A='apple'\n",
    "for i in A:\n",
    "    print(i)"
   ]
  },
  {
   "cell_type": "code",
   "execution_count": 13,
   "id": "ddc05d16",
   "metadata": {},
   "outputs": [
    {
     "name": "stdout",
     "output_type": "stream",
     "text": [
      "a\n",
      "p\n",
      "p\n",
      "l\n",
      "e\n"
     ]
    }
   ],
   "source": [
    "for i in range(0,len(A)):\n",
    "    print(A[i])"
   ]
  },
  {
   "cell_type": "markdown",
   "id": "8135bc54",
   "metadata": {},
   "source": [
    "find multiplication result of all the items from the list"
   ]
  },
  {
   "cell_type": "code",
   "execution_count": 14,
   "id": "8aa2b732",
   "metadata": {},
   "outputs": [
    {
     "name": "stdout",
     "output_type": "stream",
     "text": [
      "180\n"
     ]
    }
   ],
   "source": [
    "m=1\n",
    "list1=[1,2,3,5,6]\n",
    "for i in list1:\n",
    "    m=m*i\n",
    "print(m)"
   ]
  },
  {
   "cell_type": "markdown",
   "id": "f0724817",
   "metadata": {},
   "source": [
    "write a program to count the number of strings in a given list"
   ]
  },
  {
   "cell_type": "code",
   "execution_count": 16,
   "id": "565f4c0a",
   "metadata": {},
   "outputs": [
    {
     "name": "stdout",
     "output_type": "stream",
     "text": [
      "3\n"
     ]
    }
   ],
   "source": [
    "sum=0\n",
    "list1=[1,'a',2,'b','c']\n",
    "for i in list1:\n",
    "    if type(i)==str:\n",
    "        sum=sum+1\n",
    "print(sum)"
   ]
  },
  {
   "cell_type": "markdown",
   "id": "4da9fd96",
   "metadata": {},
   "source": [
    "print items from a given list whose length is more than 2"
   ]
  },
  {
   "cell_type": "code",
   "execution_count": 17,
   "id": "2f725de6",
   "metadata": {},
   "outputs": [
    {
     "name": "stdout",
     "output_type": "stream",
     "text": [
      "xyz\n",
      "1221\n"
     ]
    }
   ],
   "source": [
    "list1=['ab','xyz','a','1221']\n",
    "for i in list1:\n",
    "    if len(i)>2:\n",
    "        print(i)"
   ]
  },
  {
   "cell_type": "markdown",
   "id": "38b069ba",
   "metadata": {},
   "source": [
    "if 1221 is not given as string"
   ]
  },
  {
   "cell_type": "code",
   "execution_count": 18,
   "id": "94f02c06",
   "metadata": {},
   "outputs": [
    {
     "name": "stdout",
     "output_type": "stream",
     "text": [
      "xyz\n",
      "1221\n"
     ]
    }
   ],
   "source": [
    "list1=['ab','xyz','a',1221]\n",
    "for i in list1:\n",
    "    i=str(i)\n",
    "    if len(i)>2:\n",
    "        print(i)"
   ]
  },
  {
   "cell_type": "markdown",
   "id": "329065aa",
   "metadata": {},
   "source": [
    "or"
   ]
  },
  {
   "cell_type": "code",
   "execution_count": 24,
   "id": "f73f4db2",
   "metadata": {},
   "outputs": [
    {
     "name": "stdout",
     "output_type": "stream",
     "text": [
      "xyz\n",
      "1221\n"
     ]
    }
   ],
   "source": [
    "list1=['ab','xyz','a',1221]\n",
    "for i in list1:\n",
    "    if len(str(i))>2:\n",
    "        print(i)"
   ]
  },
  {
   "cell_type": "markdown",
   "id": "01cd1bbe",
   "metadata": {},
   "source": [
    "check whether a list contain sublist"
   ]
  },
  {
   "cell_type": "code",
   "execution_count": 26,
   "id": "fa20803a",
   "metadata": {},
   "outputs": [
    {
     "name": "stdout",
     "output_type": "stream",
     "text": [
      "not sublist\n",
      "not sublist\n",
      "not sublist\n",
      "sublist\n",
      "not sublist\n"
     ]
    }
   ],
   "source": [
    "list1=['a','b',1,[2,3],'c']\n",
    "for i in list1:\n",
    "    if type(i)==list:\n",
    "        print('sublist')\n",
    "    else:\n",
    "        print('not sublist')"
   ]
  },
  {
   "cell_type": "markdown",
   "id": "d968062e",
   "metadata": {},
   "source": [
    "to display once"
   ]
  },
  {
   "cell_type": "code",
   "execution_count": 27,
   "id": "33cd2120",
   "metadata": {},
   "outputs": [
    {
     "name": "stdout",
     "output_type": "stream",
     "text": [
      "subset\n"
     ]
    }
   ],
   "source": [
    "flag=0\n",
    "for i in list1:\n",
    "    if type(i)==list:\n",
    "        flag=1\n",
    "        break\n",
    "    else:\n",
    "        flag=0\n",
    "if flag==1:\n",
    "    print('subset')\n",
    "else:\n",
    "    print('not sublist')"
   ]
  },
  {
   "cell_type": "markdown",
   "id": "948cf1ea",
   "metadata": {},
   "source": [
    "or"
   ]
  },
  {
   "cell_type": "code",
   "execution_count": 35,
   "id": "34c7f82b",
   "metadata": {},
   "outputs": [
    {
     "name": "stdout",
     "output_type": "stream",
     "text": [
      "sublist\n",
      "2\n"
     ]
    }
   ],
   "source": [
    "list1=['a','b',1,[2,3],'c',[1,2,3]]\n",
    "c=0\n",
    "for i in list1:\n",
    "    if type(i)==list:\n",
    "        c+=1\n",
    "if c>0:\n",
    "    print('sublist')\n",
    "    print(c)\n",
    "else:\n",
    "    print('not sublist')\n",
    "    print(c)"
   ]
  },
  {
   "cell_type": "markdown",
   "id": "50699718",
   "metadata": {},
   "source": [
    "### nested for loop"
   ]
  },
  {
   "cell_type": "code",
   "execution_count": 1,
   "id": "1237bd93",
   "metadata": {},
   "outputs": [
    {
     "name": "stdout",
     "output_type": "stream",
     "text": [
      "0\n",
      "0\n",
      "1\n",
      "0\n",
      "1\n",
      "2\n",
      "0\n",
      "1\n",
      "2\n",
      "3\n",
      "0\n",
      "1\n",
      "2\n",
      "3\n",
      "4\n"
     ]
    }
   ],
   "source": [
    "for i in range(0,5):\n",
    "    for j in range(i+1):\n",
    "        print(j)"
   ]
  },
  {
   "cell_type": "code",
   "execution_count": 3,
   "id": "46393ba4",
   "metadata": {},
   "outputs": [
    {
     "name": "stdout",
     "output_type": "stream",
     "text": [
      "1\n",
      "1\n",
      "2\n",
      "1\n",
      "2\n",
      "3\n",
      "1\n",
      "2\n",
      "3\n",
      "4\n",
      "1\n",
      "2\n",
      "3\n",
      "4\n",
      "5\n"
     ]
    }
   ],
   "source": [
    "for i in range(5):\n",
    "    for j in range(i+1):\n",
    "        print(j+1)"
   ]
  },
  {
   "cell_type": "code",
   "execution_count": 13,
   "id": "f2f7df65",
   "metadata": {},
   "outputs": [
    {
     "name": "stdout",
     "output_type": "stream",
     "text": [
      "['my', 'name', 'is', 'kelly']\n"
     ]
    }
   ],
   "source": [
    "a=['m','na','i','ke']\n",
    "a1=['y','me','s','lly']\n",
    "a2=[]\n",
    "a2.append(a[0]+a1[0])\n",
    "a2.append(a[1]+a1[1])\n",
    "a2.append(a[2]+a1[2])\n",
    "a2.append(a[3]+a1[3])\n",
    "print(a2)"
   ]
  },
  {
   "cell_type": "code",
   "execution_count": null,
   "id": "497d87ae",
   "metadata": {},
   "outputs": [],
   "source": []
  }
 ],
 "metadata": {
  "kernelspec": {
   "display_name": "Python 3 (ipykernel)",
   "language": "python",
   "name": "python3"
  },
  "language_info": {
   "codemirror_mode": {
    "name": "ipython",
    "version": 3
   },
   "file_extension": ".py",
   "mimetype": "text/x-python",
   "name": "python",
   "nbconvert_exporter": "python",
   "pygments_lexer": "ipython3",
   "version": "3.10.9"
  }
 },
 "nbformat": 4,
 "nbformat_minor": 5
}
