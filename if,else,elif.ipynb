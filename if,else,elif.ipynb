{
 "cells": [
  {
   "cell_type": "markdown",
   "id": "e2b035b5",
   "metadata": {},
   "source": [
    "write a program to check whether a person is eligible for voting"
   ]
  },
  {
   "cell_type": "code",
   "execution_count": 3,
   "id": "e427d443",
   "metadata": {},
   "outputs": [
    {
     "name": "stdout",
     "output_type": "stream",
     "text": [
      "enter your age: 18\n",
      "your eligible for voting\n"
     ]
    }
   ],
   "source": [
    "age=int(input('enter your age: '))\n",
    "if age>=18:\n",
    "    print('your eligible for voting')\n",
    "else:\n",
    "    print('not eligible for voting')"
   ]
  },
  {
   "cell_type": "markdown",
   "id": "c8d825b6",
   "metadata": {},
   "source": [
    "write a program to check whether agiven number is odd or even"
   ]
  },
  {
   "cell_type": "code",
   "execution_count": 7,
   "id": "23967281",
   "metadata": {},
   "outputs": [
    {
     "name": "stdout",
     "output_type": "stream",
     "text": [
      "enter a number: 1\n",
      "it is an odd no\n"
     ]
    }
   ],
   "source": [
    "a=int(input('enter a number: '))\n",
    "if a%2==0:\n",
    "    print('it is an even number')\n",
    "else:\n",
    "    print('it is an odd no')"
   ]
  },
  {
   "cell_type": "markdown",
   "id": "20bff9b9",
   "metadata": {},
   "source": [
    "write a program to display grades of mark"
   ]
  },
  {
   "cell_type": "code",
   "execution_count": 2,
   "id": "d8ee3e5e",
   "metadata": {},
   "outputs": [
    {
     "name": "stdout",
     "output_type": "stream",
     "text": [
      "enter a number: 50\n",
      "failed\n"
     ]
    }
   ],
   "source": [
    "mark=int(input('enter a number: '))\n",
    "if mark>=90:\n",
    "    print('A+')\n",
    "elif mark<90 and mark>=80:  # here we can use this or below method \n",
    "    print('A')\n",
    "elif 70<=mark<80:\n",
    "    print('B')\n",
    "elif 60<=mark<70:\n",
    "    print('C')\n",
    "else:\n",
    "    print('failed')"
   ]
  },
  {
   "cell_type": "markdown",
   "id": "c055d455",
   "metadata": {},
   "source": [
    "write a python program to check whether a list is empty or not"
   ]
  },
  {
   "cell_type": "code",
   "execution_count": 1,
   "id": "d858d7c6",
   "metadata": {},
   "outputs": [
    {
     "name": "stdout",
     "output_type": "stream",
     "text": [
      "list is not empty\n"
     ]
    }
   ],
   "source": [
    "list1=[1,2,3]\n",
    "if len(list1)==0:\n",
    "    print('list is empty')\n",
    "else:\n",
    "    print('list is not empty')"
   ]
  },
  {
   "cell_type": "code",
   "execution_count": null,
   "id": "c3e2723d",
   "metadata": {},
   "outputs": [],
   "source": []
  }
 ],
 "metadata": {
  "kernelspec": {
   "display_name": "Python 3 (ipykernel)",
   "language": "python",
   "name": "python3"
  },
  "language_info": {
   "codemirror_mode": {
    "name": "ipython",
    "version": 3
   },
   "file_extension": ".py",
   "mimetype": "text/x-python",
   "name": "python",
   "nbconvert_exporter": "python",
   "pygments_lexer": "ipython3",
   "version": "3.10.9"
  }
 },
 "nbformat": 4,
 "nbformat_minor": 5
}
