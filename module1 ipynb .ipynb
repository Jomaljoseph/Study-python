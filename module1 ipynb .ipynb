{
 "cells": [
  {
   "cell_type": "code",
   "execution_count": 1,
   "id": "053f9c89",
   "metadata": {},
   "outputs": [
    {
     "name": "stdout",
     "output_type": "stream",
     "text": [
      "10\n",
      "hellooooo\n"
     ]
    }
   ],
   "source": [
    "'''this is python file'''\n",
    "msg=\"module_programming\"\n",
    "def sum_list(l):\n",
    "    sum=0\n",
    "    for i in l:\n",
    "        sum=sum+i\n",
    "    print(sum)\n",
    "def printing():\n",
    "    print(\"hellooooo\")\n",
    "if __name__=='__main__':    # below calling only will work if it is main file\n",
    "    sum_list([1,2,3,4])     # it will not work if it is imported to other file\n",
    "    printing()"
   ]
  },
  {
   "cell_type": "code",
   "execution_count": null,
   "id": "ddf6b766",
   "metadata": {},
   "outputs": [],
   "source": []
  }
 ],
 "metadata": {
  "kernelspec": {
   "display_name": "Python 3 (ipykernel)",
   "language": "python",
   "name": "python3"
  },
  "language_info": {
   "codemirror_mode": {
    "name": "ipython",
    "version": 3
   },
   "file_extension": ".py",
   "mimetype": "text/x-python",
   "name": "python",
   "nbconvert_exporter": "python",
   "pygments_lexer": "ipython3",
   "version": "3.11.5"
  }
 },
 "nbformat": 4,
 "nbformat_minor": 5
}
