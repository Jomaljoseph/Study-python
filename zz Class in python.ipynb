{
 "cells": [
  {
   "cell_type": "markdown",
   "id": "2ab3d38d",
   "metadata": {},
   "source": [
    "* Create a class student,which has name and age as attributes \n",
    "and a function called total mark to view total score of the table"
   ]
  },
  {
   "cell_type": "code",
   "execution_count": null,
   "id": "2b595a81",
   "metadata": {},
   "outputs": [],
   "source": [
    "class student:\n",
    "    def __init__(self):\n",
    "        self.name='Raju'\n",
    "        self.age=29\n",
    "    def TotalMark(self):\n",
    "        total=50+60+30\n",
    "        return total\n",
    "\n",
    "s1=student()\n",
    "print(s1.name)   # or student().name\n",
    "print(student().age)  # or s1.age\n",
    "s1.TotalMark()"
   ]
  },
  {
   "cell_type": "markdown",
   "id": "90ff9992",
   "metadata": {},
   "source": [
    "For multiple objects..."
   ]
  },
  {
   "cell_type": "code",
   "execution_count": null,
   "id": "7eab5638",
   "metadata": {},
   "outputs": [],
   "source": [
    "class student:\n",
    "    def __init__(self,name,age):\n",
    "        self.name=name\n",
    "        self.age=age\n",
    "    def TotalMark(self):\n",
    "        total=50+60+30\n",
    "        return total\n",
    "    \n",
    "s1=student('Ram',20)\n",
    "s2=student('Rahul',21)\n",
    "print(s1.name)\n",
    "print(s1.TotalMark())\n",
    "print(s2.name)\n",
    "s2.TotalMark()"
   ]
  },
  {
   "cell_type": "markdown",
   "id": "63e8e55b",
   "metadata": {},
   "source": [
    "* Create a class called bank account which has attributes like, account no, account balance and methods like depositing, withdrowing and checking the balance."
   ]
  },
  {
   "cell_type": "code",
   "execution_count": null,
   "id": "41e1901a",
   "metadata": {},
   "outputs": [],
   "source": [
    "class BankAccount:\n",
    "    def __init__(self,acc_no,acc_bal):\n",
    "        self.account_no=acc_no\n",
    "        self.account_bal=acc_bal\n",
    "    def deposit(self,amount):\n",
    "        self.account_bal+=amount\n",
    "    def check_bal(self):\n",
    "        return self.account_bal\n",
    "    def withdrow(self,w_amount):\n",
    "        if w_amount<=self.account_bal:\n",
    "            self.account_bal-=w_amount\n",
    "        else:\n",
    "            print('Insufficient balance')\n",
    "            \n",
    "B=BankAccount(123456,10000)\n",
    "B.check_bal()"
   ]
  },
  {
   "cell_type": "code",
   "execution_count": null,
   "id": "8680243e",
   "metadata": {},
   "outputs": [],
   "source": [
    "B.deposit(5000)\n",
    "B.check_bal()"
   ]
  },
  {
   "cell_type": "code",
   "execution_count": null,
   "id": "8979fb68",
   "metadata": {},
   "outputs": [],
   "source": [
    "B.withdrow(4000)\n",
    "B.check_bal()"
   ]
  },
  {
   "cell_type": "markdown",
   "id": "12d04917",
   "metadata": {},
   "source": [
    "* Create a class called rectangle it has some methods to find area, perimeter, and dioganal length."
   ]
  },
  {
   "cell_type": "code",
   "execution_count": null,
   "id": "4c6c9024",
   "metadata": {},
   "outputs": [],
   "source": [
    "from math import sqrt\n",
    "class rectangle:\n",
    "    def __init__(self,length,breadth):\n",
    "        self.length=length\n",
    "        self.breadth=breadth\n",
    "    def area(self):\n",
    "        return self.length*self.breadth\n",
    "    def perimeter(self):\n",
    "        return 2*(self.length*self.breadth)\n",
    "    def dioganal(self):\n",
    "        return sqrt(self.length**2+self.breadth**2)\n",
    "\n",
    "R=rectangle(10,5)\n",
    "print(R.area())\n",
    "print(R.perimeter())\n",
    "print(R.dioganal())"
   ]
  },
  {
   "cell_type": "markdown",
   "id": "ccd68844",
   "metadata": {},
   "source": [
    "* Write a python class 'employee' with attributes like employee id, employee name, employee department, employee salary and methods like calculate employee salary, assign employee department and view employee details."
   ]
  },
  {
   "cell_type": "code",
   "execution_count": null,
   "id": "db52ae7a",
   "metadata": {},
   "outputs": [],
   "source": [
    "class employee:\n",
    "    def __init__(self):\n",
    "        self.empid=int(input('enter your id: '))\n",
    "        self.empname=input('enter your name: ')\n",
    "        self.empdept=input('enter your department: ')\n",
    "        self.empsalary=int(input('enter your salary: '))\n",
    "    def view_details(self):\n",
    "        id1=int(input('enter your id: '))\n",
    "        if id1==self.empid:\n",
    "            print(self.empid,self.empname,self.empdept,self.empsalary)\n",
    "    def assign_dept(self):\n",
    "        new_dept=input('enter new department: ')\n",
    "        self.empdept=new_dept\n",
    "    def salary_find(self):\n",
    "        hours_worked=int(input('enter hours worked: '))\n",
    "        if hours_worked>50:\n",
    "            overtime=hours_worked-50\n",
    "            overtime_amount=(overtime*(self.empsalary/50))\n",
    "            self.empsalary+=overtime_amount\n",
    "            return self.empsalary\n",
    "        \n",
    "e=employee()\n",
    "e.view_details()\n",
    "e.assign_dept()\n",
    "e.salary_find()"
   ]
  },
  {
   "cell_type": "markdown",
   "id": "30c73017",
   "metadata": {},
   "source": [
    "Write a python class restaurant with attributes like menu items, book table and customer order.                                \n",
    "And methods like add item to menu, book tables and customer order."
   ]
  },
  {
   "cell_type": "code",
   "execution_count": null,
   "id": "cc8a2be3",
   "metadata": {},
   "outputs": [],
   "source": [
    "class restaurant:\n",
    "    def __init__(self):\n",
    "        self.menu_items=['porotta','appam','dosha']\n",
    "        self.book_table=['t1','t2','t3']\n",
    "        self.customer_order=[]\n",
    "        self.reserved_tables=[]\n",
    "    def add_menu(self):\n",
    "        item_name=input('enter new item: ')\n",
    "        if item_name not in self.menu_items:\n",
    "            self.menu_items.append(item_name)\n",
    "    def view_menu(self):\n",
    "        print(self.menu_items)\n",
    "    def reserve_table(self):\n",
    "        print('available tables are: ',self.book_table)\n",
    "        table_name=input('enter table name: ')\n",
    "        if table_name in self.book_table:\n",
    "            self.reserved_tables.append(table_name)\n",
    "            self.book_table.remove(table_name)\n",
    "        else:\n",
    "            print('invalid input')\n",
    "            \n",
    "r=restaurant()\n",
    "r.add_menu()\n",
    "r.view_menu()\n",
    "r.reserve_table()\n",
    "print('available tables: ',r.book_table)\n",
    "print('tables booked: ',r.reserved_tables)"
   ]
  },
  {
   "cell_type": "markdown",
   "id": "89192f50",
   "metadata": {},
   "source": [
    "# python google classroom problems "
   ]
  },
  {
   "cell_type": "code",
   "execution_count": null,
   "id": "e8b7cc1d",
   "metadata": {},
   "outputs": [],
   "source": [
    "class vehicle:\n",
    "    def __init__(self,name,year):\n",
    "        self.name=name\n",
    "        self.year=year\n",
    "    def start(self):\n",
    "        print(self.name,'vehicle started')\n",
    "c1=vehicle('maruthi','1990')\n",
    "print(c1.name)\n",
    "c1.start()"
   ]
  },
  {
   "cell_type": "markdown",
   "id": "44192f14",
   "metadata": {},
   "source": [
    "x"
   ]
  },
  {
   "cell_type": "code",
   "execution_count": null,
   "id": "4351dbd3",
   "metadata": {},
   "outputs": [],
   "source": [
    "class account:\n",
    "    def __init__(self,acc_no,acc_bal):\n",
    "        self.account_no=acc_no\n",
    "        self.balance=acc_bal\n",
    "    def withdraw(self,amount):\n",
    "        if self.balance>=amount:\n",
    "            print('you can withdraw the amount')\n",
    "            self.balance-=amount\n",
    "        else:\n",
    "            print('withdrowal failed')\n",
    "    def display(self):\n",
    "        print(self.account_no,' your balance is ',self.balance)\n",
    "a1=account(123456,10000)\n",
    "a1.withdraw(5000)\n",
    "a1.display()\n",
    "a2=account(654321,10000)\n",
    "a2.withdraw(11000)\n",
    "a1.display()"
   ]
  },
  {
   "cell_type": "code",
   "execution_count": null,
   "id": "34d8fee4",
   "metadata": {},
   "outputs": [],
   "source": [
    "class account:\n",
    "    def __init__(self,accnt_num,accnt_blnce):\n",
    "        self.accnt=accnt_num\n",
    "        self.blnce=accnt_blnce\n",
    "    def withdraw(self,amount):\n",
    "        if self.blnce-amount>=0:\n",
    "            print(\"you can withdraw the ampunt\")\n",
    "            self.blnce=self.blnce-amount\n",
    "        else:\n",
    "            print(\"withdrawal failed\")\n",
    "    def display(self):\n",
    "        print(self.accnt,\"your balnce is \",self.blnce)\n",
    "\n",
    "accnt1=account(12334435,10000)\n",
    "accnt1.withdraw(5000)\n",
    "accnt1.display()\n",
    "accnt2=account(21334435,10000)\n",
    "accnt2.withdraw(11000)\n",
    "accnt2.display()"
   ]
  },
  {
   "cell_type": "markdown",
   "id": "430a45a6",
   "metadata": {},
   "source": [
    "### @classmethods"
   ]
  },
  {
   "cell_type": "code",
   "execution_count": 1,
   "id": "9a5087ab",
   "metadata": {},
   "outputs": [
    {
     "data": {
      "text/plain": [
       "10"
      ]
     },
     "execution_count": 1,
     "metadata": {},
     "output_type": "execute_result"
    }
   ],
   "source": [
    "class student:\n",
    "    grace_mark=10\n",
    "    def __init__(self,name,sid,mark1,mark2,mark3):\n",
    "        self.name=name\n",
    "        self.sid=sid\n",
    "        self.mark1=mark1\n",
    "        self.mark2=mark2\n",
    "        self.mark3=mark3\n",
    "    def find_total(self):\n",
    "        self.total=self.mark1+self.mark2+self.mark3+student.grace_mark\n",
    "        print('{} your total mark is {}'.format(self.name,self.total))\n",
    "    @classmethod                               # changeing grace mark value\n",
    "    def change_grace_mark(cls,grace_marks):\n",
    "        cls.grace_mark=cls.grace_mark+grace_marks\n",
    "\n",
    "s1=student('meena',11,20,30,40)\n",
    "s2=student('kavitha',12,25,35,45)\n",
    "\n",
    "s1.grace_mark\n"
   ]
  },
  {
   "cell_type": "code",
   "execution_count": 2,
   "id": "b370f4c0",
   "metadata": {},
   "outputs": [
    {
     "data": {
      "text/plain": [
       "10"
      ]
     },
     "execution_count": 2,
     "metadata": {},
     "output_type": "execute_result"
    }
   ],
   "source": [
    "s2.grace_mark"
   ]
  },
  {
   "cell_type": "code",
   "execution_count": 3,
   "id": "90831e5e",
   "metadata": {},
   "outputs": [
    {
     "data": {
      "text/plain": [
       "'meena'"
      ]
     },
     "execution_count": 3,
     "metadata": {},
     "output_type": "execute_result"
    }
   ],
   "source": [
    "s1.name"
   ]
  },
  {
   "cell_type": "code",
   "execution_count": 4,
   "id": "9212ce37",
   "metadata": {},
   "outputs": [
    {
     "data": {
      "text/plain": [
       "'kavitha'"
      ]
     },
     "execution_count": 4,
     "metadata": {},
     "output_type": "execute_result"
    }
   ],
   "source": [
    "s2.name"
   ]
  },
  {
   "cell_type": "code",
   "execution_count": 5,
   "id": "2aba2f36",
   "metadata": {},
   "outputs": [
    {
     "data": {
      "text/plain": [
       "10"
      ]
     },
     "execution_count": 5,
     "metadata": {},
     "output_type": "execute_result"
    }
   ],
   "source": [
    "student.grace_mark"
   ]
  },
  {
   "cell_type": "code",
   "execution_count": 7,
   "id": "34aa0be8",
   "metadata": {},
   "outputs": [],
   "source": [
    "student.grace_mark=20"
   ]
  },
  {
   "cell_type": "code",
   "execution_count": 8,
   "id": "712daac2",
   "metadata": {},
   "outputs": [
    {
     "data": {
      "text/plain": [
       "20"
      ]
     },
     "execution_count": 8,
     "metadata": {},
     "output_type": "execute_result"
    }
   ],
   "source": [
    "student.grace_mark"
   ]
  },
  {
   "cell_type": "code",
   "execution_count": 9,
   "id": "530a701a",
   "metadata": {},
   "outputs": [],
   "source": [
    "student.change_grace_mark(30)"
   ]
  },
  {
   "cell_type": "code",
   "execution_count": 10,
   "id": "a6801493",
   "metadata": {},
   "outputs": [
    {
     "data": {
      "text/plain": [
       "50"
      ]
     },
     "execution_count": 10,
     "metadata": {},
     "output_type": "execute_result"
    }
   ],
   "source": [
    "student.grace_mark"
   ]
  },
  {
   "cell_type": "code",
   "execution_count": null,
   "id": "732cdf8e",
   "metadata": {},
   "outputs": [],
   "source": [
    "s1.find_total()"
   ]
  },
  {
   "cell_type": "code",
   "execution_count": null,
   "id": "f111e624",
   "metadata": {},
   "outputs": [],
   "source": [
    "from datetime import date\n",
    "class student:\n",
    "    def __init__(self,name,age):\n",
    "        self.name=name\n",
    "        self.age=age\n",
    "    def display(self):\n",
    "        print('name: {}\\n age: {}'.format(self.name,self.age))\n",
    "    @classmethod\n",
    "    def find_age(cls,name,yob):\n",
    "        return cls(name,(date.today().year-yob))\n",
    "    \n",
    "s1=student('navya',20)\n",
    "s2=student('kavya',1998)\n",
    "s1.display()\n",
    "s2.display()"
   ]
  },
  {
   "cell_type": "markdown",
   "id": "84a40549",
   "metadata": {},
   "source": [
    "# python inheritance"
   ]
  },
  {
   "cell_type": "code",
   "execution_count": null,
   "id": "b4d30c05",
   "metadata": {},
   "outputs": [],
   "source": [
    "class Animal:\n",
    "    def __init__(self,name,color):\n",
    "        self.name=name\n",
    "        self.color=color\n",
    "    def make_sound(self):\n",
    "        print(self.name,\"makes sound\")\n",
    "class Dog(Animal):\n",
    "    pass\n",
    "\n",
    "d=Dog('dog','black')\n",
    "d.make_sound()"
   ]
  },
  {
   "cell_type": "code",
   "execution_count": null,
   "id": "4c7ab241",
   "metadata": {},
   "outputs": [],
   "source": [
    "class Animal:\n",
    "    def __init__(self,name,color):\n",
    "        self.name=name\n",
    "        self.color=color\n",
    "    def make_sound(self):\n",
    "        print(self.name,\"makes sound\")\n",
    "class Dog(Animal):\n",
    "    def __init__(self):\n",
    "        self.name='dog'\n",
    "        self.color='black'\n",
    "\n",
    "d=Dog()\n",
    "d.make_sound()         # we can call a function in parent class from inherited class"
   ]
  },
  {
   "cell_type": "code",
   "execution_count": null,
   "id": "7f493a6f",
   "metadata": {},
   "outputs": [],
   "source": [
    "class Animal:\n",
    "    def __init__(self,name,color):\n",
    "        self.name=name\n",
    "        self.color=color\n",
    "    def make_sound(self):\n",
    "        print(self.name,\"makes sound\")\n",
    "class Dog(Animal):\n",
    "    def __init__(self):\n",
    "        self.name='dog'\n",
    "        self.color='black'\n",
    "    def make_sound(self):\n",
    "        print(self.name,\"makes bow sound\")\n",
    "class Cat(Animal):   # only if inherited class dose not have any related argument \n",
    "    pass                      # then only parent call will be exicuted\n",
    " \n",
    "d=Dog()\n",
    "d.make_sound()\n",
    "c=Cat('cat','brown')\n",
    "c.make_sound()"
   ]
  },
  {
   "cell_type": "code",
   "execution_count": null,
   "id": "7e2d9653",
   "metadata": {},
   "outputs": [],
   "source": [
    "class Animal:\n",
    " \n",
    "    def __init__(self,name,color):\n",
    "        self.name=name\n",
    "        self.color=color\n",
    "    def make_sound(self):\n",
    "        print(self.name,\"makes sound\")\n",
    "    def eat(self):\n",
    "        print(self.name,\"can eat\")\n",
    "    def walk(self):\n",
    "        print(self.name,\"can walk\")\n",
    "class Mammals(Animal):\n",
    "    def feed_milk(self):\n",
    "        print(self.name,\"it can feed milk\")\n",
    "class Cat(Mammals):\n",
    "    def make_sound(self):\n",
    "        print(\"meow\")\n",
    "a=Animal('animal1','b')\n",
    "m=Mammals('animal2','w')\n",
    "c=Cat('c1','b')\n",
    "a.eat()\n",
    "m.eat()\n",
    "c.eat()\n",
    "c.feed_milk()\n",
    "m.make_sound()\n",
    "c.make_sound()"
   ]
  },
  {
   "cell_type": "markdown",
   "id": "5ca96a38",
   "metadata": {},
   "source": [
    "## inheritence part-2"
   ]
  },
  {
   "cell_type": "code",
   "execution_count": null,
   "id": "44070dec",
   "metadata": {},
   "outputs": [],
   "source": [
    "class Animal:\n",
    "    def make_sound(self):\n",
    "        print(\"makes sound\")\n",
    "class Dog(Animal):\n",
    "    pass\n",
    "class Cat(Animal):\n",
    "    def make_sound(self):\n",
    "        print(\"meow sound\")\n",
    "d1=Dog()\n",
    "d1.make_sound()\n",
    "c1=Cat()\n",
    "c1.make_sound()\n",
    "a1=Animal()\n",
    "a1.make_sound()"
   ]
  },
  {
   "cell_type": "code",
   "execution_count": null,
   "id": "dd4f410e",
   "metadata": {},
   "outputs": [],
   "source": [
    "class Animal:\n",
    "    def __init__(self,name):\n",
    "        self.name=name\n",
    "    def make_sound(self):\n",
    "        print(\"makes sound\")\n",
    "class Dog(Animal):\n",
    "    def __init_(self,name):\n",
    "        super().__init__(name)\n",
    "    def display(self):\n",
    "        print(f\"name of the dog is:{self.name}\")\n",
    "\n",
    "d1=Dog(\"germanshepherd\")\n",
    "d1.display()"
   ]
  },
  {
   "cell_type": "code",
   "execution_count": null,
   "id": "a5f2bf42",
   "metadata": {
    "scrolled": true
   },
   "outputs": [],
   "source": [
    "class person:\n",
    "    def __init__(self,name):\n",
    "        self.name=name\n",
    "            \n",
    "class employee(person):\n",
    "    def __init__(self,name,ids):\n",
    "        super().__init__(name)     # super denotes super class(parent class)\n",
    "        self.id=ids\n",
    "    def display(self):\n",
    "        print(f'name: {self.name}\\n id: {self.id}')\n",
    "e1=employee('rahul',123)\n",
    "e1.display()"
   ]
  },
  {
   "cell_type": "code",
   "execution_count": null,
   "id": "a569f2f3",
   "metadata": {},
   "outputs": [],
   "source": [
    "class Customer:\n",
    "    def __init__(self,cid,qnty,price):\n",
    "        self.cid=cid\n",
    "        self.qnty=qnty\n",
    "        self.price=price\n",
    "        self.discount=0\n",
    "    def generate_bill(self):\n",
    "        self.price=self.price*self.qnty\n",
    "        self.discountamount=self.price*self.discount\n",
    "        return self.price-self.discountamount\n",
    "class Silver_customer(Customer):\n",
    "    def __init__(self,cid,qnty,price):\n",
    "        super().__init__(cid,qnty,price)  # also we ca use customer.   (self is not needed)\n",
    "        self.discount=10/100\n",
    "class Golden_customer(Customer):\n",
    "    def __init__(self,cid,qnty,price):\n",
    "        Customer.__init__(self,cid,qnty,price)  # also we can use super(). (self is mandatory)\n",
    "        self.discount=20/100\n",
    "\n",
    "c1=Customer(\"1\",1,100)\n",
    "print(f\"your bill is:{c1.generate_bill()}\")\n",
    "s1=Silver_customer(\"1\",10,100)\n",
    "print(f\"your bill is:{s1.generate_bill()}\")\n",
    "g1=Golden_customer(\"1\",10,100)\n",
    "print(f\"your bill is:{g1.generate_bill()}\")"
   ]
  },
  {
   "cell_type": "markdown",
   "id": "3ae945a2",
   "metadata": {},
   "source": [
    "### exercise"
   ]
  },
  {
   "cell_type": "markdown",
   "id": "dccf2104",
   "metadata": {},
   "source": [
    "4. Write a Python class Inventory with attributes like item_id, item_name, stock_count, and \n",
    "price, and methods like add_item, update_item, and check_item_details.\n",
    "Use a dictionary to store the item details, where the key is the item_id and the value is a \n",
    "dictionary containing the item_name, stock_count, and price"
   ]
  },
  {
   "cell_type": "code",
   "execution_count": null,
   "id": "0db1534c",
   "metadata": {},
   "outputs": [],
   "source": [
    "class inventory:\n",
    "    def __init__(self):\n",
    "        self.dict1={101:{'item_name':'rice',\n",
    "                        'stock_count':'25 kg',\n",
    "                        'price':50},\n",
    "                   102:{'item_name':'wheet',\n",
    "                        'stock_count':'20 kg',\n",
    "                        'price':40},\n",
    "                   103:{'item_name':'nuts',\n",
    "                        'stock_count':'8 kg',\n",
    "                        'price':100}}\n",
    "    def add_item(self):\n",
    "        self.dict1.update({int(input('enter new item id: ')):{'item_name':input('enter item name: '),\n",
    "                                                            'stock_count':input('enter stock count: '),\n",
    "                                                            'price':int(input('enter price: '))}})\n",
    "    def item_details(self):\n",
    "        print(self.dict1)\n",
    "    def update_item(self):\n",
    "        old_id=int(input('enter old item id:'))\n",
    "        new_item_name=input('enter new item name: ')\n",
    "        new_stock_count=input('enter new stock count: ')\n",
    "        new_prise=int(input('enter new price: '))\n",
    "        if old_id in self.dict1.keys():\n",
    "            self.dict1[old_id]['item_name']=new_item_name\n",
    "            self.dict1[old_id]['stock_count']=new_stock_count\n",
    "            self.dict1[old_id]['price']=new_prise\n",
    "        else:\n",
    "            print('invalid item id')\n",
    "\n",
    "        \n",
    "i=inventory()\n",
    "i.add_item()\n",
    "i.item_details()\n",
    "i.update_item()\n",
    "i.item_details()"
   ]
  },
  {
   "cell_type": "code",
   "execution_count": null,
   "id": "09fe2935",
   "metadata": {},
   "outputs": [],
   "source": [
    "i.item_details()"
   ]
  },
  {
   "cell_type": "markdown",
   "id": "f91fc973",
   "metadata": {},
   "source": [
    "Student management system in Python                                                                    \n",
    "Problem Statement: Write a program to build a simple Student Management System using                             \n",
    "Python which can perform the following operations:                                        \n",
    "1. Accept\n",
    "2. Display\n",
    "3. Search\n",
    "4. Delete\n",
    "5. Update\n",
    "Approach: Below is the approach to doing the above operations:                                                                \n",
    "1 Accept – This method takes details from the user like name, roll number, and marks\n",
    "for two different subjects.                                                                                 \n",
    "2 Display – This method displays the details of every student.                                                            \n",
    "3 Search – This method searches for a particular student from the list of students. This\n",
    "method will ask the user for roll number and then search according to the roll number                                      \n",
    "4 Delete – This method deletes the record of a particular student with a matching roll\n",
    "number.                                                                                                                   \n",
    "5 Update – This method updates the roll number of the student. This method will ask\n",
    "for the old roll number and new roll number. It will replace the old roll number with a\n",
    "new roll number                                                                                            "
   ]
  },
  {
   "cell_type": "code",
   "execution_count": 5,
   "id": "850f63cd",
   "metadata": {},
   "outputs": [
    {
     "name": "stdout",
     "output_type": "stream",
     "text": [
      "please select an option below\n",
      "1.Accept\n",
      "2.Display\n",
      "3.Search\n",
      "4.delete\n",
      "5.update\n",
      "1\n",
      "enter the name:j\n",
      "enter the rollno:1\n",
      "mark1:10\n",
      "mark2:20\n",
      "do you want to continue: yes\n",
      "please select an option below\n",
      "1.Accept\n",
      "2.Display\n",
      "3.Search\n",
      "4.delete\n",
      "5.update\n",
      "2\n",
      "name:j,rollno:1,mark1:10,mark2:20\n",
      "do you want to continue: yes\n",
      "please select an option below\n",
      "1.Accept\n",
      "2.Display\n",
      "3.Search\n",
      "4.delete\n",
      "5.update\n",
      "3\n",
      "enter the rollno you want to search1\n",
      "name:j,rollno:1,mark1:10,mark2:20\n",
      "do you want to continue: yes\n",
      "please select an option below\n",
      "1.Accept\n",
      "2.Display\n",
      "3.Search\n",
      "4.delete\n",
      "5.update\n",
      "4\n",
      "enter the rollno you want to delete1\n",
      "successfully deleted\n",
      "do you want to continue: yes\n",
      "please select an option below\n",
      "1.Accept\n",
      "2.Display\n",
      "3.Search\n",
      "4.delete\n",
      "5.update\n",
      "2\n",
      "do you want to continue: yes\n",
      "please select an option below\n",
      "1.Accept\n",
      "2.Display\n",
      "3.Search\n",
      "4.delete\n",
      "5.update\n",
      "1\n",
      "enter the name:jom\n",
      "enter the rollno:1\n",
      "mark1:10\n",
      "mark2:20\n",
      "do you want to continue: yes\n",
      "please select an option below\n",
      "1.Accept\n",
      "2.Display\n",
      "3.Search\n",
      "4.delete\n",
      "5.update\n",
      "1\n",
      "enter the name:b\n",
      "enter the rollno:2\n",
      "mark1:10\n",
      "mark2:15\n",
      "do you want to continue: yes\n",
      "please select an option below\n",
      "1.Accept\n",
      "2.Display\n",
      "3.Search\n",
      "4.delete\n",
      "5.update\n",
      "5\n",
      "enter the rollno you want to change2\n",
      "enter the new rollno you want to update3\n",
      "do you want to continue: yes\n",
      "please select an option below\n",
      "1.Accept\n",
      "2.Display\n",
      "3.Search\n",
      "4.delete\n",
      "5.update\n",
      "2\n",
      "name:jom,rollno:1,mark1:10,mark2:20\n",
      "name:b,rollno:3,mark1:10,mark2:15\n",
      "do you want to continue: n\n"
     ]
    }
   ],
   "source": [
    "class student:\n",
    "    def __init__(self):\n",
    "        self.name=[]\n",
    "        self.rollno=[]\n",
    "        self.mark1=[]\n",
    "        self.mark2=[]\n",
    "    def accept(self):\n",
    "        name=input(\"enter the name:\")\n",
    "        rollno=int(input(\"enter the rollno:\"))\n",
    "        mark1=int(input(\"mark1:\"))\n",
    "        mark2=int(input(\"mark2:\"))\n",
    "        self.name.append(name)\n",
    "        self.rollno.append(rollno)\n",
    "        self.mark1.append(mark1)\n",
    "        self.mark2.append(mark2)\n",
    "    def display(self):\n",
    "        for i in range(len(self.rollno)):\n",
    "            print(f'name:{self.name[i]},rollno:{self.rollno[i]},mark1:{self.mark1[i]},mark2:{self.mark2[i]}')\n",
    " \n",
    "    def search(self):\n",
    "        roll=int(input(\"enter the rollno you want to search\"))\n",
    "        if roll in self.rollno:\n",
    "            r_indx=self.rollno.index(roll)\n",
    "            print(f'name:{self.name[r_indx]},rollno:{self.rollno[r_indx]},mark1:{self.mark1[r_indx]},mark2:{self.mark2[r_indx]}')\n",
    "        else:\n",
    "            print(\"invalid data\")\n",
    " \n",
    "    def delete(self) :\n",
    "        roll=int(input(\"enter the rollno you want to delete\"))\n",
    "        if roll in self.rollno:\n",
    "            r_indx=self.rollno.index(roll) \n",
    "            self.name.pop(r_indx)\n",
    "            self.rollno.pop(r_indx)\n",
    "            self.mark1.pop(r_indx)\n",
    "            self.mark2.pop(r_indx)\n",
    "            print(\"successfully deleted\")\n",
    "        else:\n",
    "            print(\"invalid data\")\n",
    " \n",
    "    def update(self):\n",
    "        old_roll=int(input(\"enter the rollno you want to change\"))\n",
    "        if old_roll in self.rollno:\n",
    "            r_indx=self.rollno.index(old_roll)\n",
    "            new_roll=int(input(\"enter the new rollno you want to update\"))\n",
    "            self.rollno[r_indx]=new_roll\n",
    "        else:\n",
    "            print('invalid data')\n",
    "\n",
    "s=student() \n",
    "\n",
    "while True:\n",
    " \n",
    "    print(\"please select an option below\")\n",
    "    print(\"1.Accept\\n2.Display\\n3.Search\\n4.delete\\n5.update\")\n",
    "    choice=int(input()) \n",
    "    if(choice==1):\n",
    "        s.accept()\n",
    "    if(choice==2):\n",
    "        s.display()\n",
    "    if(choice==3):\n",
    "        s.search()\n",
    "    if(choice==4):\n",
    "        s.delete()\n",
    "    if(choice==5):\n",
    "        s.update()\n",
    "    if(input(\"do you want to continue: \")=='yes'):\n",
    "        continue\n",
    "    else:\n",
    "        break"
   ]
  },
  {
   "cell_type": "code",
   "execution_count": null,
   "id": "41fa6018",
   "metadata": {},
   "outputs": [],
   "source": []
  }
 ],
 "metadata": {
  "kernelspec": {
   "display_name": "Python 3 (ipykernel)",
   "language": "python",
   "name": "python3"
  },
  "language_info": {
   "codemirror_mode": {
    "name": "ipython",
    "version": 3
   },
   "file_extension": ".py",
   "mimetype": "text/x-python",
   "name": "python",
   "nbconvert_exporter": "python",
   "pygments_lexer": "ipython3",
   "version": "3.11.5"
  }
 },
 "nbformat": 4,
 "nbformat_minor": 5
}
