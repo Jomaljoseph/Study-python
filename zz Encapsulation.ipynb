{
 "cells": [
  {
   "cell_type": "markdown",
   "id": "c0f98225",
   "metadata": {},
   "source": [
    "# Encapsulation"
   ]
  },
  {
   "cell_type": "code",
   "execution_count": 2,
   "id": "d370e8b6",
   "metadata": {},
   "outputs": [],
   "source": [
    "class Emp:\n",
    "    def __init__(self,name,salary):\n",
    "        self.name=name\n",
    "        self.salary=salary #public member it can be accessed from outside of the class\n",
    "        self._salry=salary #protected member accessible within the class and its subclass(1 underscore)\n",
    "        self.__salry=salary #private member accessible only within the class(2 underscore)"
   ]
  },
  {
   "cell_type": "markdown",
   "id": "f5e7612c",
   "metadata": {},
   "source": [
    "# public members"
   ]
  },
  {
   "cell_type": "code",
   "execution_count": 4,
   "id": "76adf83a",
   "metadata": {},
   "outputs": [
    {
     "name": "stdout",
     "output_type": "stream",
     "text": [
      "Name:  jessa Salary:  10000\n",
      "Name:  jessa Salary:  10000\n"
     ]
    }
   ],
   "source": [
    "class employee:\n",
    "    #constructor\n",
    "    def __init__(self,name,salary):\n",
    "        #public data members\n",
    "        self.name=name\n",
    "        self.salary=salary\n",
    "        \n",
    "    #public instance methods\n",
    "    def show(self):\n",
    "        print('Name: ',self.name,'Salary: ',self.salary)\n",
    "        \n",
    "#creating object of a class\n",
    "emp=employee('jessa',10000)\n",
    "\n",
    "#accessing public data members outside the class\n",
    "print('Name: ',emp.name,'Salary: ',emp.salary)\n",
    "\n",
    "#calling public members using class function\n",
    "emp.show()"
   ]
  },
  {
   "cell_type": "code",
   "execution_count": 10,
   "id": "c402cafa",
   "metadata": {},
   "outputs": [
    {
     "name": "stdout",
     "output_type": "stream",
     "text": [
      "Name:  Jessa Salary: 10000\n",
      "Name:  Jessa Salary: 10000\n",
      "Name:  navya Salary: 30000\n"
     ]
    }
   ],
   "source": [
    "class Employee:\n",
    "    # constructor\n",
    "    def __init__(self, name, salary):\n",
    "        # public data members\n",
    "        self.name = name\n",
    "        self.salary = salary\n",
    "\n",
    "    # public instance methods\n",
    "    def show(self):\n",
    "        # accessing public data member\n",
    "        print(\"Name: \", self.name, 'Salary:', self.salary)\n",
    "class A(Employee):\n",
    "    def display(self):\n",
    "        print(\"Name: \", self.name, 'Salary:', self.salary)\n",
    "# creating object of a class\n",
    "emp = Employee('Jessa', 10000)\n",
    "a=A('navya',30000)\n",
    "# accessing public data members\n",
    "print(\"Name: \", emp.name, 'Salary:', emp.salary)\n",
    "\n",
    "# calling public method of the class\n",
    "emp.show()\n",
    "a.display()"
   ]
  },
  {
   "cell_type": "markdown",
   "id": "973bffcf",
   "metadata": {},
   "source": [
    "# private members"
   ]
  },
  {
   "cell_type": "code",
   "execution_count": 1,
   "id": "d824e4e6",
   "metadata": {},
   "outputs": [
    {
     "name": "stdout",
     "output_type": "stream",
     "text": [
      "10000\n"
     ]
    },
    {
     "ename": "AttributeError",
     "evalue": "'Employee' object has no attribute '__salary'",
     "output_type": "error",
     "traceback": [
      "\u001b[1;31m---------------------------------------------------------------------------\u001b[0m",
      "\u001b[1;31mAttributeError\u001b[0m                            Traceback (most recent call last)",
      "Cell \u001b[1;32mIn[1], line 14\u001b[0m\n\u001b[0;32m     12\u001b[0m emp\u001b[38;5;241m.\u001b[39mshow()\n\u001b[0;32m     13\u001b[0m \u001b[38;5;66;03m# accessing private data members\u001b[39;00m\n\u001b[1;32m---> 14\u001b[0m \u001b[38;5;28mprint\u001b[39m(\u001b[38;5;124m'\u001b[39m\u001b[38;5;124mSalary:\u001b[39m\u001b[38;5;124m'\u001b[39m, emp\u001b[38;5;241m.\u001b[39m__salary)\n",
      "\u001b[1;31mAttributeError\u001b[0m: 'Employee' object has no attribute '__salary'"
     ]
    }
   ],
   "source": [
    "class Employee:\n",
    "     # constructor\n",
    "    def __init__(self, name, salary):\n",
    "         # public data member\n",
    "        self.name = name\n",
    "         # private member\n",
    "        self.__salary = salary\n",
    "    def show(self):\n",
    "        print(self.__salary)\n",
    "        \n",
    "# creating object of a class\n",
    "emp = Employee('Jessa', 10000)\n",
    "emp.show()\n",
    "\n",
    "# accessing private data members\n",
    "print('Salary:', emp.__salary)"
   ]
  },
  {
   "cell_type": "code",
   "execution_count": 12,
   "id": "0b64a0ab",
   "metadata": {},
   "outputs": [
    {
     "name": "stdout",
     "output_type": "stream",
     "text": [
      "10000\n",
      "Name:  navya Salary: 30000\n",
      "Salary: 10000\n"
     ]
    }
   ],
   "source": [
    "class Employee:\n",
    "    # constructor\n",
    "    def __init__(self, name, salary):\n",
    "        # public data member\n",
    "        self.name = name\n",
    "        # private member\n",
    "        self.__salary = salary\n",
    "    def show(self):\n",
    "        print(self.__salary)\n",
    "class A(Employee):\n",
    "    def display(self):\n",
    "        print(\"Name: \", self.name, 'Salary:', self._Employee__salary)\n",
    "# creating object of a class\n",
    "emp = Employee('Jessa', 10000)\n",
    "emp.show()\n",
    "a=A('navya',30000)\n",
    "a.display()\n",
    "# accessing private data members\n",
    "print('Salary:', emp._Employee__salary)"
   ]
  },
  {
   "cell_type": "markdown",
   "id": "0dea3990",
   "metadata": {},
   "source": [
    "# Accessing private members using name mangling"
   ]
  },
  {
   "cell_type": "code",
   "execution_count": 2,
   "id": "a4766e61",
   "metadata": {},
   "outputs": [
    {
     "name": "stdout",
     "output_type": "stream",
     "text": [
      "Name: Jessa\n",
      "Salary: 10000\n"
     ]
    }
   ],
   "source": [
    "class Employee:\n",
    "    # constructor\n",
    "    def __init__(self, name, salary):\n",
    "        # public data member\n",
    "        self.name = name\n",
    "        # private member\n",
    "        self.__salary = salary\n",
    "        \n",
    "# creating object of a class\n",
    "emp = Employee('Jessa', 10000)\n",
    "\n",
    "print('Name:', emp.name)\n",
    "# direct access to private member using name mangling\n",
    "print('Salary:', emp._Employee__salary) # _Employee\n"
   ]
  },
  {
   "cell_type": "markdown",
   "id": "ae86da07",
   "metadata": {},
   "source": [
    "# protected members"
   ]
  },
  {
   "cell_type": "code",
   "execution_count": 4,
   "id": "abb70772",
   "metadata": {},
   "outputs": [
    {
     "name": "stdout",
     "output_type": "stream",
     "text": [
      "Employee name : Jessa\n",
      "Working on project : NLP\n",
      "Project: NLP\n"
     ]
    }
   ],
   "source": [
    "class Company:\n",
    "    def __init__(self):\n",
    "        # Protected member\n",
    "        self._project = \"NLP\"\n",
    "\n",
    "# child class\n",
    "class Employee(Company):\n",
    "    def __init__(self, name):\n",
    "        self.name = name\n",
    "        Company.__init__(self)\n",
    "    def show(self):\n",
    "        print(\"Employee name :\", self.name)\n",
    "        # Accessing protected member in child class\n",
    "        print(\"Working on project :\", self._project)\n",
    "\n",
    "c = Employee(\"Jessa\")\n",
    "c.show()\n",
    "# Direct access protected data member\n",
    "print('Project:', c._project)"
   ]
  },
  {
   "cell_type": "code",
   "execution_count": 11,
   "id": "687be47b",
   "metadata": {},
   "outputs": [
    {
     "name": "stdout",
     "output_type": "stream",
     "text": [
      "Employee name : Jessa\n",
      "Working on project : NLP\n",
      "Project: NLP\n"
     ]
    }
   ],
   "source": [
    "class Company:\n",
    "    def __init__(self,name):\n",
    "        # Protected member\n",
    "        self.name = name\n",
    "        self._project = \"NLP\"\n",
    "\n",
    "# child class\n",
    "class Employee(Company):\n",
    "    \n",
    "\n",
    "    def show(self):\n",
    "        print(\"Employee name :\", self.name)\n",
    "        # Accessing protected member in child class\n",
    "        print(\"Working on project :\", self._project)\n",
    "        \n",
    "class dept:\n",
    "    def display(self):\n",
    "        print(self._project)\n",
    "\n",
    "c = Employee(\"Jessa\")\n",
    "c.show()\n",
    "#d=dept('neena')\n",
    "#d.display()\n",
    "\n",
    "# Direct access protected data member\n",
    "print('Project:', c._project)"
   ]
  },
  {
   "cell_type": "markdown",
   "id": "abe26b25",
   "metadata": {},
   "source": [
    "# private methods"
   ]
  },
  {
   "cell_type": "code",
   "execution_count": 7,
   "id": "c5ba4c8c",
   "metadata": {},
   "outputs": [
    {
     "name": "stdout",
     "output_type": "stream",
     "text": [
      "Public method\n",
      "Public method\n",
      "Private method\n"
     ]
    }
   ],
   "source": [
    "class A:\n",
    "    # Declaring public method\n",
    "    def fun(self):\n",
    "        print(\"Public method\")\n",
    "        \n",
    "    # Declaring private method\n",
    "    def __fun(self):\n",
    "        print(\"Private method\")\n",
    "\n",
    "    # Calling private method via\n",
    "    # another method\n",
    "    def Help(self):\n",
    "        self.fun()\n",
    "        self.__fun()\n",
    "\n",
    "obj=A()\n",
    "obj.fun()\n",
    "obj.Help()\n",
    "#obj.__fun()"
   ]
  },
  {
   "cell_type": "code",
   "execution_count": 9,
   "id": "1b87e5ad",
   "metadata": {},
   "outputs": [
    {
     "name": "stdout",
     "output_type": "stream",
     "text": [
      "Public method\n"
     ]
    }
   ],
   "source": [
    "class A:\n",
    "    # Declaring public method\n",
    "    def fun(self):\n",
    "        print(\"Public method\")\n",
    "    # Declaring private method\n",
    "    def __fun(self):\n",
    "        print(\"Private method\")\n",
    "        \n",
    "class B(A):\n",
    "    pass\n",
    "\n",
    "b=B()\n",
    "b.fun()\n",
    "#b.__fun()"
   ]
  },
  {
   "cell_type": "code",
   "execution_count": null,
   "id": "a9ee07fa",
   "metadata": {},
   "outputs": [],
   "source": []
  }
 ],
 "metadata": {
  "kernelspec": {
   "display_name": "Python 3 (ipykernel)",
   "language": "python",
   "name": "python3"
  },
  "language_info": {
   "codemirror_mode": {
    "name": "ipython",
    "version": 3
   },
   "file_extension": ".py",
   "mimetype": "text/x-python",
   "name": "python",
   "nbconvert_exporter": "python",
   "pygments_lexer": "ipython3",
   "version": "3.11.5"
  }
 },
 "nbformat": 4,
 "nbformat_minor": 5
}
