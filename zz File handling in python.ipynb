{
 "cells": [
  {
   "cell_type": "markdown",
   "id": "dec9dc6c",
   "metadata": {},
   "source": [
    "# File handling in python"
   ]
  },
  {
   "cell_type": "code",
   "execution_count": 9,
   "id": "74f62cc9",
   "metadata": {},
   "outputs": [],
   "source": [
    "f=open('file1.txt','w') # 'w' is used for writing a file, if file dose not exist it will create a new file and write on it.\n",
    "f.write('i am learning python')\n",
    "f.close()"
   ]
  },
  {
   "cell_type": "code",
   "execution_count": 10,
   "id": "6b3c1d9f",
   "metadata": {},
   "outputs": [],
   "source": [
    "f=open('file1.txt','r+') # 'r'denotes reding 'r+' is reading and writing. it will show error if the file is not existed.\n",
    "f.write(\"i'm learning python\") # it only over write on the existing file\n",
    "f.close()"
   ]
  },
  {
   "cell_type": "code",
   "execution_count": 11,
   "id": "991885ea",
   "metadata": {},
   "outputs": [],
   "source": [
    "f=open('C:/Users/Eldho/JOMAL/Python/file2.txt','w') # create a file in specified path\n",
    "f.write('i am learning python \\n')                   # if it is in the same folder as python file location is not needed\n",
    "f.write('i am learning java \\n')\n",
    "f.close()"
   ]
  },
  {
   "cell_type": "code",
   "execution_count": 13,
   "id": "3d120caa",
   "metadata": {},
   "outputs": [],
   "source": [
    "f=open('file2.txt','a') # 'a'- append, append mode won't overwrite a file. new text will added with existing one\n",
    "f.writelines(['i am learning OOPS \\n','i am learning excel ']) # can write many values seprated by comma in a list[]\n",
    "f.write('i am learning CPP \\n')\n",
    "f.close()"
   ]
  },
  {
   "cell_type": "code",
   "execution_count": 15,
   "id": "e2187695",
   "metadata": {},
   "outputs": [
    {
     "name": "stdout",
     "output_type": "stream",
     "text": [
      "i am learning python \n",
      "i am learning java \n",
      "i am learning OOPS \n",
      "i am learning excel i am learning CPP \n",
      "i am learning OOPS \n",
      "i am learning excel i am learning CPP \n",
      "\n"
     ]
    }
   ],
   "source": [
    "f=open('file2.txt','r')\n",
    "print(f.read()) # charactor by charactor reading from the file\n",
    "f.close()"
   ]
  },
  {
   "cell_type": "code",
   "execution_count": 47,
   "id": "91093bab",
   "metadata": {},
   "outputs": [
    {
     "name": "stdout",
     "output_type": "stream",
     "text": [
      "i am learning python \n",
      "\n"
     ]
    }
   ],
   "source": [
    "f=open(\"file2.txt\",'r')\n",
    "print(f.readline()) #single line reading, only read first line"
   ]
  },
  {
   "cell_type": "code",
   "execution_count": 48,
   "id": "0ec68d88",
   "metadata": {},
   "outputs": [
    {
     "name": "stdout",
     "output_type": "stream",
     "text": [
      "i am learn\n"
     ]
    }
   ],
   "source": [
    "print(f.read(10)) # 10 charachters (read next line)"
   ]
  },
  {
   "cell_type": "code",
   "execution_count": 49,
   "id": "3225a913",
   "metadata": {},
   "outputs": [
    {
     "name": "stdout",
     "output_type": "stream",
     "text": [
      "ing java \n",
      "\n"
     ]
    }
   ],
   "source": [
    "print(f.readline()) # read remaining of that line"
   ]
  },
  {
   "cell_type": "code",
   "execution_count": 50,
   "id": "9afc87ad",
   "metadata": {},
   "outputs": [
    {
     "name": "stdout",
     "output_type": "stream",
     "text": [
      "i am learning OOPS \n",
      "i am learning excel i am learning CPP \n",
      "i am learning OOPS \n",
      "i am learning excel i am learning CPP \n",
      "\n"
     ]
    }
   ],
   "source": [
    "print(f.read()) # it will read all the remaining lines"
   ]
  },
  {
   "cell_type": "code",
   "execution_count": 51,
   "id": "79c31ecd",
   "metadata": {},
   "outputs": [
    {
     "name": "stdout",
     "output_type": "stream",
     "text": [
      "[]\n"
     ]
    }
   ],
   "source": [
    "print(f.readlines()) # all lines are readed so no output"
   ]
  },
  {
   "cell_type": "code",
   "execution_count": 52,
   "id": "4476cc12",
   "metadata": {},
   "outputs": [
    {
     "name": "stdout",
     "output_type": "stream",
     "text": [
      "166\n"
     ]
    }
   ],
   "source": [
    "print(f.tell()) # tells the position"
   ]
  },
  {
   "cell_type": "code",
   "execution_count": 53,
   "id": "130544d4",
   "metadata": {},
   "outputs": [
    {
     "name": "stdout",
     "output_type": "stream",
     "text": [
      "0\n"
     ]
    }
   ],
   "source": [
    "print(f.seek(0)) # returns to the specified position (here it given first possition '0')"
   ]
  },
  {
   "cell_type": "code",
   "execution_count": 54,
   "id": "588c50d0",
   "metadata": {},
   "outputs": [
    {
     "data": {
      "text/plain": [
       "0"
      ]
     },
     "execution_count": 54,
     "metadata": {},
     "output_type": "execute_result"
    }
   ],
   "source": [
    "f.tell()"
   ]
  },
  {
   "cell_type": "code",
   "execution_count": 55,
   "id": "8c02d680",
   "metadata": {},
   "outputs": [
    {
     "name": "stdout",
     "output_type": "stream",
     "text": [
      "i am learning python \n",
      "i am learning java \n",
      "i am learning OOPS \n",
      "i am learning excel i am learning CPP \n",
      "i am learning OOPS \n",
      "i am learning excel i am learning CPP \n",
      "\n"
     ]
    }
   ],
   "source": [
    "print(f.read()) # reading from '0' th possitin (reading all)"
   ]
  },
  {
   "cell_type": "code",
   "execution_count": 56,
   "id": "dba8bfc3",
   "metadata": {},
   "outputs": [
    {
     "name": "stdout",
     "output_type": "stream",
     "text": [
      "166\n"
     ]
    }
   ],
   "source": [
    "print(f.tell())\n",
    "f.close()  # can't read closed files again"
   ]
  },
  {
   "cell_type": "code",
   "execution_count": 58,
   "id": "8b97bb91",
   "metadata": {},
   "outputs": [
    {
     "name": "stdout",
     "output_type": "stream",
     "text": [
      "i am learning python \n",
      "\n",
      "i am learning java \n",
      "\n",
      "i am learning OOPS \n",
      "\n",
      "i am learning excel i am learning CPP \n",
      "\n",
      "i am learning OOPS \n",
      "\n",
      "i am learning excel i am learning CPP \n",
      "\n"
     ]
    }
   ],
   "source": [
    "f=open('file2.txt','r')\n",
    "for l in f:\n",
    "    print(l)\n",
    "f.close()"
   ]
  },
  {
   "cell_type": "markdown",
   "id": "7b8a1ecd",
   "metadata": {},
   "source": [
    "another method to open"
   ]
  },
  {
   "cell_type": "code",
   "execution_count": 2,
   "id": "99380ccf",
   "metadata": {},
   "outputs": [],
   "source": [
    "with open(\"file3.txt\",'wt') as fp:\n",
    "    fp.write(\"Welcome to pythonexamples.org. Here, you will find python program\")"
   ]
  },
  {
   "cell_type": "code",
   "execution_count": 3,
   "id": "78cc1803",
   "metadata": {},
   "outputs": [
    {
     "name": "stdout",
     "output_type": "stream",
     "text": [
      "['i', 'am', 'learning', 'python', 'i', 'am', 'learning', 'java', 'i', 'am', 'learning', 'OOPS', 'i', 'am', 'learning', 'excel', 'i', 'am', 'learning', 'CPP', 'i', 'am', 'learning', 'OOPS', 'i', 'am', 'learning', 'excel', 'i', 'am', 'learning', 'CPP']\n",
      "Number of words in text file : 32\n"
     ]
    }
   ],
   "source": [
    "file = open(\"file2.txt\", \"rt\")\n",
    "data = file.read()\n",
    "words = data.split()\n",
    "print(words)\n",
    "print('Number of words in text file :', len(words))"
   ]
  },
  {
   "cell_type": "code",
   "execution_count": 4,
   "id": "0201e118",
   "metadata": {},
   "outputs": [],
   "source": [
    "import os    # to remove a created file\n",
    "os.remove('file3.txt')  # file will be deleted."
   ]
  },
  {
   "cell_type": "code",
   "execution_count": null,
   "id": "06238e52",
   "metadata": {},
   "outputs": [],
   "source": []
  }
 ],
 "metadata": {
  "kernelspec": {
   "display_name": "Python 3 (ipykernel)",
   "language": "python",
   "name": "python3"
  },
  "language_info": {
   "codemirror_mode": {
    "name": "ipython",
    "version": 3
   },
   "file_extension": ".py",
   "mimetype": "text/x-python",
   "name": "python",
   "nbconvert_exporter": "python",
   "pygments_lexer": "ipython3",
   "version": "3.11.5"
  }
 },
 "nbformat": 4,
 "nbformat_minor": 5
}
