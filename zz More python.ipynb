{
 "cells": [
  {
   "cell_type": "markdown",
   "id": "c4cb01d9",
   "metadata": {},
   "source": [
    "# ENUMERATE FUNCTION"
   ]
  },
  {
   "cell_type": "code",
   "execution_count": 2,
   "id": "3bc85870",
   "metadata": {},
   "outputs": [
    {
     "name": "stdout",
     "output_type": "stream",
     "text": [
      "0 s\n",
      "1 r\n",
      "2 t\n",
      "3 i\n",
      "4 n\n",
      "5 g\n",
      "6 1\n"
     ]
    }
   ],
   "source": [
    "pattern=\"srting1\"\n",
    "for i in range(len(pattern)):\n",
    "    print(i,pattern[i])"
   ]
  },
  {
   "cell_type": "code",
   "execution_count": 6,
   "id": "8741808a",
   "metadata": {},
   "outputs": [
    {
     "name": "stdout",
     "output_type": "stream",
     "text": [
      "0 s\n",
      "1 r\n",
      "2 t\n",
      "3 i\n",
      "4 n\n",
      "5 g\n",
      "6 1\n"
     ]
    }
   ],
   "source": [
    "pattern=\"srting1\"\n",
    "for pos,p in enumerate(pattern):  # when using enumerate, position(index) will be added to 'pos' and string letters to 'p'\n",
    "    print(pos,p)"
   ]
  },
  {
   "cell_type": "code",
   "execution_count": 8,
   "id": "8c90b38a",
   "metadata": {},
   "outputs": [
    {
     "name": "stdout",
     "output_type": "stream",
     "text": [
      "1 s\n",
      "2 r\n",
      "3 t\n",
      "4 i\n",
      "5 n\n",
      "6 g\n",
      "7 1\n"
     ]
    }
   ],
   "source": [
    "for pos,p in enumerate(pattern,1):  # ,1 - here position will start from 1\n",
    "    print(pos,p)"
   ]
  },
  {
   "cell_type": "code",
   "execution_count": 10,
   "id": "1dd0ffaf",
   "metadata": {},
   "outputs": [
    {
     "name": "stdout",
     "output_type": "stream",
     "text": [
      "{0: 's', 1: 't', 2: 'r', 3: 'i', 4: 'n', 5: 'g', 6: '1'}\n"
     ]
    }
   ],
   "source": [
    "print(dict(enumerate(\"string1\"))) # it will convert to dictionery with position as key and string charactor as values"
   ]
  },
  {
   "cell_type": "code",
   "execution_count": 12,
   "id": "6a9d8ee3",
   "metadata": {},
   "outputs": [
    {
     "name": "stdout",
     "output_type": "stream",
     "text": [
      "[(0, 1), (1, 2), (2, 3), (3, 4)]\n"
     ]
    }
   ],
   "source": [
    "list1=list(enumerate([1,2,3,4]))  # convert to list. will be stored as tuple in list\n",
    "print(list1)"
   ]
  },
  {
   "cell_type": "markdown",
   "id": "c834ba92",
   "metadata": {},
   "source": [
    "# REGX MODULE"
   ]
  },
  {
   "cell_type": "markdown",
   "id": "a79a0141",
   "metadata": {},
   "source": [
    "search for regex cheat sheet on google"
   ]
  },
  {
   "cell_type": "code",
   "execution_count": 4,
   "id": "a801128f",
   "metadata": {},
   "outputs": [
    {
     "data": {
      "text/plain": [
       "' RegEx, or Regular Expression, is a sequence of characters that forms a search (continu)\\nRegEx can be used to check if a string contains the specified search pattern.'"
      ]
     },
     "execution_count": 4,
     "metadata": {},
     "output_type": "execute_result"
    }
   ],
   "source": [
    "''' RegEx, or Regular Expression, is a sequence of characters that forms a search (continu)\n",
    "RegEx can be used to check if a string contains the specified search pattern.'''"
   ]
  },
  {
   "cell_type": "code",
   "execution_count": 5,
   "id": "233298e0",
   "metadata": {},
   "outputs": [],
   "source": [
    "import re"
   ]
  },
  {
   "cell_type": "code",
   "execution_count": 10,
   "id": "4006e2b4",
   "metadata": {},
   "outputs": [
    {
     "name": "stdout",
     "output_type": "stream",
     "text": [
      "g\n",
      "\t*\n",
      "g\\n\\t*\n"
     ]
    }
   ],
   "source": [
    "print('g\\n\\t*')   # \\n to print in next line, \\t is to print one tab space\n",
    "print(r'g\\n\\t*')  # when r is there "
   ]
  },
  {
   "cell_type": "markdown",
   "id": "2f15a091",
   "metadata": {},
   "source": [
    "1.write a python program that matches a string contains 1 followed by zero or more than one zero"
   ]
  },
  {
   "cell_type": "markdown",
   "id": "563a2d82",
   "metadata": {},
   "source": [
    "syntax-  re.search(expression,string)"
   ]
  },
  {
   "cell_type": "code",
   "execution_count": 11,
   "id": "605c3956",
   "metadata": {},
   "outputs": [
    {
     "name": "stdout",
     "output_type": "stream",
     "text": [
      "<re.Match object; span=(4, 5), match='1'>\n"
     ]
    }
   ],
   "source": [
    "expression=r'10*'\n",
    "print(re.search(expression,'abcd1'))"
   ]
  },
  {
   "cell_type": "code",
   "execution_count": 12,
   "id": "60d50d7a",
   "metadata": {},
   "outputs": [
    {
     "name": "stdout",
     "output_type": "stream",
     "text": [
      "<re.Match object; span=(4, 5), match='1'>\n"
     ]
    }
   ],
   "source": [
    "expression=r'10*'   # 1- one and 0*- zero or more zeros \n",
    "print(re.search(expression,'abcd1')) # there is 1, zero is not mandatory"
   ]
  },
  {
   "cell_type": "markdown",
   "id": "8765b2d1",
   "metadata": {},
   "source": [
    "2.write a python program that matches a string contains 1 followed by one zero or more 0's "
   ]
  },
  {
   "cell_type": "code",
   "execution_count": 13,
   "id": "11fcae00",
   "metadata": {},
   "outputs": [
    {
     "name": "stdout",
     "output_type": "stream",
     "text": [
      "None\n"
     ]
    }
   ],
   "source": [
    "expression=r'10+'   # 1- one and 0+ - one or more zeros\n",
    "print(re.search(expression,'abcd1')) # 1- one is there but no zero so no matching"
   ]
  },
  {
   "cell_type": "markdown",
   "id": "186eee71",
   "metadata": {},
   "source": [
    "3.write a python program that matches a string contains a letter followed by one zero or more"
   ]
  },
  {
   "cell_type": "code",
   "execution_count": 14,
   "id": "087af885",
   "metadata": {},
   "outputs": [
    {
     "name": "stdout",
     "output_type": "stream",
     "text": [
      "<re.Match object; span=(0, 1), match='a'>\n"
     ]
    }
   ],
   "source": [
    "expression=r'[a-z]0?'  # any alphabet followed by one or more zero(at least one zero)\n",
    "print(re.search(expression,'ab100'))"
   ]
  },
  {
   "cell_type": "markdown",
   "id": "e51da0b1",
   "metadata": {},
   "source": [
    "4.write a python program that matches a string contains a 1 followed by three 0"
   ]
  },
  {
   "cell_type": "code",
   "execution_count": 15,
   "id": "648ff53f",
   "metadata": {},
   "outputs": [
    {
     "name": "stdout",
     "output_type": "stream",
     "text": [
      "None\n"
     ]
    }
   ],
   "source": [
    "expression=r'10{3}' # 1 followed by exactly 3 zero\n",
    "print(re.search(expression,'ab100'))"
   ]
  },
  {
   "cell_type": "markdown",
   "id": "5256886c",
   "metadata": {},
   "source": [
    "5.write a python program to find a sequence of charachters joined with an underscore (_)"
   ]
  },
  {
   "cell_type": "code",
   "execution_count": 21,
   "id": "4afcba13",
   "metadata": {},
   "outputs": [
    {
     "name": "stdout",
     "output_type": "stream",
     "text": [
      "<re.Match object; span=(0, 9), match='aAabc_def'>\n"
     ]
    }
   ],
   "source": [
    "expression=r'[a-zA-Z]+_[a-zA-Z]+'\n",
    "print(re.search(expression,'aAabc_def_hij'))"
   ]
  },
  {
   "cell_type": "markdown",
   "id": "89b33c11",
   "metadata": {},
   "source": [
    "write a python program to find a sequence of lower case charachters joined with an underscore"
   ]
  },
  {
   "cell_type": "code",
   "execution_count": 23,
   "id": "21f4451b",
   "metadata": {},
   "outputs": [
    {
     "name": "stdout",
     "output_type": "stream",
     "text": [
      "<re.Match object; span=(2, 9), match='abc_def'>\n"
     ]
    }
   ],
   "source": [
    "expression=r'[a-z]+_[a-z]+'\n",
    "print(re.search(expression,'aAabc_def_hij'))"
   ]
  },
  {
   "cell_type": "markdown",
   "id": "aaa96e3f",
   "metadata": {},
   "source": [
    "6.check for the pattern dd-mm-yyyy"
   ]
  },
  {
   "cell_type": "markdown",
   "id": "033265a1",
   "metadata": {},
   "source": [
    "!!!!!!!!!!!!"
   ]
  },
  {
   "cell_type": "code",
   "execution_count": 17,
   "id": "e9fe7773",
   "metadata": {
    "scrolled": true
   },
   "outputs": [
    {
     "name": "stdout",
     "output_type": "stream",
     "text": [
      "<re.Match object; span=(0, 10), match='15-04-1996'>\n"
     ]
    }
   ],
   "source": [
    "expression=r'\\d{1,2}-\\d{1,2}-\\d{2,4}'\n",
    "print(re.search(expression,'15-04-1996'))"
   ]
  },
  {
   "cell_type": "markdown",
   "id": "6eb8ef1e",
   "metadata": {},
   "source": [
    "7.find the words with exactly 8 letters."
   ]
  },
  {
   "cell_type": "code",
   "execution_count": 18,
   "id": "cd344bc9",
   "metadata": {},
   "outputs": [
    {
     "name": "stdout",
     "output_type": "stream",
     "text": [
      "<re.Match object; span=(0, 8), match='pythonin'>\n"
     ]
    }
   ],
   "source": [
    "expression=r'[a-zA-Z]{8}'\n",
    "print(re.search(expression,'pythoninguiyft'))"
   ]
  },
  {
   "cell_type": "markdown",
   "id": "45be702e",
   "metadata": {},
   "source": [
    "8.find a string ending with python."
   ]
  },
  {
   "cell_type": "code",
   "execution_count": 7,
   "id": "a741a764",
   "metadata": {},
   "outputs": [
    {
     "name": "stdout",
     "output_type": "stream",
     "text": [
      "None\n"
     ]
    }
   ],
   "source": [
    "expression=r'python$'  # $ denotes ends with\n",
    "print(re.search(expression,'This tutorial is about python and javascript'))"
   ]
  },
  {
   "cell_type": "markdown",
   "id": "2bf3c7ab",
   "metadata": {},
   "source": [
    "9.Search the string to see if it starts with \"This\" and ends with \"Python\":"
   ]
  },
  {
   "cell_type": "code",
   "execution_count": 10,
   "id": "c3f40349",
   "metadata": {},
   "outputs": [
    {
     "name": "stdout",
     "output_type": "stream",
     "text": [
      "<re.Match object; span=(0, 29), match='This tutorial is about Python'>\n"
     ]
    }
   ],
   "source": [
    "expression=r'^This.*Python$'   # ^ denotes start of a string '.' Any charactor except line braker * zero ore more times\n",
    "print(re.search(expression,'This tutorial is about Python'))"
   ]
  },
  {
   "cell_type": "markdown",
   "id": "8083ba4c",
   "metadata": {},
   "source": [
    "python program to find if the given string starts with a and ends in s"
   ]
  },
  {
   "cell_type": "code",
   "execution_count": 11,
   "id": "7d064b8c",
   "metadata": {},
   "outputs": [
    {
     "name": "stdout",
     "output_type": "stream",
     "text": [
      "search succesfull\n"
     ]
    }
   ],
   "source": [
    "import re\n",
    "\n",
    "pattern='^a...s$'\n",
    "test_string='abyss'\n",
    "result=re.match(pattern,test_string)\n",
    "\n",
    "if result:\n",
    "    print('search succesfull')\n",
    "else:\n",
    "    print('search unsuccesfull')"
   ]
  },
  {
   "cell_type": "markdown",
   "id": "d659186a",
   "metadata": {},
   "source": [
    "python program to find a given password includes charachters,numbers and symbols"
   ]
  },
  {
   "cell_type": "code",
   "execution_count": 14,
   "id": "5e0cd0e3",
   "metadata": {},
   "outputs": [
    {
     "name": "stdout",
     "output_type": "stream",
     "text": [
      "password is valid\n"
     ]
    }
   ],
   "source": [
    "def main():\n",
    "    password='Greek112@'\n",
    "    reg='^(?=.*[a-z])(?=.*[A-Z])(?=.*\\d)(?=.*[@$!%*#?&])[A-Za-z\\d@$!#%*?&]{6,20}$'\n",
    "    \n",
    "    # searching regex\n",
    "    mat=re.search(reg,password)\n",
    "    \n",
    "    # validating condition\n",
    "    if mat:\n",
    "        print('password is valid')\n",
    "    else:\n",
    "        print('password is invalid')\n",
    "        \n",
    "# Driver Code    (only print in main file)\n",
    "if __name__ == '__main__':\n",
    "    main()"
   ]
  },
  {
   "cell_type": "markdown",
   "id": "a7a6e281",
   "metadata": {},
   "source": [
    "# part 2"
   ]
  },
  {
   "cell_type": "markdown",
   "id": "5c04324d",
   "metadata": {},
   "source": [
    "# search() and match()"
   ]
  },
  {
   "cell_type": "code",
   "execution_count": 2,
   "id": "a1ce2c6f",
   "metadata": {},
   "outputs": [],
   "source": [
    "import re"
   ]
  },
  {
   "cell_type": "code",
   "execution_count": 6,
   "id": "1fae2a53",
   "metadata": {},
   "outputs": [
    {
     "name": "stdout",
     "output_type": "stream",
     "text": [
      "<re.Match object; span=(4, 8), match='1000'>\n"
     ]
    }
   ],
   "source": [
    "pattern=r'10*'\n",
    "print(re.search(pattern,'abcd1000abc1000'))  # search return the first match in a string"
   ]
  },
  {
   "cell_type": "code",
   "execution_count": 10,
   "id": "902950bb",
   "metadata": {},
   "outputs": [
    {
     "name": "stdout",
     "output_type": "stream",
     "text": [
      "<re.Match object; span=(0, 4), match='1000'>\n"
     ]
    }
   ],
   "source": [
    "pattern=r'10*'\n",
    "print(re.match(pattern,'1000abcd1000'))  # match only find match at the beginning"
   ]
  },
  {
   "cell_type": "code",
   "execution_count": 11,
   "id": "939bdb34",
   "metadata": {},
   "outputs": [
    {
     "name": "stdout",
     "output_type": "stream",
     "text": [
      "None\n"
     ]
    }
   ],
   "source": [
    "pattern=r'10*'\n",
    "print(re.match(pattern,'abcd1000'))"
   ]
  },
  {
   "cell_type": "code",
   "execution_count": 4,
   "id": "07e85da7",
   "metadata": {},
   "outputs": [
    {
     "name": "stdout",
     "output_type": "stream",
     "text": [
      "<re.Match object; span=(15, 23), match='tutorial'>\n"
     ]
    }
   ],
   "source": [
    "pattern=r'\\w{8}'\n",
    "print(re.search(pattern,'This is python tutorial'))"
   ]
  },
  {
   "cell_type": "code",
   "execution_count": 12,
   "id": "8fb54457",
   "metadata": {
    "scrolled": true
   },
   "outputs": [
    {
     "name": "stdout",
     "output_type": "stream",
     "text": [
      "None\n"
     ]
    }
   ],
   "source": [
    "pattern=r'\\w{8}'\n",
    "print(re.match(pattern,'This is python tutorial')) # there is no match at the beginning"
   ]
  },
  {
   "cell_type": "markdown",
   "id": "c00c807b",
   "metadata": {},
   "source": [
    "# search() and findall()"
   ]
  },
  {
   "cell_type": "code",
   "execution_count": 13,
   "id": "c1f9dd8e",
   "metadata": {},
   "outputs": [
    {
     "name": "stdout",
     "output_type": "stream",
     "text": [
      "<re.Match object; span=(15, 23), match='tutorial'>\n"
     ]
    }
   ],
   "source": [
    "pattern=r'\\w{8}'\n",
    "print(re.search(pattern,'This is python tutorial tutorial tutorial'))"
   ]
  },
  {
   "cell_type": "code",
   "execution_count": 17,
   "id": "f5dfbac9",
   "metadata": {
    "scrolled": true
   },
   "outputs": [
    {
     "name": "stdout",
     "output_type": "stream",
     "text": [
      "['tutorial', 'tutorial', 'tutorial']\n"
     ]
    }
   ],
   "source": [
    "pattern=r'\\w{8}'\n",
    "print(re.findall(pattern,'This is python tutorial tutorial tutorial'))  # will find all the matches"
   ]
  },
  {
   "cell_type": "code",
   "execution_count": 28,
   "id": "171d8b8a",
   "metadata": {},
   "outputs": [
    {
     "name": "stdout",
     "output_type": "stream",
     "text": [
      "['tutorial', 'tutorial', 'tutorial']\n"
     ]
    }
   ],
   "source": [
    "pattern=r'\\w{8}'\n",
    "print(re.findall(pattern,'This is python tutorial tutorial tutorials')) # tutorial's'  will not considered"
   ]
  },
  {
   "cell_type": "code",
   "execution_count": 39,
   "id": "0f68d8ca",
   "metadata": {},
   "outputs": [
    {
     "name": "stdout",
     "output_type": "stream",
     "text": [
      "['tutorial', 'tutorial']\n"
     ]
    }
   ],
   "source": [
    "pattern=r'\\b\\w{8}\\b'   # \\b is word boundery- will not consider if there is word number or underscore before or after the word\n",
    "print(re.findall(pattern,'This is python tutorial tutorial tutorials'))"
   ]
  },
  {
   "cell_type": "markdown",
   "id": "3b5f1e67",
   "metadata": {},
   "source": [
    "# sub()"
   ]
  },
  {
   "cell_type": "code",
   "execution_count": 3,
   "id": "0db56bab",
   "metadata": {},
   "outputs": [
    {
     "name": "stdout",
     "output_type": "stream",
     "text": [
      ";;d;y;u;;;d\n"
     ]
    }
   ],
   "source": [
    "pattern=r'[,.\\s]'   # \\s is 'space'\n",
    "print(re.sub(pattern,';',' ,d,y,u. .d'))   # it will substitute the items in the pattern with a semicollen(;)"
   ]
  },
  {
   "cell_type": "code",
   "execution_count": null,
   "id": "a40038bd",
   "metadata": {},
   "outputs": [],
   "source": []
  }
 ],
 "metadata": {
  "kernelspec": {
   "display_name": "Python 3 (ipykernel)",
   "language": "python",
   "name": "python3"
  },
  "language_info": {
   "codemirror_mode": {
    "name": "ipython",
    "version": 3
   },
   "file_extension": ".py",
   "mimetype": "text/x-python",
   "name": "python",
   "nbconvert_exporter": "python",
   "pygments_lexer": "ipython3",
   "version": "3.11.5"
  }
 },
 "nbformat": 4,
 "nbformat_minor": 5
}
