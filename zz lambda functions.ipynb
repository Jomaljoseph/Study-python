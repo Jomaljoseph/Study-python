{
 "cells": [
  {
   "cell_type": "markdown",
   "id": "c7ca5355",
   "metadata": {},
   "source": [
    "# LAMBDA FUNCTION"
   ]
  },
  {
   "cell_type": "markdown",
   "id": "e554fc79",
   "metadata": {},
   "source": [
    "lambda is an anonymous function,ie; it doesn't have any name.                           \n",
    "we can pass multiple arguments to the function,but it only allows single argument"
   ]
  },
  {
   "cell_type": "code",
   "execution_count": 1,
   "id": "5826c292",
   "metadata": {},
   "outputs": [
    {
     "name": "stdout",
     "output_type": "stream",
     "text": [
      "6\n"
     ]
    }
   ],
   "source": [
    "y=lambda x:x+1\n",
    "print(y(5))"
   ]
  },
  {
   "cell_type": "code",
   "execution_count": 4,
   "id": "139ab101",
   "metadata": {},
   "outputs": [
    {
     "name": "stdout",
     "output_type": "stream",
     "text": [
      "5\n"
     ]
    }
   ],
   "source": [
    "x=lambda a,b:a+b\n",
    "print(x(2,3))"
   ]
  },
  {
   "cell_type": "code",
   "execution_count": 5,
   "id": "6950c302",
   "metadata": {},
   "outputs": [
    {
     "name": "stdout",
     "output_type": "stream",
     "text": [
      "20\n"
     ]
    }
   ],
   "source": [
    "x=lambda a,b,c:a+b*c\n",
    "print(x(2,3,6))"
   ]
  },
  {
   "cell_type": "code",
   "execution_count": 7,
   "id": "e692d502",
   "metadata": {},
   "outputs": [
    {
     "name": "stdout",
     "output_type": "stream",
     "text": [
      "even\n"
     ]
    }
   ],
   "source": [
    "x=lambda a:'even' if a%2==0 else 'odd' # if function in one line\n",
    "print(x(2))"
   ]
  },
  {
   "cell_type": "code",
   "execution_count": 1,
   "id": "042538fe",
   "metadata": {},
   "outputs": [
    {
     "name": "stdout",
     "output_type": "stream",
     "text": [
      "125\n"
     ]
    }
   ],
   "source": [
    "x=lambda a:a**3\n",
    "print(x(5))"
   ]
  },
  {
   "cell_type": "code",
   "execution_count": 2,
   "id": "0c4a9b74",
   "metadata": {},
   "outputs": [
    {
     "name": "stdout",
     "output_type": "stream",
     "text": [
      "[0, 1, 4, 9, 16]\n"
     ]
    }
   ],
   "source": [
    "x=lambda n:[i**2 for i in range(n)]\n",
    "print(x(5))"
   ]
  },
  {
   "cell_type": "code",
   "execution_count": 3,
   "id": "7175d8e1",
   "metadata": {},
   "outputs": [
    {
     "name": "stdout",
     "output_type": "stream",
     "text": [
      "JOMAL\n"
     ]
    }
   ],
   "source": [
    "y=lambda x:x.upper()\n",
    "print(y('jomal'))"
   ]
  },
  {
   "cell_type": "code",
   "execution_count": 6,
   "id": "4a4679b3",
   "metadata": {},
   "outputs": [
    {
     "name": "stdout",
     "output_type": "stream",
     "text": [
      "[1, 2, 2, 3, 4, 8]\n"
     ]
    }
   ],
   "source": [
    "x=lambda n:sorted(n)\n",
    "print(x([1,4,8,3,2,2]))   # [] is for saving as a list"
   ]
  },
  {
   "cell_type": "code",
   "execution_count": 8,
   "id": "b851e4e3",
   "metadata": {},
   "outputs": [
    {
     "name": "stdout",
     "output_type": "stream",
     "text": [
      "[(3, 2), (1, 4), (2, 5)]\n"
     ]
    }
   ],
   "source": [
    "x=[(1,4),(2,5),(3,2)]\n",
    "x.sort(key=lambda x:x[1])  # key- to sort based on second value\n",
    "print(x)"
   ]
  },
  {
   "cell_type": "code",
   "execution_count": 10,
   "id": "5c71da33",
   "metadata": {},
   "outputs": [
    {
     "name": "stdout",
     "output_type": "stream",
     "text": [
      "[(1, 4), (2, 2), (3, 5)]\n"
     ]
    }
   ],
   "source": [
    "y=lambda x:sorted(x)\n",
    "print(y([(1,4),(3,5),(2,2)]))"
   ]
  },
  {
   "cell_type": "code",
   "execution_count": 11,
   "id": "06c9d263",
   "metadata": {},
   "outputs": [
    {
     "name": "stdout",
     "output_type": "stream",
     "text": [
      "[{'make': 'Nokia', 'model': 216, 'color': 'Black'}, {'make': 'samsung', 'model': 7, 'color': 'Blue'}, {'make': 'Mi Max', 'model': '2', 'color': 'Gold'}]\n"
     ]
    }
   ],
   "source": [
    "models=[{'make':'Nokia','model':216,'color':'Black'},\n",
    "        {'make':'Mi Max','model':'2','color':'Gold'},\n",
    "        {'make':'samsung','model':7,'color':'Blue'}]\n",
    "models.sort(key=lambda x:x['color'])\n",
    "print(models)"
   ]
  },
  {
   "cell_type": "markdown",
   "id": "9333bc35",
   "metadata": {},
   "source": [
    "# MAP()"
   ]
  },
  {
   "cell_type": "markdown",
   "id": "42bdcd6e",
   "metadata": {},
   "source": [
    "This function uses two arguments: map(function,iterable) iterable may include list,tuple,string etc.                   \n",
    "The FUNCTION may be userdefined or inbuilt function."
   ]
  },
  {
   "cell_type": "markdown",
   "id": "87650d48",
   "metadata": {},
   "source": [
    "It works as a loop"
   ]
  },
  {
   "cell_type": "code",
   "execution_count": 7,
   "id": "6321ee77",
   "metadata": {},
   "outputs": [
    {
     "name": "stdout",
     "output_type": "stream",
     "text": [
      "[1, 8, 27, 64]\n"
     ]
    }
   ],
   "source": [
    "def cube(n):\n",
    "    return n**3\n",
    "print(list(map(cube,[1,2,3,4]))) # it will find cube of each number"
   ]
  },
  {
   "cell_type": "code",
   "execution_count": 1,
   "id": "00c6c06f",
   "metadata": {},
   "outputs": [
    {
     "name": "stdout",
     "output_type": "stream",
     "text": [
      "[1, 8, 27, 64]\n"
     ]
    }
   ],
   "source": [
    "lst=[1,2,3,4]\n",
    "def cube(n):\n",
    "    return n**3\n",
    "print(list(map(cube,lst))) # it will find cube of each number"
   ]
  },
  {
   "cell_type": "code",
   "execution_count": 10,
   "id": "19fc68c8",
   "metadata": {},
   "outputs": [
    {
     "name": "stdout",
     "output_type": "stream",
     "text": [
      "[1, 4, 9, 16]\n"
     ]
    }
   ],
   "source": [
    "def square(n):\n",
    "    return n**2\n",
    "print(list(map(square,[1,2,3,4])))"
   ]
  },
  {
   "cell_type": "code",
   "execution_count": 12,
   "id": "5329bdcf",
   "metadata": {},
   "outputs": [
    {
     "name": "stdout",
     "output_type": "stream",
     "text": [
      "[1, 2, 3, 4, 8]\n"
     ]
    }
   ],
   "source": [
    "print(list(map(abs,[1,2,3,-4,-8]))) # abs is an inbuilt function"
   ]
  },
  {
   "cell_type": "code",
   "execution_count": 13,
   "id": "eaf3bc50",
   "metadata": {},
   "outputs": [
    {
     "name": "stdout",
     "output_type": "stream",
     "text": [
      "[5.0, 3.0, 6.0, 2.0]\n"
     ]
    }
   ],
   "source": [
    "from math import sqrt\n",
    "print(list(map(sqrt,[25,9,36,4])))"
   ]
  },
  {
   "cell_type": "code",
   "execution_count": 14,
   "id": "66793f79",
   "metadata": {},
   "outputs": [
    {
     "name": "stdout",
     "output_type": "stream",
     "text": [
      "[2, 3, 4, 5]\n"
     ]
    }
   ],
   "source": [
    "print(list(map(lambda x:x+1,[1,2,3,4])))"
   ]
  },
  {
   "cell_type": "code",
   "execution_count": 16,
   "id": "7afe0d30",
   "metadata": {},
   "outputs": [
    {
     "name": "stdout",
     "output_type": "stream",
     "text": [
      "['J', 'O', 'M', 'A', 'L']\n"
     ]
    }
   ],
   "source": [
    "print(list(map(lambda x:x.upper(),'Jomal')))"
   ]
  },
  {
   "cell_type": "markdown",
   "id": "9e3447ec",
   "metadata": {},
   "source": [
    "# filter()"
   ]
  },
  {
   "cell_type": "markdown",
   "id": "d3fd8658",
   "metadata": {},
   "source": [
    "using a criteria filter function applies filtering to an iterable."
   ]
  },
  {
   "cell_type": "markdown",
   "id": "c0f3e586",
   "metadata": {},
   "source": [
    "filter(function,iterable)                                                                          \n",
    "it will iterate through the iterable and filter out all the elements which is not satisfying the condition                    \n",
    "iterable- set of data   eg- list, tuple, dictionary"
   ]
  },
  {
   "cell_type": "code",
   "execution_count": 20,
   "id": "933d2ff3",
   "metadata": {},
   "outputs": [
    {
     "name": "stdout",
     "output_type": "stream",
     "text": [
      "[1, 2, 3]\n"
     ]
    }
   ],
   "source": [
    "def positive(n):\n",
    "    return True if n>0 else False\n",
    "print(list(filter(positive,[1,2,3,-1,-2])))"
   ]
  },
  {
   "cell_type": "code",
   "execution_count": 23,
   "id": "ad0d0d0c",
   "metadata": {},
   "outputs": [
    {
     "name": "stdout",
     "output_type": "stream",
     "text": [
      "[True, True, True, False, False]\n"
     ]
    }
   ],
   "source": [
    "def positive(n):\n",
    "    return True if n>0 else False\n",
    "print(list(map(positive,[1,2,3,-1,-2])))"
   ]
  },
  {
   "cell_type": "code",
   "execution_count": 27,
   "id": "8fc7510c",
   "metadata": {},
   "outputs": [
    {
     "name": "stdout",
     "output_type": "stream",
     "text": [
      "['J', 'M']\n"
     ]
    }
   ],
   "source": [
    "print(list(filter(lambda x:x.isupper(),'JoMal')))"
   ]
  },
  {
   "cell_type": "code",
   "execution_count": 28,
   "id": "ada63335",
   "metadata": {},
   "outputs": [
    {
     "name": "stdout",
     "output_type": "stream",
     "text": [
      "[True, False, True, False, False]\n"
     ]
    }
   ],
   "source": [
    "print(list(map(lambda x:x.isupper(),'JoMal')))"
   ]
  },
  {
   "cell_type": "code",
   "execution_count": 26,
   "id": "c87cc59c",
   "metadata": {},
   "outputs": [
    {
     "name": "stdout",
     "output_type": "stream",
     "text": [
      "['J', 'o', 'M', 'a', 'l']\n"
     ]
    }
   ],
   "source": [
    "print(list(filter(lambda x:x.isalpha(),'JoMal')))"
   ]
  },
  {
   "cell_type": "code",
   "execution_count": 37,
   "id": "587d6ee4",
   "metadata": {},
   "outputs": [
    {
     "name": "stdout",
     "output_type": "stream",
     "text": [
      "['o', 'a', 'l']\n"
     ]
    }
   ],
   "source": [
    "print(list(filter(lambda x:x.islower(),'JoMal')))"
   ]
  },
  {
   "cell_type": "markdown",
   "id": "e7619fca",
   "metadata": {},
   "source": [
    "# reduce()"
   ]
  },
  {
   "cell_type": "markdown",
   "id": "14b206ab",
   "metadata": {},
   "source": [
    "consider below example, it will do the work (x+y) and store the value in x,                                           \n",
    "again next item from the list will come to y and will do x+y"
   ]
  },
  {
   "cell_type": "code",
   "execution_count": 38,
   "id": "5f135add",
   "metadata": {},
   "outputs": [
    {
     "name": "stdout",
     "output_type": "stream",
     "text": [
      "10\n"
     ]
    }
   ],
   "source": [
    "from functools import reduce\n",
    "def sum_list(x,y):\n",
    "    return x+y\n",
    "print(reduce(sum_list,[1,2,3,4]))"
   ]
  },
  {
   "cell_type": "code",
   "execution_count": 39,
   "id": "bc7e4daf",
   "metadata": {},
   "outputs": [
    {
     "name": "stdout",
     "output_type": "stream",
     "text": [
      "24\n"
     ]
    }
   ],
   "source": [
    "def mult_list(x,y):\n",
    "    return x*y\n",
    "print(reduce(mult_list,[1,2,3,4]))"
   ]
  },
  {
   "cell_type": "code",
   "execution_count": 41,
   "id": "acf6402d",
   "metadata": {},
   "outputs": [
    {
     "name": "stdout",
     "output_type": "stream",
     "text": [
      "24\n"
     ]
    }
   ],
   "source": [
    "print(reduce(lambda x,y:x*y,[1,2,3,4]))  # same as above"
   ]
  },
  {
   "cell_type": "markdown",
   "id": "a3c87b90",
   "metadata": {},
   "source": [
    "## lambda function example"
   ]
  },
  {
   "cell_type": "code",
   "execution_count": 42,
   "id": "090ec4a8",
   "metadata": {},
   "outputs": [
    {
     "name": "stdout",
     "output_type": "stream",
     "text": [
      "5\n",
      "-1\n"
     ]
    }
   ],
   "source": [
    "def sum_2(a,b):\n",
    "    print(a+b)\n",
    "    print(a-b)\n",
    "sum_2(2,3)"
   ]
  },
  {
   "cell_type": "code",
   "execution_count": 43,
   "id": "6fd74466",
   "metadata": {},
   "outputs": [
    {
     "name": "stdout",
     "output_type": "stream",
     "text": [
      "5\n"
     ]
    }
   ],
   "source": [
    "x=lambda a,b:a+b\n",
    "print(x(2,3))"
   ]
  },
  {
   "cell_type": "code",
   "execution_count": 44,
   "id": "784d020f",
   "metadata": {},
   "outputs": [
    {
     "name": "stdout",
     "output_type": "stream",
     "text": [
      "6\n"
     ]
    }
   ],
   "source": [
    "x=lambda a:a+1\n",
    "print(x(5))"
   ]
  },
  {
   "cell_type": "code",
   "execution_count": 46,
   "id": "554a33ae",
   "metadata": {},
   "outputs": [
    {
     "data": {
      "text/plain": [
       "'JOMAL'"
      ]
     },
     "execution_count": 46,
     "metadata": {},
     "output_type": "execute_result"
    }
   ],
   "source": [
    "y=lambda x:x.upper()\n",
    "y('jomal')"
   ]
  },
  {
   "cell_type": "code",
   "execution_count": 47,
   "id": "e8472b4e",
   "metadata": {},
   "outputs": [
    {
     "data": {
      "text/plain": [
       "8"
      ]
     },
     "execution_count": 47,
     "metadata": {},
     "output_type": "execute_result"
    }
   ],
   "source": [
    "y=lambda a,b:a**b\n",
    "y(2,3)"
   ]
  },
  {
   "cell_type": "code",
   "execution_count": 48,
   "id": "e3bb6bc5",
   "metadata": {},
   "outputs": [
    {
     "name": "stdout",
     "output_type": "stream",
     "text": [
      "14\n"
     ]
    }
   ],
   "source": [
    "x=lambda a,b,c:a+b*c\n",
    "print(x(2,3,4))"
   ]
  },
  {
   "cell_type": "code",
   "execution_count": 50,
   "id": "5b319de5",
   "metadata": {},
   "outputs": [
    {
     "data": {
      "text/plain": [
       "27"
      ]
     },
     "execution_count": 50,
     "metadata": {},
     "output_type": "execute_result"
    }
   ],
   "source": [
    "def cube(x):\n",
    "    return x**3\n",
    "cube(3)"
   ]
  },
  {
   "cell_type": "code",
   "execution_count": 51,
   "id": "1637fc76",
   "metadata": {},
   "outputs": [
    {
     "data": {
      "text/plain": [
       "[1, 8, 27, 64]"
      ]
     },
     "execution_count": 51,
     "metadata": {},
     "output_type": "execute_result"
    }
   ],
   "source": [
    "list(map(cube,[1,2,3,4]))"
   ]
  },
  {
   "cell_type": "markdown",
   "id": "53504302",
   "metadata": {},
   "source": [
    "# Exercise"
   ]
  },
  {
   "cell_type": "markdown",
   "id": "7441f232",
   "metadata": {},
   "source": [
    "1.\tWrite a Python program to square and cube every number in a given list of integers using Lambda."
   ]
  },
  {
   "cell_type": "code",
   "execution_count": 10,
   "id": "ce9febcd",
   "metadata": {},
   "outputs": [
    {
     "name": "stdout",
     "output_type": "stream",
     "text": [
      "sqrt of 2 :  4\n",
      "cube of 2 :  8\n",
      "sqrt of 5 :  25\n",
      "cube of 5 :  125\n",
      "sqrt of 8 :  64\n",
      "cube of 8 :  512\n",
      "sqrt of 10 :  100\n",
      "cube of 10 :  1000\n"
     ]
    },
    {
     "data": {
      "text/plain": [
       "[None, None, None, None]"
      ]
     },
     "execution_count": 10,
     "metadata": {},
     "output_type": "execute_result"
    }
   ],
   "source": [
    "l1=[2,5,8,10]\n",
    "def sq_cub(a):\n",
    "    sq=a**2\n",
    "    cu=a**3\n",
    "    print('sqrt of',a,': ',sq)\n",
    "    print('cube of',a,': ',cu)\n",
    "\n",
    "list(map(sq_cub,l1))"
   ]
  },
  {
   "cell_type": "markdown",
   "id": "df20efac",
   "metadata": {},
   "source": [
    "2.\tWrite a Python program to find the intersection of two given arrays using Lambda.                                        Original arrays: [1, 2, 3, 5, 7, 8, 9, 10]                                                                          \n",
    "                        [1, 2, 4, 8, 9]                                                                                     \n",
    "Intersection of the said arrays: [1, 2, 8, 9]                                                                "
   ]
  },
  {
   "cell_type": "code",
   "execution_count": 12,
   "id": "def848f3",
   "metadata": {},
   "outputs": [
    {
     "name": "stdout",
     "output_type": "stream",
     "text": [
      "Intersection of the said arrays: [1, 2, 8, 9]\n"
     ]
    }
   ],
   "source": [
    "array1 = [1, 2, 3, 5, 7, 8, 9, 10]\n",
    "array2 = [1, 2, 4, 8, 9]\n",
    "\n",
    "intersection = list(filter(lambda x: x in array1, array2))\n",
    "\n",
    "print(\"Intersection of the said arrays:\", intersection)"
   ]
  },
  {
   "cell_type": "markdown",
   "id": "d126fedf",
   "metadata": {},
   "source": [
    "3.\tWrite a Python program to count the even and odd numbers in a given array of integers using Lambda.                 \n",
    "Original arrays:                                                             \n",
    "[1, 2, 3, 5, 7, 8, 9, 10]                                                                              \n",
    "Number of even numbers in the above array: 3                                                             \n",
    "Number of odd numbers in the above array: 5\n"
   ]
  },
  {
   "cell_type": "code",
   "execution_count": null,
   "id": "80bbb4ff",
   "metadata": {},
   "outputs": [],
   "source": []
  }
 ],
 "metadata": {
  "kernelspec": {
   "display_name": "Python 3 (ipykernel)",
   "language": "python",
   "name": "python3"
  },
  "language_info": {
   "codemirror_mode": {
    "name": "ipython",
    "version": 3
   },
   "file_extension": ".py",
   "mimetype": "text/x-python",
   "name": "python",
   "nbconvert_exporter": "python",
   "pygments_lexer": "ipython3",
   "version": "3.11.5"
  }
 },
 "nbformat": 4,
 "nbformat_minor": 5
}
