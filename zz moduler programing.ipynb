{
 "cells": [
  {
   "cell_type": "code",
   "execution_count": 1,
   "id": "5a64856c",
   "metadata": {},
   "outputs": [
    {
     "name": "stdout",
     "output_type": "stream",
     "text": [
      "\n",
      "Please wait a moment while I gather a list of all available modules...\n",
      "\n"
     ]
    },
    {
     "name": "stderr",
     "output_type": "stream",
     "text": [
      "WARNING: AstropyDeprecationWarning: The private astropy._erfa module has been made into its own package, pyerfa, which is a dependency of astropy and can be imported directly using \"import erfa\" [astropy._erfa]\n",
      "C:\\Users\\Eldho\\anaconda3\\Lib\\site-packages\\paramiko\\transport.py:219: CryptographyDeprecationWarning: Blowfish has been deprecated\n",
      "  \"class\": algorithms.Blowfish,\n",
      "C:\\Users\\Eldho\\anaconda3\\Lib\\site-packages\\nltk\\twitter\\__init__.py:20: UserWarning: The twython library has not been installed. Some functionality from the twitter package will not be available.\n",
      "  warnings.warn(\n",
      "C:\\Users\\Eldho\\anaconda3\\Lib\\pkgutil.py:92: NumbaPendingDeprecationWarning: \u001b[1mThe 'pycc' module is pending deprecation. Replacement technology is being developed.\n",
      "\n",
      "Pending Deprecation in Numba 0.57.0. For more information please see: https://numba.readthedocs.io/en/stable/reference/deprecation.html#deprecation-of-the-numba-pycc-module\u001b[0m\n",
      "  __import__(info.name)\n",
      "C:\\Users\\Eldho\\anaconda3\\Lib\\pkgutil.py:92: UserWarning: The numpy.array_api submodule is still experimental. See NEP 47.\n",
      "  __import__(info.name)\n",
      "C:\\Users\\Eldho\\anaconda3\\Lib\\site-packages\\_distutils_hack\\__init__.py:33: UserWarning: Setuptools is replacing distutils.\n",
      "  warnings.warn(\"Setuptools is replacing distutils.\")\n",
      "No QCoreApplication instance found. Application patches not applied. You have to call load_stylesheet function after instantiation of QApplication to take effect. \n",
      "None of PyTorch, TensorFlow >= 2.0, or Flax have been found. Models won't be available and only tokenizers, configuration and file/data utilities can be used.\n",
      "C:\\Users\\Eldho\\anaconda3\\Lib\\pkgutil.py:107: VisibleDeprecationWarning:\n",
      "\n",
      "zmq.eventloop.minitornado is deprecated in pyzmq 14.0 and will be removed.\n",
      "    Install tornado itself to use zmq with the tornado IOLoop.\n",
      "    \n",
      "\n"
     ]
    },
    {
     "name": "stdout",
     "output_type": "stream",
     "text": [
      "IPython             concurrent          mdurl               smtplib\n",
      "OpenSSL             conda               menuinst            snappy\n",
      "PIL                 conda_build         mimetypes           sndhdr\n",
      "PyQt5               conda_content_trust mistune             sniffio\n",
      "TBB                 conda_env           mkl                 snowballstemmer\n",
      "__future__          conda_index         mkl_fft             socket\n",
      "__hello__           conda_libmamba_solver mmap                socketserver\n",
      "__phello__          conda_pack          mmapfile            socks\n",
      "_abc                conda_package_handling mmsystem            sockshandler\n",
      "_aix_support        conda_package_streaming modulefinder        sortedcontainers\n",
      "_argon2_cffi_bindings conda_token         more_itertools      soupsieve\n",
      "_ast                conda_verify        mpmath              sphinx\n",
      "_asyncio            configparser        msgpack             spyder\n",
      "_bisect             constantly          msilib              spyder_kernels\n",
      "_black_version      contextlib          msvcrt              sqlalchemy\n",
      "_blake2             contextvars         multidict           sqlite3\n",
      "_bootsubprocess     contourpy           multipledispatch    sre_compile\n",
      "_bz2                cookiecutter        multiprocess        sre_constants\n",
      "_cffi_backend       copy                multiprocessing     sre_parse\n",
      "_codecs             copyreg             munkres             ssl\n",
      "_codecs_cn          cpuinfo             mypy_extensions     sspi\n",
      "_codecs_hk          crypt               nacl                sspicon\n",
      "_codecs_iso2022     cryptography        navigator_updater   stack_data\n",
      "_codecs_jp          cssselect           nbclassic           stat\n",
      "_codecs_kr          csv                 nbclient            statistics\n",
      "_codecs_tw          ctypes              nbconvert           statsmodels\n",
      "_collections        curl                nbformat            string\n",
      "_collections_abc    curses              nest_asyncio        stringprep\n",
      "_compat_pickle      cwp                 netbios             struct\n",
      "_compression        cycler              netrc               subprocess\n",
      "_contextvars        cytoolz             networkx            sunau\n",
      "_csv                daal4py             nltk                sympy\n",
      "_ctypes             dask                nntplib             symtable\n",
      "_ctypes_test        dataclasses         notebook            sys\n",
      "_datetime           datasets            notebook_shim       sysconfig\n",
      "_decimal            datashader          nt                  tables\n",
      "_distutils_hack     datashape           ntpath              tabnanny\n",
      "_elementtree        datetime            ntsecuritycon       tabulate\n",
      "_functools          dateutil            nturl2path          tarfile\n",
      "_hashlib            dbi                 numba               tbb\n",
      "_heapq              dbm                 numbergen           tblib\n",
      "_imp                dde                 numbers             telnetlib\n",
      "_io                 debugpy             numexpr             tempfile\n",
      "_json               decimal             numpy               tenacity\n",
      "_locale             decorator           numpydoc            terminado\n",
      "_lsprof             defusedxml          odbc                test\n",
      "_lzma               diff_match_patch    onedal              test_pycosat\n",
      "_markupbase         difflib             opcode              text_unidecode\n",
      "_md5                dill                openpyxl            textdistance\n",
      "_msi                dis                 operator            textwrap\n",
      "_multibytecodec     distributed         optparse            this\n",
      "_multiprocess       distutils           os                  threading\n",
      "_multiprocessing    docstring_to_markdown packaging           threadpoolctl\n",
      "_nsis               doctest             pandas              three_merge\n",
      "_opcode             docutils            pandocfilters       tifffile\n",
      "_operator           dotenv              panel               time\n",
      "_osx_support        email               param               timeit\n",
      "_overlapped         encodings           paramiko            timer\n",
      "_pickle             ensurepip           parsel              tinycss2\n",
      "_plotly_future_     entrypoints         parso               tkinter\n",
      "_plotly_utils       enum                partd               tldextract\n",
      "_py_abc             erfa                past                tlz\n",
      "_pydecimal          errno               pathlib             token\n",
      "_pyio               et_xmlfile          pathspec            tokenize\n",
      "_pyrsistent_version executing           patsy               tokenizers\n",
      "_pytest             fastjsonschema      pdb                 toml\n",
      "_queue              faulthandler        pep8                tomlkit\n",
      "_random             filecmp             perfmon             tomllib\n",
      "_sha1               fileinput           pexpect             toolz\n",
      "_sha256             filelock            pickle              tornado\n",
      "_sha3               flake8              pickleshare         tqdm\n",
      "_sha512             flask               pickletools         trace\n",
      "_signal             fnmatch             pip                 traceback\n",
      "_sitebuiltins       fontTools           pipes               tracemalloc\n",
      "_socket             fractions           pkce                traitlets\n",
      "_sqlite3            frozenlist          pkg_resources       transformers\n",
      "_sre                fsspec              pkginfo             tty\n",
      "_ssl                ftplib              pkgutil             turtle\n",
      "_stat               functools           platform            turtledemo\n",
      "_statistics         future              platformdirs        twisted\n",
      "_string             gc                  plistlib            types\n",
      "_strptime           genericpath         plotly              typing\n",
      "_struct             gensim              pluggy              typing_extensions\n",
      "_symtable           getopt              ply                 tzdata\n",
      "_system_path        getpass             poplib              uc_micro\n",
      "_testbuffer         gettext             posixpath           ujson\n",
      "_testcapi           glob                poyo                unicodedata\n",
      "_testconsole        glob2               pprint              unidecode\n",
      "_testimportmultiple graphlib            profile             unittest\n",
      "_testinternalcapi   greenlet            prometheus_client   urllib\n",
      "_testmultiphase     gzip                prompt_toolkit      urllib3\n",
      "_thread             h5py                protego             uu\n",
      "_threading_local    hashlib             pstats              uuid\n",
      "_tkinter            heapdict            psutil              venv\n",
      "_tokenize           heapq               pty                 w3lib\n",
      "_tracemalloc        hmac                ptyprocess          warnings\n",
      "_typing             holoviews           pure_eval           watchdog\n",
      "_uuid               html                pvectorc            wave\n",
      "_warnings           http                py                  wcwidth\n",
      "_weakref            huggingface_hub     py_compile          weakref\n",
      "_weakrefset         hvplot              pyarrow             webbrowser\n",
      "_win32sysloader     hyperlink           pyasn1              webencodings\n",
      "_winapi             idlelib             pyasn1_modules      websocket\n",
      "_winxptheme         idna                pyclbr              werkzeug\n",
      "_xxsubinterpreters  imagecodecs         pycodestyle         whatthepatch\n",
      "_yaml               imageio             pycosat             wheel\n",
      "_zoneinfo           imagesize           pycparser           widgetsnbextension\n",
      "abc                 imaplib             pyct                win2kras\n",
      "adodbapi            imblearn            pycurl              win32api\n",
      "afxres              imghdr              pydantic            win32clipboard\n",
      "aifc                imp                 pydispatch          win32com\n",
      "aiobotocore         importlib           pydoc               win32con\n",
      "aiofiles            importlib_metadata  pydoc_data          win32console\n",
      "aiohttp             incremental         pydocstyle          win32cred\n",
      "aioitertools        inflection          pyexpat             win32crypt\n",
      "aiosignal           iniconfig           pyflakes            win32cryptcon\n",
      "aiosqlite           inspect             pygments            win32ctypes\n",
      "alabaster           intake              pylab               win32event\n",
      "anaconda_anon_usage intervaltree        pylint              win32evtlog\n",
      "anaconda_catalogs   io                  pylint_venv         win32evtlogutil\n",
      "anaconda_cloud_auth ipaddress           pyls_spyder         win32file\n",
      "anaconda_navigator  ipykernel           pylsp               win32gui\n",
      "anaconda_project    ipykernel_launcher  pylsp_black         win32gui_struct\n",
      "antigravity         ipython_genutils    pylsp_jsonrpc       win32help\n",
      "anyio               ipywidgets          pyodbc              win32inet\n",
      "appdirs             isapi               pyparsing           win32inetcon\n",
      "argon2              isort               pyrsistent          win32job\n",
      "argparse            isympy              pytest              win32lz\n",
      "array               itemadapter         pythoncom           win32net\n",
      "arrow               itemloaders         pythonjsonlogger    win32netcon\n",
      "ast                 itertools           pytoolconfig        win32pdh\n",
      "astroid             itsdangerous        pytz                win32pdhquery\n",
      "astropy             jedi                pyviz_comms         win32pdhutil\n",
      "asttokens           jellyfish           pywin               win32pipe\n",
      "async_timeout       jinja2              pywin32_bootstrap   win32print\n",
      "asynchat            jinja2_time         pywin32_testutil    win32process\n",
      "asyncio             jmespath            pywintypes          win32profile\n",
      "asyncore            joblib              pywt                win32ras\n",
      "atexit              json                qdarkstyle          win32rcparser\n",
      "atomicwrites        json5               qstylizer           win32security\n",
      "attr                jsonpatch           qtawesome           win32service\n",
      "attrs               jsonpointer         qtconsole           win32serviceutil\n",
      "audioop             jsonschema          qtpy                win32timezone\n",
      "automat             jupyter             queue               win32trace\n",
      "autopep8            jupyter_client      queuelib            win32traceutil\n",
      "babel               jupyter_console     quopri              win32transaction\n",
      "backcall            jupyter_core        random              win32ts\n",
      "backports           jupyter_events      rasutil             win32ui\n",
      "base64              jupyter_server      re                  win32uiole\n",
      "bcrypt              jupyter_server_fileid regcheck            win32verstamp\n",
      "bdb                 jupyter_server_ydoc regex               win32wnet\n",
      "binaryornot         jupyter_ydoc        regutil             win_inet_pton\n",
      "binascii            jupyterlab          repo_cli            winerror\n",
      "binstar_client      jupyterlab_plotly   reprlib             winioctlcon\n",
      "bisect              jupyterlab_pygments requests            winnt\n",
      "black               jupyterlab_server   requests_file       winperf\n",
      "blackd              jupyterlab_widgets  requests_toolbelt   winpty\n",
      "bleach              jwt                 responses           winreg\n",
      "blib2to3            kaleido             rfc3339_validator   winsound\n",
      "bokeh               keyring             rfc3986_validator   winxpgui\n",
      "boltons             keyword             rlcompleter         winxptheme\n",
      "botocore            kiwisolver          rope                wrapt\n",
      "bottleneck          lazy_loader         rtree               wsgiref\n",
      "brotli              lazy_object_proxy   ruamel_yaml         xarray\n",
      "bs4                 lib2to3             runpy               xdrlib\n",
      "builtins            libarchive          s3fs                xlwings\n",
      "bz2                 libfuturize         safetensors         xml\n",
      "cProfile            libmambapy          sched               xmlrpc\n",
      "calendar            libpasteurize       scipy               xxhash\n",
      "certifi             lief                scrapy              xxlimited\n",
      "cffi                linecache           seaborn             xxlimited_35\n",
      "cgi                 linkify_it          secrets             xxsubtype\n",
      "cgitb               llvmlite            select              xyzservices\n",
      "chardet             lmdb                selectors           y_py\n",
      "charset_normalizer  locale              send2trash          yaml\n",
      "chunk               locket              service_identity    yapf\n",
      "click               logging             servicemanager      yapftests\n",
      "cloudpickle         lxml                setuptools          yarl\n",
      "clyent              lz4                 shelve              yellowbrick\n",
      "cmath               lzma                shlex               ypy_websocket\n",
      "cmd                 mailbox             shutil              zict\n",
      "code                mailcap             signal              zipapp\n",
      "codecs              markdown            sipbuild            zipfile\n",
      "codeop              markdown_it         site                zipimport\n",
      "collections         markupsafe          six                 zipp\n",
      "colorama            marshal             skimage             zlib\n",
      "colorcet            math                sklearn             zmq\n",
      "colorsys            matplotlib          sklearnex           zoneinfo\n",
      "comm                matplotlib_inline   slugify             zope\n",
      "commctrl            mccabe              smart_open          zstandard\n",
      "compileall          mdit_py_plugins     smtpd               \n",
      "\n",
      "Enter any module name to get more help.  Or, type \"modules spam\" to search\n",
      "for modules whose name or summary contain the string \"spam\".\n",
      "\n"
     ]
    }
   ],
   "source": [
    "help('modules')"
   ]
  },
  {
   "cell_type": "code",
   "execution_count": 2,
   "id": "76e7274a",
   "metadata": {},
   "outputs": [],
   "source": [
    "import math"
   ]
  },
  {
   "cell_type": "code",
   "execution_count": 3,
   "id": "0a144263",
   "metadata": {},
   "outputs": [
    {
     "name": "stdout",
     "output_type": "stream",
     "text": [
      "Help on built-in module math:\n",
      "\n",
      "NAME\n",
      "    math\n",
      "\n",
      "DESCRIPTION\n",
      "    This module provides access to the mathematical functions\n",
      "    defined by the C standard.\n",
      "\n",
      "FUNCTIONS\n",
      "    acos(x, /)\n",
      "        Return the arc cosine (measured in radians) of x.\n",
      "        \n",
      "        The result is between 0 and pi.\n",
      "    \n",
      "    acosh(x, /)\n",
      "        Return the inverse hyperbolic cosine of x.\n",
      "    \n",
      "    asin(x, /)\n",
      "        Return the arc sine (measured in radians) of x.\n",
      "        \n",
      "        The result is between -pi/2 and pi/2.\n",
      "    \n",
      "    asinh(x, /)\n",
      "        Return the inverse hyperbolic sine of x.\n",
      "    \n",
      "    atan(x, /)\n",
      "        Return the arc tangent (measured in radians) of x.\n",
      "        \n",
      "        The result is between -pi/2 and pi/2.\n",
      "    \n",
      "    atan2(y, x, /)\n",
      "        Return the arc tangent (measured in radians) of y/x.\n",
      "        \n",
      "        Unlike atan(y/x), the signs of both x and y are considered.\n",
      "    \n",
      "    atanh(x, /)\n",
      "        Return the inverse hyperbolic tangent of x.\n",
      "    \n",
      "    cbrt(x, /)\n",
      "        Return the cube root of x.\n",
      "    \n",
      "    ceil(x, /)\n",
      "        Return the ceiling of x as an Integral.\n",
      "        \n",
      "        This is the smallest integer >= x.\n",
      "    \n",
      "    comb(n, k, /)\n",
      "        Number of ways to choose k items from n items without repetition and without order.\n",
      "        \n",
      "        Evaluates to n! / (k! * (n - k)!) when k <= n and evaluates\n",
      "        to zero when k > n.\n",
      "        \n",
      "        Also called the binomial coefficient because it is equivalent\n",
      "        to the coefficient of k-th term in polynomial expansion of the\n",
      "        expression (1 + x)**n.\n",
      "        \n",
      "        Raises TypeError if either of the arguments are not integers.\n",
      "        Raises ValueError if either of the arguments are negative.\n",
      "    \n",
      "    copysign(x, y, /)\n",
      "        Return a float with the magnitude (absolute value) of x but the sign of y.\n",
      "        \n",
      "        On platforms that support signed zeros, copysign(1.0, -0.0)\n",
      "        returns -1.0.\n",
      "    \n",
      "    cos(x, /)\n",
      "        Return the cosine of x (measured in radians).\n",
      "    \n",
      "    cosh(x, /)\n",
      "        Return the hyperbolic cosine of x.\n",
      "    \n",
      "    degrees(x, /)\n",
      "        Convert angle x from radians to degrees.\n",
      "    \n",
      "    dist(p, q, /)\n",
      "        Return the Euclidean distance between two points p and q.\n",
      "        \n",
      "        The points should be specified as sequences (or iterables) of\n",
      "        coordinates.  Both inputs must have the same dimension.\n",
      "        \n",
      "        Roughly equivalent to:\n",
      "            sqrt(sum((px - qx) ** 2.0 for px, qx in zip(p, q)))\n",
      "    \n",
      "    erf(x, /)\n",
      "        Error function at x.\n",
      "    \n",
      "    erfc(x, /)\n",
      "        Complementary error function at x.\n",
      "    \n",
      "    exp(x, /)\n",
      "        Return e raised to the power of x.\n",
      "    \n",
      "    exp2(x, /)\n",
      "        Return 2 raised to the power of x.\n",
      "    \n",
      "    expm1(x, /)\n",
      "        Return exp(x)-1.\n",
      "        \n",
      "        This function avoids the loss of precision involved in the direct evaluation of exp(x)-1 for small x.\n",
      "    \n",
      "    fabs(x, /)\n",
      "        Return the absolute value of the float x.\n",
      "    \n",
      "    factorial(n, /)\n",
      "        Find n!.\n",
      "        \n",
      "        Raise a ValueError if x is negative or non-integral.\n",
      "    \n",
      "    floor(x, /)\n",
      "        Return the floor of x as an Integral.\n",
      "        \n",
      "        This is the largest integer <= x.\n",
      "    \n",
      "    fmod(x, y, /)\n",
      "        Return fmod(x, y), according to platform C.\n",
      "        \n",
      "        x % y may differ.\n",
      "    \n",
      "    frexp(x, /)\n",
      "        Return the mantissa and exponent of x, as pair (m, e).\n",
      "        \n",
      "        m is a float and e is an int, such that x = m * 2.**e.\n",
      "        If x is 0, m and e are both 0.  Else 0.5 <= abs(m) < 1.0.\n",
      "    \n",
      "    fsum(seq, /)\n",
      "        Return an accurate floating point sum of values in the iterable seq.\n",
      "        \n",
      "        Assumes IEEE-754 floating point arithmetic.\n",
      "    \n",
      "    gamma(x, /)\n",
      "        Gamma function at x.\n",
      "    \n",
      "    gcd(*integers)\n",
      "        Greatest Common Divisor.\n",
      "    \n",
      "    hypot(...)\n",
      "        hypot(*coordinates) -> value\n",
      "        \n",
      "        Multidimensional Euclidean distance from the origin to a point.\n",
      "        \n",
      "        Roughly equivalent to:\n",
      "            sqrt(sum(x**2 for x in coordinates))\n",
      "        \n",
      "        For a two dimensional point (x, y), gives the hypotenuse\n",
      "        using the Pythagorean theorem:  sqrt(x*x + y*y).\n",
      "        \n",
      "        For example, the hypotenuse of a 3/4/5 right triangle is:\n",
      "        \n",
      "            >>> hypot(3.0, 4.0)\n",
      "            5.0\n",
      "    \n",
      "    isclose(a, b, *, rel_tol=1e-09, abs_tol=0.0)\n",
      "        Determine whether two floating point numbers are close in value.\n",
      "        \n",
      "          rel_tol\n",
      "            maximum difference for being considered \"close\", relative to the\n",
      "            magnitude of the input values\n",
      "          abs_tol\n",
      "            maximum difference for being considered \"close\", regardless of the\n",
      "            magnitude of the input values\n",
      "        \n",
      "        Return True if a is close in value to b, and False otherwise.\n",
      "        \n",
      "        For the values to be considered close, the difference between them\n",
      "        must be smaller than at least one of the tolerances.\n",
      "        \n",
      "        -inf, inf and NaN behave similarly to the IEEE 754 Standard.  That\n",
      "        is, NaN is not close to anything, even itself.  inf and -inf are\n",
      "        only close to themselves.\n",
      "    \n",
      "    isfinite(x, /)\n",
      "        Return True if x is neither an infinity nor a NaN, and False otherwise.\n",
      "    \n",
      "    isinf(x, /)\n",
      "        Return True if x is a positive or negative infinity, and False otherwise.\n",
      "    \n",
      "    isnan(x, /)\n",
      "        Return True if x is a NaN (not a number), and False otherwise.\n",
      "    \n",
      "    isqrt(n, /)\n",
      "        Return the integer part of the square root of the input.\n",
      "    \n",
      "    lcm(*integers)\n",
      "        Least Common Multiple.\n",
      "    \n",
      "    ldexp(x, i, /)\n",
      "        Return x * (2**i).\n",
      "        \n",
      "        This is essentially the inverse of frexp().\n",
      "    \n",
      "    lgamma(x, /)\n",
      "        Natural logarithm of absolute value of Gamma function at x.\n",
      "    \n",
      "    log(...)\n",
      "        log(x, [base=math.e])\n",
      "        Return the logarithm of x to the given base.\n",
      "        \n",
      "        If the base not specified, returns the natural logarithm (base e) of x.\n",
      "    \n",
      "    log10(x, /)\n",
      "        Return the base 10 logarithm of x.\n",
      "    \n",
      "    log1p(x, /)\n",
      "        Return the natural logarithm of 1+x (base e).\n",
      "        \n",
      "        The result is computed in a way which is accurate for x near zero.\n",
      "    \n",
      "    log2(x, /)\n",
      "        Return the base 2 logarithm of x.\n",
      "    \n",
      "    modf(x, /)\n",
      "        Return the fractional and integer parts of x.\n",
      "        \n",
      "        Both results carry the sign of x and are floats.\n",
      "    \n",
      "    nextafter(x, y, /)\n",
      "        Return the next floating-point value after x towards y.\n",
      "    \n",
      "    perm(n, k=None, /)\n",
      "        Number of ways to choose k items from n items without repetition and with order.\n",
      "        \n",
      "        Evaluates to n! / (n - k)! when k <= n and evaluates\n",
      "        to zero when k > n.\n",
      "        \n",
      "        If k is not specified or is None, then k defaults to n\n",
      "        and the function returns n!.\n",
      "        \n",
      "        Raises TypeError if either of the arguments are not integers.\n",
      "        Raises ValueError if either of the arguments are negative.\n",
      "    \n",
      "    pow(x, y, /)\n",
      "        Return x**y (x to the power of y).\n",
      "    \n",
      "    prod(iterable, /, *, start=1)\n",
      "        Calculate the product of all the elements in the input iterable.\n",
      "        \n",
      "        The default start value for the product is 1.\n",
      "        \n",
      "        When the iterable is empty, return the start value.  This function is\n",
      "        intended specifically for use with numeric values and may reject\n",
      "        non-numeric types.\n",
      "    \n",
      "    radians(x, /)\n",
      "        Convert angle x from degrees to radians.\n",
      "    \n",
      "    remainder(x, y, /)\n",
      "        Difference between x and the closest integer multiple of y.\n",
      "        \n",
      "        Return x - n*y where n*y is the closest integer multiple of y.\n",
      "        In the case where x is exactly halfway between two multiples of\n",
      "        y, the nearest even value of n is used. The result is always exact.\n",
      "    \n",
      "    sin(x, /)\n",
      "        Return the sine of x (measured in radians).\n",
      "    \n",
      "    sinh(x, /)\n",
      "        Return the hyperbolic sine of x.\n",
      "    \n",
      "    sqrt(x, /)\n",
      "        Return the square root of x.\n",
      "    \n",
      "    tan(x, /)\n",
      "        Return the tangent of x (measured in radians).\n",
      "    \n",
      "    tanh(x, /)\n",
      "        Return the hyperbolic tangent of x.\n",
      "    \n",
      "    trunc(x, /)\n",
      "        Truncates the Real x to the nearest Integral toward 0.\n",
      "        \n",
      "        Uses the __trunc__ magic method.\n",
      "    \n",
      "    ulp(x, /)\n",
      "        Return the value of the least significant bit of the float x.\n",
      "\n",
      "DATA\n",
      "    e = 2.718281828459045\n",
      "    inf = inf\n",
      "    nan = nan\n",
      "    pi = 3.141592653589793\n",
      "    tau = 6.283185307179586\n",
      "\n",
      "FILE\n",
      "    (built-in)\n",
      "\n",
      "\n"
     ]
    }
   ],
   "source": [
    "help(math)"
   ]
  },
  {
   "cell_type": "code",
   "execution_count": 4,
   "id": "7a34c614",
   "metadata": {},
   "outputs": [
    {
     "name": "stdout",
     "output_type": "stream",
     "text": [
      "Help on built-in function sqrt in module math:\n",
      "\n",
      "sqrt(x, /)\n",
      "    Return the square root of x.\n",
      "\n"
     ]
    }
   ],
   "source": [
    "help(math.sqrt)"
   ]
  },
  {
   "cell_type": "code",
   "execution_count": 5,
   "id": "c32d08cb",
   "metadata": {},
   "outputs": [
    {
     "data": {
      "text/plain": [
       "['__doc__',\n",
       " '__loader__',\n",
       " '__name__',\n",
       " '__package__',\n",
       " '__spec__',\n",
       " 'acos',\n",
       " 'acosh',\n",
       " 'asin',\n",
       " 'asinh',\n",
       " 'atan',\n",
       " 'atan2',\n",
       " 'atanh',\n",
       " 'cbrt',\n",
       " 'ceil',\n",
       " 'comb',\n",
       " 'copysign',\n",
       " 'cos',\n",
       " 'cosh',\n",
       " 'degrees',\n",
       " 'dist',\n",
       " 'e',\n",
       " 'erf',\n",
       " 'erfc',\n",
       " 'exp',\n",
       " 'exp2',\n",
       " 'expm1',\n",
       " 'fabs',\n",
       " 'factorial',\n",
       " 'floor',\n",
       " 'fmod',\n",
       " 'frexp',\n",
       " 'fsum',\n",
       " 'gamma',\n",
       " 'gcd',\n",
       " 'hypot',\n",
       " 'inf',\n",
       " 'isclose',\n",
       " 'isfinite',\n",
       " 'isinf',\n",
       " 'isnan',\n",
       " 'isqrt',\n",
       " 'lcm',\n",
       " 'ldexp',\n",
       " 'lgamma',\n",
       " 'log',\n",
       " 'log10',\n",
       " 'log1p',\n",
       " 'log2',\n",
       " 'modf',\n",
       " 'nan',\n",
       " 'nextafter',\n",
       " 'perm',\n",
       " 'pi',\n",
       " 'pow',\n",
       " 'prod',\n",
       " 'radians',\n",
       " 'remainder',\n",
       " 'sin',\n",
       " 'sinh',\n",
       " 'sqrt',\n",
       " 'tan',\n",
       " 'tanh',\n",
       " 'tau',\n",
       " 'trunc',\n",
       " 'ulp']"
      ]
     },
     "execution_count": 5,
     "metadata": {},
     "output_type": "execute_result"
    }
   ],
   "source": [
    "dir(math)   # diroctory- only functions"
   ]
  },
  {
   "cell_type": "code",
   "execution_count": 7,
   "id": "e36e45d5",
   "metadata": {},
   "outputs": [],
   "source": [
    "import math"
   ]
  },
  {
   "cell_type": "code",
   "execution_count": 8,
   "id": "ff311424",
   "metadata": {},
   "outputs": [
    {
     "data": {
      "text/plain": [
       "3.0"
      ]
     },
     "execution_count": 8,
     "metadata": {},
     "output_type": "execute_result"
    }
   ],
   "source": [
    "math.sqrt(9)"
   ]
  },
  {
   "cell_type": "code",
   "execution_count": 2,
   "id": "103b84e1",
   "metadata": {},
   "outputs": [],
   "source": [
    "import math as m"
   ]
  },
  {
   "cell_type": "code",
   "execution_count": 3,
   "id": "9e226a0e",
   "metadata": {},
   "outputs": [
    {
     "data": {
      "text/plain": [
       "3.0"
      ]
     },
     "execution_count": 3,
     "metadata": {},
     "output_type": "execute_result"
    }
   ],
   "source": [
    "m.sqrt(9)"
   ]
  },
  {
   "cell_type": "code",
   "execution_count": 4,
   "id": "b7d06a4c",
   "metadata": {},
   "outputs": [
    {
     "data": {
      "text/plain": [
       "3"
      ]
     },
     "execution_count": 4,
     "metadata": {},
     "output_type": "execute_result"
    }
   ],
   "source": [
    "m.ceil(2.1)    # it will round the flot to next number"
   ]
  },
  {
   "cell_type": "code",
   "execution_count": 5,
   "id": "78d56530",
   "metadata": {},
   "outputs": [],
   "source": [
    "from math import sqrt"
   ]
  },
  {
   "cell_type": "code",
   "execution_count": 6,
   "id": "1a0d900c",
   "metadata": {},
   "outputs": [
    {
     "data": {
      "text/plain": [
       "3.0"
      ]
     },
     "execution_count": 6,
     "metadata": {},
     "output_type": "execute_result"
    }
   ],
   "source": [
    "sqrt(9)"
   ]
  },
  {
   "cell_type": "code",
   "execution_count": 7,
   "id": "743dcab4",
   "metadata": {},
   "outputs": [
    {
     "ename": "NameError",
     "evalue": "name 'ceil' is not defined",
     "output_type": "error",
     "traceback": [
      "\u001b[1;31m---------------------------------------------------------------------------\u001b[0m",
      "\u001b[1;31mNameError\u001b[0m                                 Traceback (most recent call last)",
      "Cell \u001b[1;32mIn[7], line 1\u001b[0m\n\u001b[1;32m----> 1\u001b[0m ceil(\u001b[38;5;241m2.1\u001b[39m)\n",
      "\u001b[1;31mNameError\u001b[0m: name 'ceil' is not defined"
     ]
    }
   ],
   "source": [
    "ceil(2.1)  "
   ]
  },
  {
   "cell_type": "markdown",
   "id": "f169ef93",
   "metadata": {},
   "source": [
    "# importing our own modules"
   ]
  },
  {
   "cell_type": "markdown",
   "id": "6681369d",
   "metadata": {},
   "source": [
    "first we have to code (write) a module and download it as a .py file and copy paste or uplode it to same folder that we are coding"
   ]
  },
  {
   "cell_type": "code",
   "execution_count": 11,
   "id": "76967abd",
   "metadata": {},
   "outputs": [],
   "source": [
    "import module1 as m"
   ]
  },
  {
   "cell_type": "code",
   "execution_count": 12,
   "id": "bab68763",
   "metadata": {},
   "outputs": [
    {
     "data": {
      "text/plain": [
       "'module_programming'"
      ]
     },
     "execution_count": 12,
     "metadata": {},
     "output_type": "execute_result"
    }
   ],
   "source": [
    "m.msg   # calling from module1 "
   ]
  },
  {
   "cell_type": "code",
   "execution_count": 13,
   "id": "114326cd",
   "metadata": {},
   "outputs": [
    {
     "name": "stdout",
     "output_type": "stream",
     "text": [
      "hellooooo\n"
     ]
    }
   ],
   "source": [
    "m.printing()"
   ]
  },
  {
   "cell_type": "code",
   "execution_count": 15,
   "id": "ff023a7f",
   "metadata": {},
   "outputs": [
    {
     "data": {
      "text/plain": [
       "'this is python file'"
      ]
     },
     "execution_count": 15,
     "metadata": {},
     "output_type": "execute_result"
    }
   ],
   "source": [
    "m.__doc__   # __doc__ is a inbuilt function to print '''  ''' comment in function.\n",
    "            # It will be printed only if it is in the first line   "
   ]
  },
  {
   "cell_type": "code",
   "execution_count": 16,
   "id": "75d68789",
   "metadata": {},
   "outputs": [
    {
     "name": "stdout",
     "output_type": "stream",
     "text": [
      "18\n"
     ]
    }
   ],
   "source": [
    "m.sum_list([3,4,5,6])"
   ]
  },
  {
   "cell_type": "code",
   "execution_count": 17,
   "id": "31785982",
   "metadata": {},
   "outputs": [
    {
     "name": "stdout",
     "output_type": "stream",
     "text": [
      "Help on module module1:\n",
      "\n",
      "NAME\n",
      "    module1 - this is python file\n",
      "\n",
      "FUNCTIONS\n",
      "    printing()\n",
      "    \n",
      "    sum_list(l)\n",
      "\n",
      "DATA\n",
      "    msg = 'module_programming'\n",
      "\n",
      "FILE\n",
      "    c:\\users\\eldho\\jomal\\python\\module1.py\n",
      "\n",
      "\n"
     ]
    }
   ],
   "source": [
    "help(m)"
   ]
  },
  {
   "cell_type": "code",
   "execution_count": 18,
   "id": "95d23285",
   "metadata": {},
   "outputs": [
    {
     "name": "stdout",
     "output_type": "stream",
     "text": [
      "Help on function printing in module module1:\n",
      "\n",
      "printing()\n",
      "\n"
     ]
    }
   ],
   "source": [
    "help(m.printing)"
   ]
  },
  {
   "cell_type": "code",
   "execution_count": 19,
   "id": "d015545f",
   "metadata": {},
   "outputs": [],
   "source": [
    "import module1 as ms  # changing name m to ms"
   ]
  },
  {
   "cell_type": "code",
   "execution_count": 20,
   "id": "22491605",
   "metadata": {},
   "outputs": [
    {
     "name": "stdout",
     "output_type": "stream",
     "text": [
      "hellooooo\n"
     ]
    }
   ],
   "source": [
    "ms.printing()"
   ]
  },
  {
   "cell_type": "code",
   "execution_count": null,
   "id": "6d72ac63",
   "metadata": {},
   "outputs": [],
   "source": []
  }
 ],
 "metadata": {
  "kernelspec": {
   "display_name": "Python 3 (ipykernel)",
   "language": "python",
   "name": "python3"
  },
  "language_info": {
   "codemirror_mode": {
    "name": "ipython",
    "version": 3
   },
   "file_extension": ".py",
   "mimetype": "text/x-python",
   "name": "python",
   "nbconvert_exporter": "python",
   "pygments_lexer": "ipython3",
   "version": "3.11.5"
  }
 },
 "nbformat": 4,
 "nbformat_minor": 5
}
